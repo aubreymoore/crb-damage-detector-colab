{
  "nbformat": 4,
  "nbformat_minor": 0,
  "metadata": {
    "colab": {
      "provenance": [],
      "authorship_tag": "ABX9TyMpVJRGVcX4gxXvO/d42vad",
      "include_colab_link": true
    },
    "kernelspec": {
      "name": "python3",
      "display_name": "Python 3"
    },
    "language_info": {
      "name": "python"
    }
  },
  "cells": [
    {
      "cell_type": "markdown",
      "metadata": {
        "id": "view-in-github",
        "colab_type": "text"
      },
      "source": [
        "<a href=\"https://colab.research.google.com/github/aubreymoore/crb-damage-detector-colab/blob/main/detect_and_annotate.ipynb\" target=\"_parent\"><img src=\"https://colab.research.google.com/assets/colab-badge.svg\" alt=\"Open In Colab\"/></a>"
      ]
    },
    {
      "cell_type": "code",
      "source": [
        "%pip install ipython-autotime -q\n",
        "%load_ext autotime"
      ],
      "metadata": {
        "id": "GJUTRUbHYhRl",
        "outputId": "5b3e9ca2-6131-4a6a-e2c2-edd4dfc5507b",
        "colab": {
          "base_uri": "https://localhost:8080/"
        }
      },
      "execution_count": 1,
      "outputs": [
        {
          "output_type": "stream",
          "name": "stdout",
          "text": [
            "time: 411 µs (started: 2025-08-11 08:10:48 +00:00)\n"
          ]
        }
      ]
    },
    {
      "cell_type": "markdown",
      "source": [
        "# detect_and_annotate.ipynb\n",
        "\n",
        "NOTE: The following documentation is already slightly out of date.\n",
        "Please visit https://github.com/aubreymoore/crb-damage-detector-colab before running this notebook for the first time.\n",
        "\n",
        "This Colab Jupyter notebook runs a custom YOLOv8 object detector which scans images to find three object classes: live coconut palms, dead coconut palms and v-shaped cuts symptomatic of damage caused by coconut rhinoceros beetle, *Oryctes rhinoceros*.\n",
        "\n",
        "IMPORTANT: Shortly after the MAIN PROGRAM section begins executing, a BROWSE button will appear below the active cell to allow you to upload single file of input data from your loacal machine to Colab.\n",
        "\n",
        "**Note that Colab will just sit there and not do anything until you have entered a path to a test file of URLs or a ZIP file of images on your local machine.** [Click here to scroll down to the \"Browser\" button.](#scrollTo=5zSjfTXvIv2q&line=1&uniqifier=1)\n",
        "\n",
        "You may choose between 2 options:\n",
        "* A TEXT file (\\*.txt) containing URLs for images to be scanned. One URL per line. (This is the most efficient option.)\n",
        "* A ZIP file (\\*.zip) containing images to be scanned.\n",
        "\n",
        "\n",
        "Test data are available in a companion GitHub repository at https://github.com/aubreymoore/crb-damage-detector-colab. To use the test data, download it to your local computer it as a [ZIP file](https://github.com/aubreymoore/crb-damage-detector-colab/archive/refs/heads/main.zip) and unzip it. If you have **git** installed, you can clone the repo as an alternative. The TEXT file or ZIP file to be uploaded to Colab will be found in the repository's **data** folder.\n",
        "\n",
        "To scan images, select **Runtime | Run all** on the main menu.\n",
        "Results will be in a temporary OUTPUT folder which you can access using the **File browser** in the left Colab panel.\n",
        "\n",
        "When image scanning is complete, the OUTPUT folder will be compressed into a single ZIP file and automatically downloaded to your computer.\n",
        "\n",
        "### TODO\n",
        "\n",
        "- [ finished 2024-10-19] Reduce size of images in the companion GH repo to max dimension of 960px\n",
        "- [ ] Copy current trained model to companion GH repo\n",
        "- [ ] Copy this Jupyter notebook to companion GH repo\n",
        "- [ ] Add confidence values to bounding box labels.\n",
        "- [ ] Add database to OUTPUT folder\n",
        "- [ ] Extract GPS coordinates from image files\n",
        "- [ ] Figure out how to use URLs to access images stored on OneDrive (Sharepoint)"
      ],
      "metadata": {
        "id": "EUB3xquwb6sI"
      }
    },
    {
      "cell_type": "markdown",
      "source": [
        "The following cell contains a link to text file which contains a list of image files to be scanned.\n",
        "\n",
        "For example,\n",
        "```https://github.com/aubreymoore/crb-damage-detector-colab/raw/refs/heads/main/data/urls.txt``` links to a file which contains:\n",
        "```\n",
        "https://github.com/aubreymoore/crb-damage-detector-colab/blob/main/data/images/IMG_0532.JPG?raw=true\n",
        "https://github.com/aubreymoore/crb-damage-detector-colab/blob/main/data/images/IMG_0671.JPG?raw=true\n",
        "https://github.com/aubreymoore/crb-damage-detector-colab/blob/main/data/images/IMG_06XX.JPG?raw=true\n",
        "https://github.com/aubreymoore/crb-damage-detector-colab/blob/main/data/images/IMG_0695.JPG?raw=true\n",
        "https://github.com/aubreymoore/crb-damage-detector-colab/blob/main/data/images/IMG_0704.JPG?raw=true\n",
        "https://github.com/aubreymoore/crb-damage-detector-colab/blob/main/data/images/IMG_0713.JPG?raw=true\n",
        "```\n",
        "Edit the following so that the url points to your own data, then ```Run All```."
      ],
      "metadata": {
        "id": "SDnuC4tAuvN3"
      }
    },
    {
      "cell_type": "code",
      "source": [
        "IMAGE_LIST_URL = 'https://github.com/aubreymoore/crb-damage-detector-colab/raw/refs/heads/main/data/urls.txt'"
      ],
      "metadata": {
        "id": "d38obFdBsWut",
        "outputId": "b91dcd13-4bce-48ec-e0e7-160417b30289",
        "colab": {
          "base_uri": "https://localhost:8080/"
        }
      },
      "execution_count": 2,
      "outputs": [
        {
          "output_type": "stream",
          "name": "stdout",
          "text": [
            "time: 641 µs (started: 2025-08-11 08:10:48 +00:00)\n"
          ]
        }
      ]
    },
    {
      "cell_type": "markdown",
      "source": [
        "# Load Python packages which are not preinstalled by Colab"
      ],
      "metadata": {
        "id": "7Rp6VisrdfNv"
      }
    },
    {
      "cell_type": "code",
      "execution_count": 3,
      "metadata": {
        "id": "AggzUm3SRJFO",
        "outputId": "6f807c44-f971-4a7b-8590-f3a9ca56194c",
        "colab": {
          "base_uri": "https://localhost:8080/"
        }
      },
      "outputs": [
        {
          "output_type": "stream",
          "name": "stdout",
          "text": [
            "time: 18.8 s (started: 2025-08-11 08:10:48 +00:00)\n"
          ]
        }
      ],
      "source": [
        "%pip install ultralytics -q\n",
        "%pip install supervision -q\n",
        "%pip install imutils -q\n",
        "%pip install icecream -q"
      ]
    },
    {
      "cell_type": "markdown",
      "source": [
        "# Import modules"
      ],
      "metadata": {
        "id": "l0Uuj0JCi5Ll"
      }
    },
    {
      "cell_type": "code",
      "source": [
        "import cv2\n",
        "import supervision as sv\n",
        "from ultralytics import YOLO\n",
        "import imutils\n",
        "import glob\n",
        "import os\n",
        "import shutil\n",
        "from skimage import io\n",
        "from icecream import ic\n",
        "from google.colab import files\n",
        "# ultralytics.checks()"
      ],
      "metadata": {
        "id": "U1cExUvHRlTA",
        "outputId": "f2ac19c8-1fea-4a22-c8bf-1ea5152875b9",
        "colab": {
          "base_uri": "https://localhost:8080/"
        }
      },
      "execution_count": 4,
      "outputs": [
        {
          "output_type": "stream",
          "name": "stdout",
          "text": [
            "time: 7.34 s (started: 2025-08-11 08:11:07 +00:00)\n"
          ]
        }
      ]
    },
    {
      "cell_type": "markdown",
      "source": [
        "# Load cell timer"
      ],
      "metadata": {
        "id": "KpGhWzQFZfr9"
      }
    },
    {
      "cell_type": "markdown",
      "source": [
        "# Define functions"
      ],
      "metadata": {
        "id": "mV6zIMn0ZRGZ"
      }
    },
    {
      "cell_type": "code",
      "source": [
        "def get_list_from_url(url):\n",
        "  \"\"\"\n",
        "  Downloads a text file from a URL and returns a list of its lines.\n",
        "  \"\"\"\n",
        "  try:\n",
        "    # Download the file\n",
        "    !wget -q -O temp.txt {url}\n",
        "    # Read the lines into a list\n",
        "    with open('temp.txt', 'r') as f:\n",
        "      lines = f.read().splitlines()\n",
        "    # Clean up the temporary file\n",
        "    os.remove('temp.txt')\n",
        "    return lines\n",
        "  except Exception as e:\n",
        "    print(f\"Error downloading or reading file from {url}: {e}\")\n",
        "    return None\n",
        "\n",
        "# # Example usage (replace with actual URL)\n",
        "# url = 'https://github.com/aubreymoore/crb-damage-detector-colab/raw/refs/heads/main/data/urls.txt'\n",
        "# my_list = get_list_from_url(url)\n",
        "# if my_list:\n",
        "#   print(\"List created from URL:\")\n",
        "#   print(my_list)\n",
        "# else:\n",
        "#   print(\"Failed to create list from URL.\")"
      ],
      "metadata": {
        "id": "CS3etxbCq5dh",
        "outputId": "de02fb98-8014-4425-e433-8998d402a131",
        "colab": {
          "base_uri": "https://localhost:8080/"
        }
      },
      "execution_count": 5,
      "outputs": [
        {
          "output_type": "stream",
          "name": "stdout",
          "text": [
            "time: 1.54 ms (started: 2025-08-11 08:11:14 +00:00)\n"
          ]
        }
      ]
    },
    {
      "cell_type": "code",
      "source": [
        "def upload_model_weights():\n",
        "  '''\n",
        "  Upload model weights from GitHub repo to **weights.pt** only if this file does not already exist.\n",
        "  '''\n",
        "  !wget -nc https://github.com/aubreymoore/code-for-CRB-damage-ai/raw/refs/heads/main/models/3class/train5/weights/best.pt -O weights.pt\n",
        "\n",
        "# upload_model_weights()"
      ],
      "metadata": {
        "id": "7Yc80WosFV0G",
        "outputId": "1686de01-daf5-4417-e542-7eaaef200d7b",
        "colab": {
          "base_uri": "https://localhost:8080/"
        }
      },
      "execution_count": 6,
      "outputs": [
        {
          "output_type": "stream",
          "name": "stdout",
          "text": [
            "time: 815 µs (started: 2025-08-11 08:11:14 +00:00)\n"
          ]
        }
      ]
    },
    {
      "cell_type": "code",
      "source": [
        "def load_model_weights():\n",
        "  model = YOLO('weights.pt')"
      ],
      "metadata": {
        "id": "IN7dkUz24841",
        "outputId": "7537433f-271e-40f5-97ab-e2912cb8bf32",
        "colab": {
          "base_uri": "https://localhost:8080/"
        }
      },
      "execution_count": 7,
      "outputs": [
        {
          "output_type": "stream",
          "name": "stdout",
          "text": [
            "time: 657 µs (started: 2025-08-11 08:11:14 +00:00)\n"
          ]
        }
      ]
    },
    {
      "cell_type": "code",
      "source": [
        "def create_input_folder():\n",
        "  if not os.path.exists('INPUT'):\n",
        "    os.makedirs('INPUT')\n",
        "\n",
        "# create_input_folder()"
      ],
      "metadata": {
        "id": "TEW_0vwRZWEV",
        "outputId": "ee0c8ddc-8600-4d7b-efcc-0f974c683fa5",
        "colab": {
          "base_uri": "https://localhost:8080/"
        }
      },
      "execution_count": 8,
      "outputs": [
        {
          "output_type": "stream",
          "name": "stdout",
          "text": [
            "time: 749 µs (started: 2025-08-11 08:11:14 +00:00)\n"
          ]
        }
      ]
    },
    {
      "cell_type": "code",
      "source": [
        "def create_output_folder():\n",
        "  if not os.path.exists('OUTPUT'):\n",
        "    os.makedirs('OUTPUT')\n",
        "\n",
        "# create_output_folder()"
      ],
      "metadata": {
        "id": "OH8-tflD8taN",
        "outputId": "2efa2e36-7538-44b3-dda9-d49856aeac52",
        "colab": {
          "base_uri": "https://localhost:8080/"
        }
      },
      "execution_count": 9,
      "outputs": [
        {
          "output_type": "stream",
          "name": "stdout",
          "text": [
            "time: 767 µs (started: 2025-08-11 08:11:14 +00:00)\n"
          ]
        }
      ]
    },
    {
      "cell_type": "code",
      "source": [
        "def run_garbage_disposal():\n",
        "  '''\n",
        "  Delete any data files left over from the last run.\n",
        "  '''\n",
        "  shutil.rmtree('INPUT', ignore_errors=True)\n",
        "  shutil.rmtree('OUTPUT', ignore_errors=True)\n",
        "  shutil.rmtree('sample_data', ignore_errors=True)\n",
        "\n",
        "  try:\n",
        "    os.remove('weights.pt')\n",
        "  except OSError:\n",
        "    pass\n",
        "\n",
        "# run_garbage_disposal()"
      ],
      "metadata": {
        "id": "N5Bb4M-9xLUr",
        "outputId": "5de17c64-da6f-4f51-edcb-1336902824c5",
        "colab": {
          "base_uri": "https://localhost:8080/"
        }
      },
      "execution_count": 10,
      "outputs": [
        {
          "output_type": "stream",
          "name": "stdout",
          "text": [
            "time: 1.03 ms (started: 2025-08-11 08:11:14 +00:00)\n"
          ]
        }
      ]
    },
    {
      "cell_type": "code",
      "source": [
        "def upload_and_unpack_zip_or_txt():\n",
        "  '''\n",
        "  Upload images (*.zip) or list of URLs (*.txt)\n",
        "  '''\n",
        "  uploaded = files.upload(target_dir='INPUT')\n",
        "  filename = list(uploaded.keys())[0]\n",
        "\n",
        "  urls = None\n",
        "  image_file_dir = None\n",
        "\n",
        "  if filename.endswith('.txt'):\n",
        "    input_mode = 'text'\n",
        "    with open(filename, 'r') as f:\n",
        "      urls = f.read().splitlines()\n",
        "  elif filename.endswith('.zip'):\n",
        "    input_mode = 'zip'\n",
        "    !unzip -q $filename -d INPUT\n",
        "    image_file_dir = f'INPUT/{filename}'.replace('.zip', '')\n",
        "    ic(image_file_dir)\n",
        "  else:\n",
        "    raise ValueError('INPUT file must be *.txt or *.zip.')\n",
        "  return input_mode, urls, image_file_dir\n",
        "\n",
        "# input_mode, urls, image_file_dir = upload_and_unpack_zip_or_txt()\n",
        "# ic(input_mode)\n",
        "# ic(urls)\n",
        "# ic(image_file_dir)"
      ],
      "metadata": {
        "id": "7PC5mvkBasff",
        "outputId": "e178e62f-5fad-4152-98d9-e0456ebce83d",
        "colab": {
          "base_uri": "https://localhost:8080/"
        }
      },
      "execution_count": 11,
      "outputs": [
        {
          "output_type": "stream",
          "name": "stdout",
          "text": [
            "time: 1.65 ms (started: 2025-08-11 08:11:14 +00:00)\n"
          ]
        }
      ]
    },
    {
      "cell_type": "code",
      "source": [
        "def get_input_file_list():\n",
        "  return glob.glob(f'INPUT/**/*', recursive=True)\n",
        "\n",
        "# get_input_file_list()"
      ],
      "metadata": {
        "id": "GgC0yLmO7DFp",
        "outputId": "366810a7-a097-4dee-ef1f-a60f5267172f",
        "colab": {
          "base_uri": "https://localhost:8080/"
        }
      },
      "execution_count": 12,
      "outputs": [
        {
          "output_type": "stream",
          "name": "stdout",
          "text": [
            "time: 633 µs (started: 2025-08-11 08:11:14 +00:00)\n"
          ]
        }
      ]
    },
    {
      "cell_type": "code",
      "source": [
        "def detect_objects(image, model, box_annotator, label_annotator, csv_sink):\n",
        "  '''\n",
        "  detect objects in an image\n",
        "  returns detections and an annotated image\n",
        "  '''\n",
        "  results = model(image)[0]\n",
        "  detections = sv.Detections.from_ultralytics(results)\n",
        "  # ic(detections)\n",
        "  annotated_image = box_annotator.annotate(image, detections=detections)\n",
        "  labels = [f\"{model.model.names[class_id]} {confidence:.2f}\" for class_id, confidence in zip(detections.class_id, detections.confidence)]\n",
        "  annotated_image = label_annotator.annotate(scene=annotated_image, detections=detections, labels=labels)\n",
        "  return detections, annotated_image\n",
        "\n",
        "# csv_sink = sv.CSVSink('detections.csv')\n",
        "# csv_sink.open()\n",
        "\n",
        "# upload_model_weights()\n",
        "# model = YOLO('weights.pt')\n",
        "# box_annotator = sv.BoxAnnotator()\n",
        "# label_annotator = sv.LabelAnnotator()\n",
        "\n",
        "# url = 'https://github.com/aubreymoore/crb-damage-detector-colab/blob/main/data/Vanuatu_July_2022_Sulav/resized-images/IMG_0532.JPG?raw=true'\n",
        "# image = imutils.url_to_image(url)\n",
        "# detections, annotated_image = detect_objects(image, model, box_annotator, label_annotator, csv_sink)\n",
        "# ic(detections)\n",
        "# sv.plot_image(annotated_image)\n",
        "\n",
        "# custom_data = {'url': url}\n",
        "# csv_sink.append(detections, custom_data)\n",
        "\n",
        "# csv_sink.close()"
      ],
      "metadata": {
        "id": "DIMCMtn5va3d",
        "outputId": "93d23b66-1273-4055-f858-bd78ca53ef96",
        "colab": {
          "base_uri": "https://localhost:8080/"
        }
      },
      "execution_count": 13,
      "outputs": [
        {
          "output_type": "stream",
          "name": "stdout",
          "text": [
            "time: 4.87 ms (started: 2025-08-11 08:11:14 +00:00)\n"
          ]
        }
      ]
    },
    {
      "cell_type": "markdown",
      "source": [
        "# MAIN PROGRAM"
      ],
      "metadata": {
        "id": "uOi1eL7K7Paw"
      }
    },
    {
      "cell_type": "code",
      "source": [
        "# Clear data files from previous run\n",
        "run_garbage_disposal()\n",
        "\n",
        "create_input_folder()\n",
        "create_output_folder()\n",
        "\n",
        "# Upload images or list of URLs\n",
        "# input_mode, urls, image_file_dir = upload_and_unpack_zip_or_txt()\n",
        "\n",
        "urls = get_list_from_url(IMAGE_LIST_URL)\n",
        "\n",
        "# Upload weights from trained model and load them\n",
        "upload_model_weights()\n",
        "model = YOLO('weights.pt')\n",
        "\n",
        "box_annotator = sv.BoxAnnotator()\n",
        "label_annotator = sv.LabelAnnotator()\n",
        "csv_sink = sv.CSVSink('OUTPUT/detections.csv')\n",
        "csv_sink.open()\n",
        "\n",
        "input_mode = 'text' # force user to provide a list of urls\n",
        "\n",
        "# Scan images\n",
        "if input_mode == 'text':\n",
        "  for url in urls:\n",
        "    try:\n",
        "      image = imutils.url_to_image(url)\n",
        "      detections, annotated_image = detect_objects(image, model, box_annotator, label_annotator, csv_sink)\n",
        "      csv_sink.append(\n",
        "          detections,\n",
        "          custom_data={'image_h': image.shape[0], 'image_w': image.shape[1], 'source': url}\n",
        "      )\n",
        "\n",
        "      # Extract filename from URL\n",
        "      filename = url.split('/')[-1]\n",
        "      pos = filename.find('?')\n",
        "      if pos >= 0:\n",
        "        filename = filename[:pos]\n",
        "      output_path = f'OUTPUT/{filename}'.replace('.', '_annotated.')\n",
        "      ic(output_path)\n",
        "      os.makedirs(os.path.dirname(output_path), exist_ok = True)\n",
        "      cv2.imwrite(output_path, annotated_image)\n",
        "    except:\n",
        "      print(f'Error processing {url}')\n",
        "    continue\n",
        "\n",
        "if input_mode == 'zip':\n",
        "  input_file_list = get_input_file_list()\n",
        "  ic(input_file_list)\n",
        "  for image_path in input_file_list:\n",
        "    ic(image_path)\n",
        "    try:\n",
        "      image = cv2.imread(image_path)\n",
        "      detections, annotated_image = detect_objects(image, model, box_annotator, label_annotator, csv_sink)\n",
        "      csv_sink.append(\n",
        "          detections,\n",
        "          custom_data={'image_h': image.shape[0], 'image_w': image.shape[1], 'source': image_path}\n",
        "      )\n",
        "\n",
        "      filename = os.path.basename(image_path)\n",
        "      output_path = f'OUTPUT/{filename}'.replace('.', '_annotated.')\n",
        "      os.makedirs(os.path.dirname(output_path), exist_ok = True)\n",
        "      result = cv2.imwrite(output_path, annotated_image)\n",
        "    except:\n",
        "      print(f'Error processing {image_path}')\n",
        "    continue\n",
        "\n",
        "csv_sink.close()"
      ],
      "metadata": {
        "id": "kGRopezOreIr",
        "outputId": "557f80e9-f752-4e5d-e157-4ee2c32dca51",
        "colab": {
          "base_uri": "https://localhost:8080/"
        }
      },
      "execution_count": 14,
      "outputs": [
        {
          "output_type": "stream",
          "name": "stdout",
          "text": [
            "--2025-08-11 08:11:15--  https://github.com/aubreymoore/code-for-CRB-damage-ai/raw/refs/heads/main/models/3class/train5/weights/best.pt\n",
            "Resolving github.com (github.com)... 140.82.121.3\n",
            "Connecting to github.com (github.com)|140.82.121.3|:443... connected.\n",
            "HTTP request sent, awaiting response... 302 Found\n",
            "Location: https://raw.githubusercontent.com/aubreymoore/code-for-CRB-damage-ai/refs/heads/main/models/3class/train5/weights/best.pt [following]\n",
            "--2025-08-11 08:11:16--  https://raw.githubusercontent.com/aubreymoore/code-for-CRB-damage-ai/refs/heads/main/models/3class/train5/weights/best.pt\n",
            "Resolving raw.githubusercontent.com (raw.githubusercontent.com)... 185.199.111.133, 185.199.110.133, 185.199.108.133, ...\n",
            "Connecting to raw.githubusercontent.com (raw.githubusercontent.com)|185.199.111.133|:443... connected.\n",
            "HTTP request sent, awaiting response... 200 OK\n",
            "Length: 6269721 (6.0M) [application/octet-stream]\n",
            "Saving to: ‘weights.pt’\n",
            "\n",
            "weights.pt          100%[===================>]   5.98M  --.-KB/s    in 0.04s   \n",
            "\n",
            "2025-08-11 08:11:16 (136 MB/s) - ‘weights.pt’ saved [6269721/6269721]\n",
            "\n",
            "\n",
            "0: 736x960 11 lives, 2 vcuts, 885.9ms\n",
            "Speed: 45.2ms preprocess, 885.9ms inference, 2.6ms postprocess per image at shape (1, 3, 736, 960)\n"
          ]
        },
        {
          "output_type": "stream",
          "name": "stderr",
          "text": [
            "ic| output_path: 'OUTPUT/IMG_0532_annotated.JPG'\n"
          ]
        },
        {
          "output_type": "stream",
          "name": "stdout",
          "text": [
            "\n",
            "0: 736x960 4 lives, 1 dead, 1664.0ms\n",
            "Speed: 30.7ms preprocess, 1664.0ms inference, 3.0ms postprocess per image at shape (1, 3, 736, 960)\n"
          ]
        },
        {
          "output_type": "stream",
          "name": "stderr",
          "text": [
            "ic| output_path: 'OUTPUT/IMG_0671_annotated.JPG'\n"
          ]
        },
        {
          "output_type": "stream",
          "name": "stdout",
          "text": [
            "WARNING ⚠️ 'source' is missing. Using 'source=/usr/local/lib/python3.11/dist-packages/ultralytics/assets'.\n",
            "\n",
            "image 1/2 /usr/local/lib/python3.11/dist-packages/ultralytics/assets/bus.jpg: 960x736 (no detections), 1169.6ms\n",
            "image 2/2 /usr/local/lib/python3.11/dist-packages/ultralytics/assets/zidane.jpg: 544x960 (no detections), 610.7ms\n",
            "Speed: 26.9ms preprocess, 890.1ms inference, 1.2ms postprocess per image at shape (1, 3, 544, 960)\n",
            "Error processing https://github.com/aubreymoore/crb-damage-detector-colab/blob/main/data/images/IMG_06XX.JPG?raw=true\n",
            "\n",
            "0: 960x736 3 lives, 954.2ms\n",
            "Speed: 13.8ms preprocess, 954.2ms inference, 2.1ms postprocess per image at shape (1, 3, 960, 736)\n"
          ]
        },
        {
          "output_type": "stream",
          "name": "stderr",
          "text": [
            "ic| output_path: 'OUTPUT/IMG_0695_annotated.JPG'\n"
          ]
        },
        {
          "output_type": "stream",
          "name": "stdout",
          "text": [
            "\n",
            "0: 736x960 4 lives, 3 vcuts, 900.1ms\n",
            "Speed: 6.3ms preprocess, 900.1ms inference, 2.0ms postprocess per image at shape (1, 3, 736, 960)\n"
          ]
        },
        {
          "output_type": "stream",
          "name": "stderr",
          "text": [
            "ic| output_path: 'OUTPUT/IMG_0704_annotated.JPG'\n"
          ]
        },
        {
          "output_type": "stream",
          "name": "stdout",
          "text": [
            "\n",
            "0: 960x736 2 lives, 1 vcut, 404.4ms\n",
            "Speed: 34.2ms preprocess, 404.4ms inference, 1.4ms postprocess per image at shape (1, 3, 960, 736)\n"
          ]
        },
        {
          "output_type": "stream",
          "name": "stderr",
          "text": [
            "ic| output_path: 'OUTPUT/IMG_0713_annotated.JPG'\n"
          ]
        },
        {
          "output_type": "stream",
          "name": "stdout",
          "text": [
            "time: 16.4 s (started: 2025-08-11 08:11:14 +00:00)\n"
          ]
        }
      ]
    },
    {
      "cell_type": "markdown",
      "source": [
        "## Please click on the Browse buttom when it appears above this cell."
      ],
      "metadata": {
        "id": "5zSjfTXvIv2q"
      }
    },
    {
      "cell_type": "markdown",
      "source": [
        "### Download OUTPUT folder as a ZIP file"
      ],
      "metadata": {
        "id": "NTYyOn8QztJW"
      }
    },
    {
      "cell_type": "code",
      "source": [
        "!zip -r OUTPUT.zip OUTPUT"
      ],
      "metadata": {
        "id": "l8tPKEwW4JPa",
        "outputId": "a2fbda93-cd35-41cf-81b1-ebb996c0e423",
        "colab": {
          "base_uri": "https://localhost:8080/"
        }
      },
      "execution_count": 15,
      "outputs": [
        {
          "output_type": "stream",
          "name": "stdout",
          "text": [
            "updating: OUTPUT/ (stored 0%)\n",
            "updating: OUTPUT/IMG_0671_annotated.JPG (deflated 1%)\n",
            "updating: OUTPUT/IMG_0532_annotated.JPG (deflated 0%)\n",
            "updating: OUTPUT/detections.csv (deflated 78%)\n",
            "updating: OUTPUT/IMG_0704_annotated.JPG (deflated 0%)\n",
            "updating: OUTPUT/IMG_0713_annotated.JPG (deflated 1%)\n",
            "updating: OUTPUT/IMG_0695_annotated.JPG (deflated 1%)\n",
            "time: 104 ms (started: 2025-08-11 08:11:31 +00:00)\n"
          ]
        }
      ]
    },
    {
      "cell_type": "code",
      "source": [
        "from google.colab import files\n",
        "files.download(\"OUTPUT.zip\")"
      ],
      "metadata": {
        "id": "ODvR3p_8zG1o",
        "outputId": "45d843db-11e8-4661-849f-df2d981433b5",
        "colab": {
          "base_uri": "https://localhost:8080/",
          "height": 34
        }
      },
      "execution_count": 16,
      "outputs": [
        {
          "output_type": "display_data",
          "data": {
            "text/plain": [
              "<IPython.core.display.Javascript object>"
            ],
            "application/javascript": [
              "\n",
              "    async function download(id, filename, size) {\n",
              "      if (!google.colab.kernel.accessAllowed) {\n",
              "        return;\n",
              "      }\n",
              "      const div = document.createElement('div');\n",
              "      const label = document.createElement('label');\n",
              "      label.textContent = `Downloading \"${filename}\": `;\n",
              "      div.appendChild(label);\n",
              "      const progress = document.createElement('progress');\n",
              "      progress.max = size;\n",
              "      div.appendChild(progress);\n",
              "      document.body.appendChild(div);\n",
              "\n",
              "      const buffers = [];\n",
              "      let downloaded = 0;\n",
              "\n",
              "      const channel = await google.colab.kernel.comms.open(id);\n",
              "      // Send a message to notify the kernel that we're ready.\n",
              "      channel.send({})\n",
              "\n",
              "      for await (const message of channel.messages) {\n",
              "        // Send a message to notify the kernel that we're ready.\n",
              "        channel.send({})\n",
              "        if (message.buffers) {\n",
              "          for (const buffer of message.buffers) {\n",
              "            buffers.push(buffer);\n",
              "            downloaded += buffer.byteLength;\n",
              "            progress.value = downloaded;\n",
              "          }\n",
              "        }\n",
              "      }\n",
              "      const blob = new Blob(buffers, {type: 'application/binary'});\n",
              "      const a = document.createElement('a');\n",
              "      a.href = window.URL.createObjectURL(blob);\n",
              "      a.download = filename;\n",
              "      div.appendChild(a);\n",
              "      a.click();\n",
              "      div.remove();\n",
              "    }\n",
              "  "
            ]
          },
          "metadata": {}
        },
        {
          "output_type": "display_data",
          "data": {
            "text/plain": [
              "<IPython.core.display.Javascript object>"
            ],
            "application/javascript": [
              "download(\"download_3773ea50-e3bd-4375-90a8-b7fa22a9d2fc\", \"OUTPUT.zip\", 1557510)"
            ]
          },
          "metadata": {}
        },
        {
          "output_type": "stream",
          "name": "stdout",
          "text": [
            "time: 5.29 ms (started: 2025-08-11 08:11:31 +00:00)\n"
          ]
        }
      ]
    },
    {
      "cell_type": "markdown",
      "source": [
        "# FINISHED\n",
        "If everything worked as intended, you should find a file named **OUTPUT.zip** in your Downloads folder. Unzip this file to see results."
      ],
      "metadata": {
        "id": "LOCD7_KCdMh1"
      }
    },
    {
      "cell_type": "code",
      "source": [
        "\n",
        "print('FINISHED')"
      ],
      "metadata": {
        "id": "dfWKUVoS2b92",
        "outputId": "104f58d0-f3e3-4e9c-8287-12a20814e9c5",
        "colab": {
          "base_uri": "https://localhost:8080/"
        }
      },
      "execution_count": 17,
      "outputs": [
        {
          "output_type": "stream",
          "name": "stdout",
          "text": [
            "FINISHED\n",
            "time: 2.73 ms (started: 2025-08-11 08:11:31 +00:00)\n"
          ]
        }
      ]
    }
  ]
}