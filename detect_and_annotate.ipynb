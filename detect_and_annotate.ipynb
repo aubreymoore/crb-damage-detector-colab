{
  "nbformat": 4,
  "nbformat_minor": 0,
  "metadata": {
    "colab": {
      "provenance": [],
      "authorship_tag": "ABX9TyMQTw960nCkFDNxrIxvgJa5",
      "include_colab_link": true
    },
    "kernelspec": {
      "name": "python3",
      "display_name": "Python 3"
    },
    "language_info": {
      "name": "python"
    }
  },
  "cells": [
    {
      "cell_type": "markdown",
      "metadata": {
        "id": "view-in-github",
        "colab_type": "text"
      },
      "source": [
        "<a href=\"https://colab.research.google.com/github/aubreymoore/crb-damage-detector-colab/blob/main/detect_and_annotate.ipynb\" target=\"_parent\"><img src=\"https://colab.research.google.com/assets/colab-badge.svg\" alt=\"Open In Colab\"/></a>"
      ]
    },
    {
      "cell_type": "markdown",
      "source": [
        "# detect_and_annotate.ipynb\n",
        "\n",
        "This Colab Jupyter notebook runs a custom YOLOv8 object detector which scans images to find three object classes: live coconut palms, dead coconut palms and v-shaped cuts symptomatic of damage caused by coconut rhinoceros beetle, *Oryctes rhinoceros*.\n",
        "\n",
        "IMPORTANT: Shortly after the MAIN PROGRAM section begins executing, a BROWSE button will appear below the active cell to allow you to upload single file of input data from your loacal machine to Colab.\n",
        "\n",
        "**Note that Colab will just sit there and not do anything until you have entered a path to a test file of URLs or a ZIP file of images on your local machine.**\n",
        "\n",
        "You may choose between 2 options:\n",
        "* A TEXT file (\\*.txt) containing URLs for images to be scanned. One URL per line. (This is the most efficient option.)\n",
        "* A ZIP file (\\*.zip) containing images to be scanned.\n",
        "\n",
        "Test data are available in a companion GitHub repository at https://github.com/aubreymoore/crb-damage-detector-colab. To use the test data, download it to your local computer it as a [ZIP file](https://github.com/aubreymoore/crb-damage-detector-colab/archive/refs/heads/main.zip) and unzip it. If you have **git** installed, you can clone the repo as an alternative. The TEXT file or ZIP file to be uploaded to Colab will be found in the repository's **data** folder.\n",
        "\n",
        "To scan images, select **Runtime | Run all** on the main menu.\n",
        "Results will be in a temporary OUTPUT folder which you can access using the **File browser** in the left Colab panel.\n",
        "\n",
        "When image scanning is complete, the OUTPUT folder will be compressed into a single ZIP file and automatically downloaded to your computer.\n",
        "\n",
        "### TODO\n",
        "\n",
        "- [ finished 2024-10-19] Reduce size of images in the companion GH repo to max dimension of 960px\n",
        "- [ ] Copy current trained model to companion GH repo\n",
        "- [ ] Copy this Jupyter notebook to companion GH repo\n",
        "- [ ] Add confidence values to bounding box labels.\n",
        "- [ ] Add database to OUTPUT folder\n",
        "- [ ] Extract GPS coordinates from image files\n",
        "- [ ] Figure out how to use URLs to access images stored on OneDrive (Sharepoint)"
      ],
      "metadata": {
        "id": "EUB3xquwb6sI"
      }
    },
    {
      "cell_type": "markdown",
      "source": [
        "# Load Python packages which are not preinstalled by Colab"
      ],
      "metadata": {
        "id": "7Rp6VisrdfNv"
      }
    },
    {
      "cell_type": "code",
      "execution_count": null,
      "metadata": {
        "id": "AggzUm3SRJFO"
      },
      "outputs": [],
      "source": [
        "%pip install ultralytics -q\n",
        "%pip install supervision -q\n",
        "%pip install imutils -q\n",
        "%pip install icecream -q\n",
        "%pip install ipython-autotime -q"
      ]
    },
    {
      "cell_type": "markdown",
      "source": [
        "# Import modules"
      ],
      "metadata": {
        "id": "l0Uuj0JCi5Ll"
      }
    },
    {
      "cell_type": "code",
      "source": [
        "import cv2\n",
        "import supervision as sv\n",
        "from ultralytics import YOLO\n",
        "import imutils\n",
        "import glob\n",
        "import os\n",
        "import shutil\n",
        "from skimage import io\n",
        "from icecream import ic\n",
        "from google.colab import files\n",
        "# ultralytics.checks()"
      ],
      "metadata": {
        "id": "U1cExUvHRlTA"
      },
      "execution_count": null,
      "outputs": []
    },
    {
      "cell_type": "markdown",
      "source": [
        "# Load cell timer"
      ],
      "metadata": {
        "id": "KpGhWzQFZfr9"
      }
    },
    {
      "cell_type": "code",
      "source": [
        "%load_ext autotime"
      ],
      "metadata": {
        "id": "GJUTRUbHYhRl"
      },
      "execution_count": null,
      "outputs": []
    },
    {
      "cell_type": "markdown",
      "source": [
        "# Define functions"
      ],
      "metadata": {
        "id": "mV6zIMn0ZRGZ"
      }
    },
    {
      "cell_type": "code",
      "source": [
        "def upload_model_weights():\n",
        "  '''\n",
        "  Upload model weights from GitHub repo to **wefhts.pt** only if this file does not already exist.\n",
        "  '''\n",
        "  !wget -nc https://github.com/aubreymoore/code-for-CRB-damage-ai/raw/refs/heads/main/models/3class/train5/weights/best.pt -O weights.pt\n",
        "\n",
        "# upload_model_weights()"
      ],
      "metadata": {
        "id": "7Yc80WosFV0G"
      },
      "execution_count": null,
      "outputs": []
    },
    {
      "cell_type": "code",
      "source": [
        "def create_input_folder():\n",
        "  if not os.path.exists('INPUT'):\n",
        "    os.makedirs('INPUT')\n",
        "\n",
        "# create_input_folder()"
      ],
      "metadata": {
        "id": "TEW_0vwRZWEV"
      },
      "execution_count": null,
      "outputs": []
    },
    {
      "cell_type": "code",
      "source": [
        "def create_output_folder():\n",
        "  if not os.path.exists('OUTPUT'):\n",
        "    os.makedirs('OUTPUT')\n",
        "\n",
        "# create_output_folder()"
      ],
      "metadata": {
        "id": "OH8-tflD8taN"
      },
      "execution_count": null,
      "outputs": []
    },
    {
      "cell_type": "code",
      "source": [
        "def run_garbage_disposal():\n",
        "  '''\n",
        "  Delete any data files left over from the last run.\n",
        "  Note that the model is not removed.\n",
        "  '''\n",
        "  shutil.rmtree('mydata', ignore_errors=True)\n",
        "  shutil.rmtree('OUTPUT', ignore_errors=True)\n",
        "  try:\n",
        "    os.remove('OUTPUT.zip')\n",
        "  except:\n",
        "    pass\n",
        "\n",
        "# run_garbage_disposal()"
      ],
      "metadata": {
        "id": "N5Bb4M-9xLUr"
      },
      "execution_count": null,
      "outputs": []
    },
    {
      "cell_type": "markdown",
      "source": [
        "# Upload images (\\*.zip) or list of URLs (\\*.txt)\n",
        "\n",
        "When this cell runs, a **Browse** button will appear beneath it.\n",
        "Click on the button and navigate to the file you wan to upload.\n",
        "If you have downloaded the example data from the companion GitHub repo, try\n",
        "uploading something like **/home/aubrey/Desktop/crb-damage-detector-colab/data/urls.txt** or **/home/aubrey/Desktop/crb-damage-detector-colab/data/resized.zip**.\n"
      ],
      "metadata": {
        "id": "tGSvFlEMaRbu"
      }
    },
    {
      "cell_type": "code",
      "source": [
        "def upload_and_unpack_zip_or_txt():\n",
        "\n",
        "  uploaded = files.upload(target_dir='INPUT')\n",
        "  filename = list(uploaded.keys())[0]\n",
        "\n",
        "  urls = None\n",
        "  image_file_dir = None\n",
        "\n",
        "  if filename.endswith('.txt'):\n",
        "    input_mode = 'text'\n",
        "    with open(filename, 'r') as f:\n",
        "      urls = f.read().splitlines()\n",
        "  elif filename.endswith('.zip'):\n",
        "    input_mode = 'zip'\n",
        "    !unzip -q $filename -d INPUT\n",
        "    image_file_dir = f'INPUT/{filename}'.replace('.zip', '')\n",
        "    ic(image_file_dir)\n",
        "  else:\n",
        "    raise ValueError('INPUT file must be *.txt or *.zip.')\n",
        "  return input_mode, urls, image_file_dir\n",
        "\n",
        "# input_mode, urls, image_file_dir = upload_and_unpack_zip_or_txt()\n",
        "# ic(input_mode)\n",
        "# ic(urls)\n",
        "# ic(image_file_dir)"
      ],
      "metadata": {
        "id": "7PC5mvkBasff"
      },
      "execution_count": null,
      "outputs": []
    },
    {
      "cell_type": "markdown",
      "source": [
        "# MAIN PROGRAM"
      ],
      "metadata": {
        "id": "uOi1eL7K7Paw"
      }
    },
    {
      "cell_type": "code",
      "source": [
        "# Clear data files from previous run\n",
        "run_garbage_disposal()\n",
        "\n",
        "# If model is not defined upload weights from tained model and load them\n",
        "try:\n",
        "  model\n",
        "except NameError:\n",
        "  upload_model_weights()\n",
        "  model = YOLO('weights.pt')\n",
        "\n",
        "create_input_folder()\n",
        "create_output_folder()\n",
        "\n",
        "input_mode, urls, image_file_dir = upload_and_unpack_zip_or_txt()\n",
        "ic(input_mode)\n",
        "ic(urls)\n",
        "ic(image_file_dir)\n",
        "\n",
        "box_annotator = sv.BoxAnnotator()\n",
        "label_annotator = sv.LabelAnnotator()\n",
        "\n",
        "if input_mode == 'text':\n",
        "  for url in urls:\n",
        "    try:\n",
        "      image = imutils.url_to_image(url)\n",
        "      results = model(image)[0]\n",
        "      detections = sv.Detections.from_ultralytics(results)\n",
        "      annotated_image = box_annotator.annotate(image, detections=detections)\n",
        "      annotated_image = label_annotator.annotate(scene=annotated_image, detections=detections)\n",
        "      sv.plot_image(annotated_image)\n",
        "\n",
        "      # Extract filename from URL\n",
        "      filename = url.split('/')[-1]\n",
        "      pos = filename.find('?')\n",
        "      if pos >= 0:\n",
        "        filename = filename[:pos]\n",
        "\n",
        "      output_path = f'OUTPUT/{filename}'.replace('.', '_annotated.')\n",
        "      ic(output_path)\n",
        "      os.makedirs(os.path.dirname(output_path), exist_ok = True)\n",
        "      cv2.imwrite(output_path, annotated_image)\n",
        "    except:\n",
        "      print(f'Error processing {url}')\n",
        "    continue\n",
        "\n",
        "if input_mode == 'zip':\n",
        "  # image_file_dir = filename.replace('.zip', '')\n",
        "  ic(image_file_dir)\n",
        "  image_path_list = glob.glob(f'{image_file_dir}/*')\n",
        "  ic(image_path_list)\n",
        "  for image_path in image_path_list:\n",
        "    ic(image_path)\n",
        "    try:\n",
        "      image = cv2.imread(image_path)\n",
        "      ic(type(image))\n",
        "      results = model(image)[0]\n",
        "      detections = sv.Detections.from_ultralytics(results)\n",
        "      annotated_image = box_annotator.annotate(image, detections=detections)\n",
        "      annotated_image = label_annotator.annotate(scene=annotated_image, detections=detections)\n",
        "      # sv.plot_image(annotated_image)\n",
        "\n",
        "      filename = os.path.basename(image_path)\n",
        "      output_path = f'OUTPUT/{filename}'.replace('.', '_annotated.')\n",
        "      ic(output_path)\n",
        "      os.makedirs(os.path.dirname(output_path), exist_ok = True)\n",
        "      result = cv2.imwrite(output_path, annotated_image)\n",
        "      ic(result)\n",
        "    except:\n",
        "      print(f'Error processing {image_path}')\n",
        "    continue"
      ],
      "metadata": {
        "id": "kGRopezOreIr"
      },
      "execution_count": null,
      "outputs": []
    },
    {
      "cell_type": "code",
      "source": [
        "urls"
      ],
      "metadata": {
        "id": "zBXRcGgoaqj1"
      },
      "execution_count": null,
      "outputs": []
    },
    {
      "cell_type": "markdown",
      "source": [
        "### Download OUTPUT folder as a ZIP file"
      ],
      "metadata": {
        "id": "NTYyOn8QztJW"
      }
    },
    {
      "cell_type": "code",
      "source": [
        "!zip -r OUTPUT.zip OUTPUT"
      ],
      "metadata": {
        "id": "l8tPKEwW4JPa"
      },
      "execution_count": null,
      "outputs": []
    },
    {
      "cell_type": "code",
      "source": [
        "from google.colab import files\n",
        "files.download(\"OUTPUT.zip\")"
      ],
      "metadata": {
        "id": "ODvR3p_8zG1o"
      },
      "execution_count": null,
      "outputs": []
    },
    {
      "cell_type": "markdown",
      "source": [
        "# FINISHED\n",
        "If everything worked as intended, you should find a file named **OUTPUT.zip** in your Downloads folder. Unzip this file to see results."
      ],
      "metadata": {
        "id": "LOCD7_KCdMh1"
      }
    },
    {
      "cell_type": "code",
      "source": [
        "print('FINISHED')"
      ],
      "metadata": {
        "id": "dfWKUVoS2b92"
      },
      "execution_count": null,
      "outputs": []
    }
  ]
}