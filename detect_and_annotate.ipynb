{
  "nbformat": 4,
  "nbformat_minor": 0,
  "metadata": {
    "colab": {
      "provenance": [],
      "authorship_tag": "ABX9TyPyeuIxKNwT88sdOokGXe1O",
      "include_colab_link": true
    },
    "kernelspec": {
      "name": "python3",
      "display_name": "Python 3"
    },
    "language_info": {
      "name": "python"
    }
  },
  "cells": [
    {
      "cell_type": "markdown",
      "metadata": {
        "id": "view-in-github",
        "colab_type": "text"
      },
      "source": [
        "<a href=\"https://colab.research.google.com/github/aubreymoore/crb-damage-detector-colab/blob/main/detect_and_annotate.ipynb\" target=\"_parent\"><img src=\"https://colab.research.google.com/assets/colab-badge.svg\" alt=\"Open In Colab\"/></a>"
      ]
    },
    {
      "cell_type": "markdown",
      "source": [
        "This Colab Jupyter is still in development and may change a lot or even fail.\n",
        "\n",
        "If you have any problems, questions, or suggestions please contact me.\n",
        "\n",
        "Aubrey Moore (aubreymoore2013@gmail.com)"
      ],
      "metadata": {
        "id": "li0J-oJK77OU"
      }
    },
    {
      "cell_type": "code",
      "source": [
        "# set up a timer for each cell\n",
        "%pip install ipython-autotime -q\n",
        "%load_ext autotime"
      ],
      "metadata": {
        "id": "GJUTRUbHYhRl",
        "colab": {
          "base_uri": "https://localhost:8080/"
        },
        "outputId": "1d5eb7e8-6428-40e2-f126-1a433bd0fe95"
      },
      "execution_count": 160,
      "outputs": [
        {
          "output_type": "stream",
          "name": "stdout",
          "text": [
            "The autotime extension is already loaded. To reload it, use:\n",
            "  %reload_ext autotime\n",
            "time: 5.01 s (started: 2025-10-22 09:37:10 +00:00)\n"
          ]
        }
      ]
    },
    {
      "cell_type": "markdown",
      "source": [
        "# detect_and_annotate.ipynb\n",
        "\n",
        "NOTE: The following documentation is already slightly out of date.\n",
        "Please visit https://github.com/aubreymoore/crb-damage-detector-colab before running this notebook for the first time.\n",
        "\n",
        "This Colab Jupyter notebook runs a custom YOLOv8 object detector which scans images to find three object classes: live coconut palms, dead coconut palms and v-shaped cuts symptomatic of damage caused by coconut rhinoceros beetle, *Oryctes rhinoceros*.\n",
        "\n",
        "IMPORTANT: Shortly after the MAIN PROGRAM section begins executing, a BROWSE button will appear below the active cell to allow you to upload single file of input data from your loacal machine to Colab.\n",
        "\n",
        "**Note that Colab will just sit there and not do anything until you have entered a path to a test file of URLs or a ZIP file of images on your local machine.** [Click here to scroll down to the \"Browser\" button.](#scrollTo=5zSjfTXvIv2q&line=1&uniqifier=1)\n",
        "\n",
        "You may choose between 2 options:\n",
        "* A TEXT file (\\*.txt) containing URLs for images to be scanned. One URL per line. (This is the most efficient option.)\n",
        "* A ZIP file (\\*.zip) containing images to be scanned.\n",
        "\n",
        "\n",
        "Test data are available in a companion GitHub repository at https://github.com/aubreymoore/crb-damage-detector-colab. To use the test data, download it to your local computer it as a [ZIP file](https://github.com/aubreymoore/crb-damage-detector-colab/archive/refs/heads/main.zip) and unzip it. If you have **git** installed, you can clone the repo as an alternative. The TEXT file or ZIP file to be uploaded to Colab will be found in the repository's **data** folder.\n",
        "\n",
        "To scan images, select **Runtime | Run all** on the main menu.\n",
        "Results will be in a temporary OUTPUT folder which you can access using the **File browser** in the left Colab panel.\n",
        "\n",
        "When image scanning is complete, the OUTPUT folder will be compressed into a single ZIP file and automatically downloaded to your computer.\n",
        "\n",
        "### TODO\n",
        "\n",
        "- [ finished 2024-10-19] Reduce size of images in the companion GH repo to max dimension of 960px\n",
        "- [ ] Copy current trained model to companion GH repo\n",
        "- [ ] Copy this Jupyter notebook to companion GH repo\n",
        "- [ ] Add confidence values to bounding box labels.\n",
        "- [ ] Add database to OUTPUT folder\n",
        "- [ ] Extract GPS coordinates from image files\n",
        "- [ ] Figure out how to use URLs to access images stored on OneDrive (Sharepoint)"
      ],
      "metadata": {
        "id": "EUB3xquwb6sI"
      }
    },
    {
      "cell_type": "markdown",
      "source": [
        "The following cell contains a link to text file which contains a list of image files to be scanned.\n",
        "\n",
        "For example,\n",
        "```https://github.com/aubreymoore/crb-damage-detector-colab/raw/refs/heads/main/data/urls.txt``` links to a file which contains:\n",
        "```\n",
        "https://github.com/aubreymoore/crb-damage-detector-colab/blob/main/data/images/IMG_0532.JPG?raw=true\n",
        "https://github.com/aubreymoore/crb-damage-detector-colab/blob/main/data/images/IMG_0671.JPG?raw=true\n",
        "https://github.com/aubreymoore/crb-damage-detector-colab/blob/main/data/images/IMG_06XX.JPG?raw=true\n",
        "https://github.com/aubreymoore/crb-damage-detector-colab/blob/main/data/images/IMG_0695.JPG?raw=true\n",
        "https://github.com/aubreymoore/crb-damage-detector-colab/blob/main/data/images/IMG_0704.JPG?raw=true\n",
        "https://github.com/aubreymoore/crb-damage-detector-colab/blob/main/data/images/IMG_0713.JPG?raw=true\n",
        "```\n",
        "Edit the following so that the url points to your own data, then press ```Run All``` near the top of this page, and ignore the warning."
      ],
      "metadata": {
        "id": "SDnuC4tAuvN3"
      }
    },
    {
      "cell_type": "markdown",
      "source": [
        "# How to Import Images to be Scanned for CRB Damage\n",
        "\n",
        "This notebook currently uses a single parameter named INPUT_DATA_URL which is  a hyperlink  that determines which images are imported to be scanned for CRB damage. INPUT_DATA_URL points to **a text file containing a list of hyperlinks to images** or **a zip file containing the actual images**.\n",
        "\n",
        "#### Text file example\n",
        "Here is a link to a text file which points to a list of 5 images of coconut palm images from from Vanuatu provided by Sulav Paudel at AgResearch New Zealand.\n",
        "\n",
        "```\n",
        "INPUT_DATA_URL =  'https://github.com/aubreymoore/crb-damage-detector-colab/raw/refs/heads/main/Vanuatu.txt'\n",
        "````\n",
        "\n",
        "[View text file contents.](https://github.com/aubreymoore/crb-damage-detector-colab/blob/main/Vanuatu.txt)\n",
        "\n",
        "#### Zip file example\n",
        "Here is an example of a zip file containing 3 images of coconut palms from Maui provided by  Nicole Ferguson at Hawaii Department of Agriculture.\n",
        "\n",
        "```\n",
        "INPUT_DATA_URL = 'https://github.com/aubreymoore/crb-damage-detector-colab/raw/refs/heads/main/vcuts_maui.zip'\n",
        "````\n",
        "\n",
        "[Download the zip file to your computer.](https://github.com/aubreymoore/crb-damage-detector-colab/raw/refs/heads/main/vcuts_maui.zip)\n"
      ],
      "metadata": {
        "id": "-mttnJKM5Lx0"
      }
    },
    {
      "cell_type": "code",
      "source": [
        "# The last uncommented line will determine where the source of images to be scanned.\n",
        "\n",
        "#  uncomment the following line to scan images in listed in Vanuatu.txt\n",
        "# INPUT_DATA_URL = 'https://github.com/aubreymoore/crb-damage-detector-colab/raw/refs/heads/main/Vanuatu.txt'\n",
        "# INPUT_DATA_URL = 'https://aubreymoore.github.io/CRB-FIDL/image-list.txt'\n",
        "\n",
        "# uncomment the following line to scan images in vcuts_maui.zip\n",
        "# INPUT_DATA_URL = 'https://github.com/aubreymoore/crb-damage-detector-colab/raw/refs/heads/main/vcuts_maui.zip'\n",
        "INPUT_DATA_URL = 'https://github.com/aubreymoore/crb-damage-detection-models/raw/refs/heads/main/datasets/CRB003s/images/val/first10_fromCRB003s_val.zip'"
      ],
      "metadata": {
        "id": "d38obFdBsWut",
        "colab": {
          "base_uri": "https://localhost:8080/"
        },
        "outputId": "9acc091a-6448-48c5-aa43-6732d569051b"
      },
      "execution_count": 161,
      "outputs": [
        {
          "output_type": "stream",
          "name": "stdout",
          "text": [
            "time: 636 µs (started: 2025-10-22 09:37:15 +00:00)\n"
          ]
        }
      ]
    },
    {
      "cell_type": "markdown",
      "source": [
        "# Load Python packages which are not preinstalled by Colab"
      ],
      "metadata": {
        "id": "7Rp6VisrdfNv"
      }
    },
    {
      "cell_type": "code",
      "execution_count": 162,
      "metadata": {
        "id": "AggzUm3SRJFO",
        "colab": {
          "base_uri": "https://localhost:8080/"
        },
        "outputId": "2542637a-ee78-4874-f189-39d2419d9a70"
      },
      "outputs": [
        {
          "output_type": "stream",
          "name": "stdout",
          "text": [
            "time: 36.6 s (started: 2025-10-22 09:37:15 +00:00)\n"
          ]
        }
      ],
      "source": [
        "%pip install ultralytics -q\n",
        "%pip install supervision -q\n",
        "%pip install imutils -q\n",
        "%pip install icecream -q"
      ]
    },
    {
      "cell_type": "markdown",
      "source": [
        "# Import modules"
      ],
      "metadata": {
        "id": "l0Uuj0JCi5Ll"
      }
    },
    {
      "cell_type": "code",
      "source": [
        "import cv2\n",
        "import supervision as sv\n",
        "from ultralytics import YOLO\n",
        "import imutils\n",
        "import glob\n",
        "import os\n",
        "import shutil\n",
        "from skimage import io\n",
        "from icecream import ic\n",
        "from google.colab import files\n",
        "# ultralytics.checks()"
      ],
      "metadata": {
        "id": "U1cExUvHRlTA",
        "colab": {
          "base_uri": "https://localhost:8080/"
        },
        "outputId": "96d97437-112b-4dde-88cf-b5f541a04f23"
      },
      "execution_count": 163,
      "outputs": [
        {
          "output_type": "stream",
          "name": "stdout",
          "text": [
            "time: 757 µs (started: 2025-10-22 09:37:52 +00:00)\n"
          ]
        }
      ]
    },
    {
      "cell_type": "markdown",
      "source": [
        "# Define functions"
      ],
      "metadata": {
        "id": "mV6zIMn0ZRGZ"
      }
    },
    {
      "cell_type": "code",
      "source": [
        "def get_list_from_url(url):\n",
        "  \"\"\"\n",
        "  Downloads a text file from a URL and returns a list of its lines.\n",
        "  \"\"\"\n",
        "  try:\n",
        "    # Download the file\n",
        "    !wget -q -O temp.txt {url}\n",
        "    # Read the lines into a list\n",
        "    with open('temp.txt', 'r') as f:\n",
        "      lines = f.read().splitlines()\n",
        "    # Clean up the temporary file\n",
        "    os.remove('temp.txt')\n",
        "    return lines\n",
        "  except Exception as e:\n",
        "    print(f\"Error downloading or reading file from {url}: {e}\")\n",
        "    return None\n",
        "\n",
        "# # Example usage (replace with actual URL)\n",
        "# url = 'https://github.com/aubreymoore/crb-damage-detector-colab/raw/refs/heads/main/data/urls.txt'\n",
        "# my_list = get_list_from_url(url)\n",
        "# if my_list:\n",
        "#   print(\"List created from URL:\")\n",
        "#   print(my_list)\n",
        "# else:\n",
        "#   print(\"Failed to create list from URL.\")"
      ],
      "metadata": {
        "id": "CS3etxbCq5dh",
        "colab": {
          "base_uri": "https://localhost:8080/"
        },
        "outputId": "24e86b08-0830-41b3-d15a-4b0b0985cd62"
      },
      "execution_count": 164,
      "outputs": [
        {
          "output_type": "stream",
          "name": "stdout",
          "text": [
            "time: 935 µs (started: 2025-10-22 09:37:52 +00:00)\n"
          ]
        }
      ]
    },
    {
      "cell_type": "code",
      "source": [
        "def upload_model_weights():\n",
        "  '''\n",
        "  Upload model weights from GitHub repo to **weights.pt** only if this file does not already exist.\n",
        "  '''\n",
        "  # !wget -nc https://github.com/aubreymoore/code-for-CRB-damage-ai/raw/refs/heads/main/models/3class/train5/weights/best.pt -O weights.pt\n",
        "  !wget -nc https://github.com/aubreymoore/crb-damage-detection-models/raw/refs/heads/main/models/CRB003/weights/CRB003.pt -O weights.pt\n",
        "\n",
        "# upload_model_weights()"
      ],
      "metadata": {
        "id": "7Yc80WosFV0G",
        "colab": {
          "base_uri": "https://localhost:8080/"
        },
        "outputId": "383a0b85-df52-43e0-cea4-146af006505d"
      },
      "execution_count": 165,
      "outputs": [
        {
          "output_type": "stream",
          "name": "stdout",
          "text": [
            "time: 857 µs (started: 2025-10-22 09:37:52 +00:00)\n"
          ]
        }
      ]
    },
    {
      "cell_type": "code",
      "source": [
        "def load_model_weights():\n",
        "  model = YOLO('weights.pt')"
      ],
      "metadata": {
        "id": "IN7dkUz24841",
        "colab": {
          "base_uri": "https://localhost:8080/"
        },
        "outputId": "96ed8c12-ab71-44da-9c50-1fdcdba0ac2a"
      },
      "execution_count": 166,
      "outputs": [
        {
          "output_type": "stream",
          "name": "stdout",
          "text": [
            "time: 735 µs (started: 2025-10-22 09:37:52 +00:00)\n"
          ]
        }
      ]
    },
    {
      "cell_type": "code",
      "source": [
        "def create_input_folder():\n",
        "  if not os.path.exists('INPUT'):\n",
        "    os.makedirs('INPUT')\n",
        "\n",
        "# create_input_folder()"
      ],
      "metadata": {
        "id": "TEW_0vwRZWEV",
        "colab": {
          "base_uri": "https://localhost:8080/"
        },
        "outputId": "2f5f79ea-44d6-491b-a9b7-62d32570edf4"
      },
      "execution_count": 167,
      "outputs": [
        {
          "output_type": "stream",
          "name": "stdout",
          "text": [
            "time: 1.43 ms (started: 2025-10-22 09:37:52 +00:00)\n"
          ]
        }
      ]
    },
    {
      "cell_type": "code",
      "source": [
        "def create_output_folder():\n",
        "  if not os.path.exists('OUTPUT'):\n",
        "    os.makedirs('OUTPUT')\n",
        "\n",
        "# create_output_folder()"
      ],
      "metadata": {
        "id": "OH8-tflD8taN",
        "colab": {
          "base_uri": "https://localhost:8080/"
        },
        "outputId": "a9e42d51-c5b1-45a6-a58f-08ac337af329"
      },
      "execution_count": 168,
      "outputs": [
        {
          "output_type": "stream",
          "name": "stdout",
          "text": [
            "time: 533 µs (started: 2025-10-22 09:37:52 +00:00)\n"
          ]
        }
      ]
    },
    {
      "cell_type": "code",
      "source": [
        "def run_garbage_disposal():\n",
        "  '''\n",
        "  Delete any data files left over from the last run.\n",
        "  '''\n",
        "  shutil.rmtree('INPUT', ignore_errors=True)\n",
        "  shutil.rmtree('OUTPUT', ignore_errors=True)\n",
        "  shutil.rmtree('sample_data', ignore_errors=True)\n",
        "\n",
        "  try:\n",
        "    os.remove('weights.pt')\n",
        "  except OSError:\n",
        "    pass\n",
        "\n",
        "# run_garbage_disposal()"
      ],
      "metadata": {
        "id": "N5Bb4M-9xLUr",
        "colab": {
          "base_uri": "https://localhost:8080/"
        },
        "outputId": "6cde3b6e-1742-4720-a972-f78c1c380d7c"
      },
      "execution_count": 169,
      "outputs": [
        {
          "output_type": "stream",
          "name": "stdout",
          "text": [
            "time: 817 µs (started: 2025-10-22 09:37:52 +00:00)\n"
          ]
        }
      ]
    },
    {
      "cell_type": "code",
      "source": [
        "def upload_and_unpack_zip_or_txt():\n",
        "  '''\n",
        "  Upload images (*.zip) or list of URLs (*.txt)\n",
        "  '''\n",
        "  uploaded = files.upload(target_dir='INPUT')\n",
        "  filename = list(uploaded.keys())[0]\n",
        "\n",
        "  urls = None\n",
        "  image_file_dir = None\n",
        "\n",
        "  if filename.endswith('.txt'):\n",
        "    input_mode = 'text'\n",
        "    with open(filename, 'r') as f:\n",
        "      urls = f.read().splitlines()\n",
        "  elif filename.endswith('.zip'):\n",
        "    input_mode = 'zip'\n",
        "    !unzip -q $filename -d INPUT\n",
        "    image_file_dir = f'INPUT/{filename}'.replace('.zip', '')\n",
        "    ic(image_file_dir)\n",
        "  else:\n",
        "    raise ValueError('INPUT file must be *.txt or *.zip.')\n",
        "  return input_mode, urls, image_file_dir\n",
        "\n",
        "# input_mode, urls, image_file_dir = upload_and_unpack_zip_or_txt()\n",
        "# ic(input_mode)\n",
        "# ic(urls)\n",
        "# ic(image_file_dir)"
      ],
      "metadata": {
        "id": "7PC5mvkBasff",
        "colab": {
          "base_uri": "https://localhost:8080/"
        },
        "outputId": "a347be37-c599-4b8d-ea9a-0ed28c892b7a"
      },
      "execution_count": 170,
      "outputs": [
        {
          "output_type": "stream",
          "name": "stdout",
          "text": [
            "time: 1.09 ms (started: 2025-10-22 09:37:52 +00:00)\n"
          ]
        }
      ]
    },
    {
      "cell_type": "code",
      "source": [
        "def get_input_file_list():\n",
        "  return glob.glob(f'INPUT/**/*', recursive=True)\n",
        "\n",
        "# get_input_file_list()"
      ],
      "metadata": {
        "id": "GgC0yLmO7DFp",
        "colab": {
          "base_uri": "https://localhost:8080/"
        },
        "outputId": "5d42f60a-92c3-4c5b-aa4b-59b512ed8045"
      },
      "execution_count": 171,
      "outputs": [
        {
          "output_type": "stream",
          "name": "stdout",
          "text": [
            "time: 472 µs (started: 2025-10-22 09:37:52 +00:00)\n"
          ]
        }
      ]
    },
    {
      "cell_type": "code",
      "source": [
        "def detect_objects(image, model, box_annotator, label_annotator, csv_sink, mask_annotator):\n",
        "  '''\n",
        "  detect objects in an image\n",
        "  returns detections and an annotated image\n",
        "  '''\n",
        "  results = model(image)[0]\n",
        "  detections = sv.Detections.from_ultralytics(results)\n",
        "  # ic(detections)\n",
        "  annotated_image = box_annotator.annotate(image, detections=detections)\n",
        "  annotated_image = mask_annotator.annotate(scene=annotated_image, detections=detections)\n",
        "  labels = [f\"{model.model.names[class_id]} {confidence:.2f}\" for class_id, confidence in zip(detections.class_id, detections.confidence)]\n",
        "  annotated_image = label_annotator.annotate(scene=annotated_image, detections=detections, labels=labels)\n",
        "  return detections, annotated_image"
      ],
      "metadata": {
        "id": "DIMCMtn5va3d",
        "colab": {
          "base_uri": "https://localhost:8080/"
        },
        "outputId": "0cd02c9e-316d-4b81-f1e3-aefa3e081de0"
      },
      "execution_count": 172,
      "outputs": [
        {
          "output_type": "stream",
          "name": "stdout",
          "text": [
            "time: 1.01 ms (started: 2025-10-22 09:37:52 +00:00)\n"
          ]
        }
      ]
    },
    {
      "cell_type": "code",
      "source": [
        "import requests\n",
        "import zipfile\n",
        "import os\n",
        "\n",
        "def download_and_unzip(url, output_dir):\n",
        "  \"\"\"\n",
        "  Downloads a zip file from a URL and unzips it to a specified directory.\n",
        "\n",
        "  Args:\n",
        "    url: The URL of the zip file.\n",
        "    output_dir: The directory to extract the contents to.\n",
        "  \"\"\"\n",
        "\n",
        "  if not os.path.exists(output_dir):\n",
        "    os.makedirs(output_dir)\n",
        "\n",
        "  local_zip_path = os.path.join(output_dir, url.split('/')[-1])\n",
        "\n",
        "  try:\n",
        "    response = requests.get(url, stream=True)\n",
        "    response.raise_for_status()  # Raise an exception for bad status codes\n",
        "\n",
        "    with open(local_zip_path, 'wb') as f:\n",
        "      for chunk in response.iter_content(chunk_size=8192):\n",
        "        f.write(chunk)\n",
        "\n",
        "    with zipfile.ZipFile(local_zip_path, 'r') as zip_ref:\n",
        "      zip_ref.extractall(output_dir)\n",
        "\n",
        "    os.remove(local_zip_path) # Clean up the downloaded zip file\n",
        "\n",
        "  except requests.exceptions.RequestException as e:\n",
        "    print(f\"Error downloading the file: {e}\")\n",
        "  except zipfile.BadZipFile:\n",
        "    print(\"Error: The downloaded file is not a valid zip file.\")\n",
        "  except Exception as e:\n",
        "    print(f\"An unexpected error occurred: {e}\")\n",
        "\n",
        "# Example usage (uncomment to test)\n",
        "# zip_url = 'https://github.com/aubreymoore/crb-damage-detector-colab/raw/refs/heads/main/vcuts_maui.zip'\n",
        "# output_directory = 'downloaded_zip_contents'\n",
        "# download_and_unzip(zip_url, output_directory)"
      ],
      "metadata": {
        "id": "iMQgLN6pGOlb",
        "colab": {
          "base_uri": "https://localhost:8080/"
        },
        "outputId": "cf65d5dc-bfe2-41fd-bf80-2f56bcd2f294"
      },
      "execution_count": 173,
      "outputs": [
        {
          "output_type": "stream",
          "name": "stdout",
          "text": [
            "time: 2.46 ms (started: 2025-10-22 09:37:52 +00:00)\n"
          ]
        }
      ]
    },
    {
      "cell_type": "markdown",
      "source": [
        "# MAIN PROGRAM"
      ],
      "metadata": {
        "id": "uOi1eL7K7Paw"
      }
    },
    {
      "cell_type": "code",
      "source": [
        "# Clear data files from previous run\n",
        "run_garbage_disposal()\n",
        "\n",
        "create_input_folder()\n",
        "create_output_folder()\n",
        "\n",
        "# Upload images or list of URLs\n",
        "# input_mode, urls, image_file_dir = upload_and_unpack_zip_or_txt()\n",
        "\n",
        "\n",
        "# Upload weights from trained model and load them\n",
        "upload_model_weights()\n",
        "model = YOLO('weights.pt')\n",
        "\n",
        "box_annotator = sv.BoxAnnotator()\n",
        "label_annotator = sv.LabelAnnotator()\n",
        "mask_annotator = sv.MaskAnnotator()    #NEW\n",
        "csv_sink = sv.CSVSink('OUTPUT/detections.csv')\n",
        "csv_sink.open()\n",
        "\n",
        "# Scan images\n",
        "if INPUT_DATA_URL[-4:].lower() == '.txt':\n",
        "  urls = get_list_from_url(INPUT_DATA_URL)\n",
        "  ic(urls)\n",
        "  for url in urls:\n",
        "    try:\n",
        "      image = imutils.url_to_image(url)\n",
        "      detections, annotated_image = detect_objects(image, model, box_annotator, label_annotator, csv_sink, mask_annotator)\n",
        "      csv_sink.append(\n",
        "          detections,\n",
        "          custom_data={'image_h': image.shape[0], 'image_w': image.shape[1], 'source': url}\n",
        "      )\n",
        "\n",
        "      # Extract filename from URL\n",
        "      filename = url.split('/')[-1]\n",
        "      pos = filename.find('?')\n",
        "      if pos >= 0:\n",
        "        filename = filename[:pos]\n",
        "      output_path = f'OUTPUT/{filename}'.replace('.', '_annotated.')\n",
        "      ic(output_path)\n",
        "      os.makedirs(os.path.dirname(output_path), exist_ok = True)\n",
        "      cv2.imwrite(output_path, annotated_image)\n",
        "    except:\n",
        "      print(f'Error processing {url}')\n",
        "    continue\n",
        "\n",
        "if INPUT_DATA_URL[-4:].lower() == '.zip':\n",
        "  download_and_unzip(url=INPUT_DATA_URL, output_dir='INPUT')\n",
        "  input_file_list = get_input_file_list()\n",
        "  ic(input_file_list)\n",
        "  for image_path in input_file_list:\n",
        "    ic(image_path)\n",
        "    try:\n",
        "      image = cv2.imread(image_path)\n",
        "\n",
        "\n",
        "      detections, annotated_image = detect_objects(image, model, box_annotator, label_annotator, csv_sink, mask_annotator)\n",
        "      csv_sink.append(\n",
        "          detections,\n",
        "          custom_data={'image_h': image.shape[0], 'image_w': image.shape[1], 'source': image_path}\n",
        "      )\n",
        "\n",
        "      filename = os.path.basename(image_path)\n",
        "      output_path = f'OUTPUT/{filename}'.replace('.', '_annotated.')\n",
        "      os.makedirs(os.path.dirname(output_path), exist_ok = True)\n",
        "      result = cv2.imwrite(output_path, annotated_image)\n",
        "    except:\n",
        "      print(f'Error processing {image_path}')\n",
        "    continue\n",
        "\n",
        "csv_sink.close()"
      ],
      "metadata": {
        "id": "kGRopezOreIr",
        "colab": {
          "base_uri": "https://localhost:8080/"
        },
        "outputId": "3e52a2c2-953e-4bc6-a4a5-cb9ff4ae570f"
      },
      "execution_count": 174,
      "outputs": [
        {
          "output_type": "stream",
          "name": "stdout",
          "text": [
            "--2025-10-22 09:37:52--  https://github.com/aubreymoore/crb-damage-detection-models/raw/refs/heads/main/models/CRB003/weights/CRB003.pt\n",
            "Resolving github.com (github.com)... 140.82.114.3\n",
            "Connecting to github.com (github.com)|140.82.114.3|:443... connected.\n",
            "HTTP request sent, awaiting response... 302 Found\n",
            "Location: https://raw.githubusercontent.com/aubreymoore/crb-damage-detection-models/refs/heads/main/models/CRB003/weights/CRB003.pt [following]\n",
            "--2025-10-22 09:37:52--  https://raw.githubusercontent.com/aubreymoore/crb-damage-detection-models/refs/heads/main/models/CRB003/weights/CRB003.pt\n",
            "Resolving raw.githubusercontent.com (raw.githubusercontent.com)... 185.199.108.133, 185.199.109.133, 185.199.110.133, ...\n",
            "Connecting to raw.githubusercontent.com (raw.githubusercontent.com)|185.199.108.133|:443... connected.\n",
            "HTTP request sent, awaiting response... 200 OK\n",
            "Length: 20598820 (20M) [application/octet-stream]\n",
            "Saving to: ‘weights.pt’\n",
            "\n",
            "weights.pt          100%[===================>]  19.64M  --.-KB/s    in 0.07s   \n",
            "\n",
            "2025-10-22 09:37:53 (285 MB/s) - ‘weights.pt’ saved [20598820/20598820]\n",
            "\n",
            "\n"
          ]
        },
        {
          "output_type": "stream",
          "name": "stderr",
          "text": [
            "\u001b[38;5;247mic\u001b[39m\u001b[38;5;245m|\u001b[39m\u001b[38;5;245m \u001b[39m\u001b[38;5;247minput_file_list\u001b[39m\u001b[38;5;245m:\u001b[39m\u001b[38;5;245m \u001b[39m\u001b[38;5;245m[\u001b[39m\u001b[38;5;36m'\u001b[39m\u001b[38;5;36mINPUT/20210903_104016.jpg\u001b[39m\u001b[38;5;36m'\u001b[39m\u001b[38;5;245m,\u001b[39m\n",
            "\u001b[38;5;245m                      \u001b[39m\u001b[38;5;36m'\u001b[39m\u001b[38;5;36mINPUT/20210903_110601.jpg\u001b[39m\u001b[38;5;36m'\u001b[39m\u001b[38;5;245m,\u001b[39m\n",
            "\u001b[38;5;245m                      \u001b[39m\u001b[38;5;36m'\u001b[39m\u001b[38;5;36mINPUT/20210903_110556.jpg\u001b[39m\u001b[38;5;36m'\u001b[39m\u001b[38;5;245m,\u001b[39m\n",
            "\u001b[38;5;245m                      \u001b[39m\u001b[38;5;36m'\u001b[39m\u001b[38;5;36mINPUT/20210903_115117.jpg\u001b[39m\u001b[38;5;36m'\u001b[39m\u001b[38;5;245m,\u001b[39m\n",
            "\u001b[38;5;245m                      \u001b[39m\u001b[38;5;36m'\u001b[39m\u001b[38;5;36mINPUT/20220218_103856.jpg\u001b[39m\u001b[38;5;36m'\u001b[39m\u001b[38;5;245m,\u001b[39m\n",
            "\u001b[38;5;245m                      \u001b[39m\u001b[38;5;36m'\u001b[39m\u001b[38;5;36mINPUT/20210903_125537.jpg\u001b[39m\u001b[38;5;36m'\u001b[39m\u001b[38;5;245m,\u001b[39m\n",
            "\u001b[38;5;245m                      \u001b[39m\u001b[38;5;36m'\u001b[39m\u001b[38;5;36mINPUT/20210830_102852.jpg\u001b[39m\u001b[38;5;36m'\u001b[39m\u001b[38;5;245m,\u001b[39m\n",
            "\u001b[38;5;245m                      \u001b[39m\u001b[38;5;36m'\u001b[39m\u001b[38;5;36mINPUT/20210902_125437.jpg\u001b[39m\u001b[38;5;36m'\u001b[39m\u001b[38;5;245m,\u001b[39m\n",
            "\u001b[38;5;245m                      \u001b[39m\u001b[38;5;36m'\u001b[39m\u001b[38;5;36mINPUT/20210824_094010.jpg\u001b[39m\u001b[38;5;36m'\u001b[39m\u001b[38;5;245m,\u001b[39m\n",
            "\u001b[38;5;245m                      \u001b[39m\u001b[38;5;36m'\u001b[39m\u001b[38;5;36mINPUT/20210903_110550.jpg\u001b[39m\u001b[38;5;36m'\u001b[39m\u001b[38;5;245m]\u001b[39m\n",
            "\u001b[38;5;247mic\u001b[39m\u001b[38;5;245m|\u001b[39m\u001b[38;5;245m \u001b[39m\u001b[38;5;247mimage_path\u001b[39m\u001b[38;5;245m:\u001b[39m\u001b[38;5;245m \u001b[39m\u001b[38;5;36m'\u001b[39m\u001b[38;5;36mINPUT/20210903_104016.jpg\u001b[39m\u001b[38;5;36m'\u001b[39m\n"
          ]
        },
        {
          "output_type": "stream",
          "name": "stdout",
          "text": [
            "0: 544x960 1 dead, 1929.2ms\n",
            "Speed: 6.6ms preprocess, 1929.2ms inference, 17.8ms postprocess per image at shape (1, 3, 544, 960)\n",
            "\n"
          ]
        },
        {
          "output_type": "stream",
          "name": "stderr",
          "text": [
            "\u001b[38;5;247mic\u001b[39m\u001b[38;5;245m|\u001b[39m\u001b[38;5;245m \u001b[39m\u001b[38;5;247mimage_path\u001b[39m\u001b[38;5;245m:\u001b[39m\u001b[38;5;245m \u001b[39m\u001b[38;5;36m'\u001b[39m\u001b[38;5;36mINPUT/20210903_110601.jpg\u001b[39m\u001b[38;5;36m'\u001b[39m\n"
          ]
        },
        {
          "output_type": "stream",
          "name": "stdout",
          "text": [
            "0: 544x960 3 deads, 2730.4ms\n",
            "Speed: 5.4ms preprocess, 2730.4ms inference, 41.5ms postprocess per image at shape (1, 3, 544, 960)\n",
            "\n"
          ]
        },
        {
          "output_type": "stream",
          "name": "stderr",
          "text": [
            "\u001b[38;5;247mic\u001b[39m\u001b[38;5;245m|\u001b[39m\u001b[38;5;245m \u001b[39m\u001b[38;5;247mimage_path\u001b[39m\u001b[38;5;245m:\u001b[39m\u001b[38;5;245m \u001b[39m\u001b[38;5;36m'\u001b[39m\u001b[38;5;36mINPUT/20210903_110556.jpg\u001b[39m\u001b[38;5;36m'\u001b[39m\n"
          ]
        },
        {
          "output_type": "stream",
          "name": "stdout",
          "text": [
            "0: 544x960 2 deads, 3380.7ms\n",
            "Speed: 15.1ms preprocess, 3380.7ms inference, 29.3ms postprocess per image at shape (1, 3, 544, 960)\n",
            "\n"
          ]
        },
        {
          "output_type": "stream",
          "name": "stderr",
          "text": [
            "\u001b[38;5;247mic\u001b[39m\u001b[38;5;245m|\u001b[39m\u001b[38;5;245m \u001b[39m\u001b[38;5;247mimage_path\u001b[39m\u001b[38;5;245m:\u001b[39m\u001b[38;5;245m \u001b[39m\u001b[38;5;36m'\u001b[39m\u001b[38;5;36mINPUT/20210903_115117.jpg\u001b[39m\u001b[38;5;36m'\u001b[39m\n"
          ]
        },
        {
          "output_type": "stream",
          "name": "stdout",
          "text": [
            "0: 544x960 1 healthy, 1 damaged, 5 deads, 1 vcut, 2093.9ms\n",
            "Speed: 17.1ms preprocess, 2093.9ms inference, 79.3ms postprocess per image at shape (1, 3, 544, 960)\n",
            "\n"
          ]
        },
        {
          "output_type": "stream",
          "name": "stderr",
          "text": [
            "\u001b[38;5;247mic\u001b[39m\u001b[38;5;245m|\u001b[39m\u001b[38;5;245m \u001b[39m\u001b[38;5;247mimage_path\u001b[39m\u001b[38;5;245m:\u001b[39m\u001b[38;5;245m \u001b[39m\u001b[38;5;36m'\u001b[39m\u001b[38;5;36mINPUT/20220218_103856.jpg\u001b[39m\u001b[38;5;36m'\u001b[39m\n"
          ]
        },
        {
          "output_type": "stream",
          "name": "stdout",
          "text": [
            "0: 544x960 1 dead, 2207.7ms\n",
            "Speed: 11.2ms preprocess, 2207.7ms inference, 8.4ms postprocess per image at shape (1, 3, 544, 960)\n",
            "\n"
          ]
        },
        {
          "output_type": "stream",
          "name": "stderr",
          "text": [
            "\u001b[38;5;247mic\u001b[39m\u001b[38;5;245m|\u001b[39m\u001b[38;5;245m \u001b[39m\u001b[38;5;247mimage_path\u001b[39m\u001b[38;5;245m:\u001b[39m\u001b[38;5;245m \u001b[39m\u001b[38;5;36m'\u001b[39m\u001b[38;5;36mINPUT/20210903_125537.jpg\u001b[39m\u001b[38;5;36m'\u001b[39m\n"
          ]
        },
        {
          "output_type": "stream",
          "name": "stdout",
          "text": [
            "0: 544x960 1 damaged, 3 deads, 1 vcut, 1621.8ms\n",
            "Speed: 7.0ms preprocess, 1621.8ms inference, 19.3ms postprocess per image at shape (1, 3, 544, 960)\n",
            "\n"
          ]
        },
        {
          "output_type": "stream",
          "name": "stderr",
          "text": [
            "\u001b[38;5;247mic\u001b[39m\u001b[38;5;245m|\u001b[39m\u001b[38;5;245m \u001b[39m\u001b[38;5;247mimage_path\u001b[39m\u001b[38;5;245m:\u001b[39m\u001b[38;5;245m \u001b[39m\u001b[38;5;36m'\u001b[39m\u001b[38;5;36mINPUT/20210830_102852.jpg\u001b[39m\u001b[38;5;36m'\u001b[39m\n"
          ]
        },
        {
          "output_type": "stream",
          "name": "stdout",
          "text": [
            "0: 544x960 2 damageds, 3 deads, 1 vcut, 946.3ms\n",
            "Speed: 4.9ms preprocess, 946.3ms inference, 22.5ms postprocess per image at shape (1, 3, 544, 960)\n",
            "\n"
          ]
        },
        {
          "output_type": "stream",
          "name": "stderr",
          "text": [
            "\u001b[38;5;247mic\u001b[39m\u001b[38;5;245m|\u001b[39m\u001b[38;5;245m \u001b[39m\u001b[38;5;247mimage_path\u001b[39m\u001b[38;5;245m:\u001b[39m\u001b[38;5;245m \u001b[39m\u001b[38;5;36m'\u001b[39m\u001b[38;5;36mINPUT/20210902_125437.jpg\u001b[39m\u001b[38;5;36m'\u001b[39m\n"
          ]
        },
        {
          "output_type": "stream",
          "name": "stdout",
          "text": [
            "0: 544x960 1 damaged, 3 deads, 1 vcut, 928.2ms\n",
            "Speed: 4.8ms preprocess, 928.2ms inference, 18.7ms postprocess per image at shape (1, 3, 544, 960)\n",
            "\n"
          ]
        },
        {
          "output_type": "stream",
          "name": "stderr",
          "text": [
            "\u001b[38;5;247mic\u001b[39m\u001b[38;5;245m|\u001b[39m\u001b[38;5;245m \u001b[39m\u001b[38;5;247mimage_path\u001b[39m\u001b[38;5;245m:\u001b[39m\u001b[38;5;245m \u001b[39m\u001b[38;5;36m'\u001b[39m\u001b[38;5;36mINPUT/20210824_094010.jpg\u001b[39m\u001b[38;5;36m'\u001b[39m\n"
          ]
        },
        {
          "output_type": "stream",
          "name": "stdout",
          "text": [
            "0: 544x960 1 damaged, 1 dead, 1 vcut, 1029.5ms\n",
            "Speed: 4.9ms preprocess, 1029.5ms inference, 24.6ms postprocess per image at shape (1, 3, 544, 960)\n",
            "\n"
          ]
        },
        {
          "output_type": "stream",
          "name": "stderr",
          "text": [
            "\u001b[38;5;247mic\u001b[39m\u001b[38;5;245m|\u001b[39m\u001b[38;5;245m \u001b[39m\u001b[38;5;247mimage_path\u001b[39m\u001b[38;5;245m:\u001b[39m\u001b[38;5;245m \u001b[39m\u001b[38;5;36m'\u001b[39m\u001b[38;5;36mINPUT/20210903_110550.jpg\u001b[39m\u001b[38;5;36m'\u001b[39m\n"
          ]
        },
        {
          "output_type": "stream",
          "name": "stdout",
          "text": [
            "0: 544x960 6 deads, 1425.8ms\n",
            "Speed: 5.5ms preprocess, 1425.8ms inference, 39.3ms postprocess per image at shape (1, 3, 544, 960)\n",
            "time: 21 s (started: 2025-10-22 09:37:52 +00:00)\n"
          ]
        }
      ]
    },
    {
      "cell_type": "code",
      "source": [
        "# Clear data files from previous run\n",
        "run_garbage_disposal()\n",
        "\n",
        "create_input_folder()\n",
        "create_output_folder()\n",
        "\n",
        "# Upload images or list of URLs\n",
        "# input_mode, urls, image_file_dir = upload_and_unpack_zip_or_txt()\n",
        "\n",
        "\n",
        "# Upload weights from trained model and load them\n",
        "upload_model_weights()\n",
        "model = YOLO('weights.pt')\n",
        "\n",
        "box_annotator = sv.BoxAnnotator()\n",
        "label_annotator = sv.LabelAnnotator()\n",
        "mask_annotator = sv.MaskAnnotator()    #NEW\n",
        "csv_sink = sv.CSVSink('OUTPUT/detections.csv')\n",
        "csv_sink.open()\n",
        "\n",
        "# Scan images\n",
        "if INPUT_DATA_URL[-4:].lower() == '.txt':\n",
        "  urls = get_list_from_url(INPUT_DATA_URL)\n",
        "  ic(urls)\n",
        "  for url in urls:\n",
        "    try:\n",
        "      image = imutils.url_to_image(url)\n",
        "      detections, annotated_image = detect_objects(image, model, box_annotator, label_annotator, csv_sink, mask_annotator)\n",
        "      csv_sink.append(\n",
        "          detections,\n",
        "          custom_data={'image_h': image.shape[0], 'image_w': image.shape[1], 'source': url}\n",
        "      )\n",
        "\n",
        "      # Extract filename from URL\n",
        "      filename = url.split('/')[-1]\n",
        "      pos = filename.find('?')\n",
        "      if pos >= 0:\n",
        "        filename = filename[:pos]\n",
        "      output_path = f'OUTPUT/{filename}'.replace('.', '_annotated.')\n",
        "      ic(output_path)\n",
        "      os.makedirs(os.path.dirname(output_path), exist_ok = True)\n",
        "      cv2.imwrite(output_path, annotated_image)\n",
        "    except:\n",
        "      print(f'Error processing {url}')\n",
        "    continue\n",
        "\n",
        "if INPUT_DATA_URL[-4:].lower() == '.zip':\n",
        "  download_and_unzip(url=INPUT_DATA_URL, output_dir='INPUT')\n",
        "  input_file_list = get_input_file_list()\n",
        "  ic(input_file_list)\n",
        "  for image_path in input_file_list:\n",
        "    ic(image_path)\n",
        "    try:\n",
        "      image = cv2.imread(image_path)\n",
        "      detections, annotated_image = detect_objects(image, model, box_annotator, label_annotator, csv_sink, mask_annotator)\n",
        "      csv_sink.append(\n",
        "          detections,\n",
        "          custom_data={'image_h': image.shape[0], 'image_w': image.shape[1], 'source': image_path}\n",
        "      )\n",
        "\n",
        "      filename = os.path.basename(image_path)\n",
        "      output_path = f'OUTPUT/{filename}'.replace('.', '_annotated.')\n",
        "      os.makedirs(os.path.dirname(output_path), exist_ok = True)\n",
        "      result = cv2.imwrite(output_path, annotated_image)\n",
        "    except:\n",
        "      print(f'Error processing {image_path}')\n",
        "    continue\n",
        "\n",
        "csv_sink.close()"
      ],
      "metadata": {
        "colab": {
          "base_uri": "https://localhost:8080/"
        },
        "outputId": "ddd20ec9-7d35-4a7c-b2a7-500a8be99322",
        "id": "oHPSP4gURyKy"
      },
      "execution_count": 175,
      "outputs": [
        {
          "output_type": "stream",
          "name": "stdout",
          "text": [
            "--2025-10-22 09:38:13--  https://github.com/aubreymoore/crb-damage-detection-models/raw/refs/heads/main/models/CRB003/weights/CRB003.pt\n",
            "Resolving github.com (github.com)... 140.82.114.4\n",
            "Connecting to github.com (github.com)|140.82.114.4|:443... connected.\n",
            "HTTP request sent, awaiting response... 302 Found\n",
            "Location: https://raw.githubusercontent.com/aubreymoore/crb-damage-detection-models/refs/heads/main/models/CRB003/weights/CRB003.pt [following]\n",
            "--2025-10-22 09:38:13--  https://raw.githubusercontent.com/aubreymoore/crb-damage-detection-models/refs/heads/main/models/CRB003/weights/CRB003.pt\n",
            "Resolving raw.githubusercontent.com (raw.githubusercontent.com)... 185.199.110.133, 185.199.111.133, 185.199.108.133, ...\n",
            "Connecting to raw.githubusercontent.com (raw.githubusercontent.com)|185.199.110.133|:443... connected.\n",
            "HTTP request sent, awaiting response... 200 OK\n",
            "Length: 20598820 (20M) [application/octet-stream]\n",
            "Saving to: ‘weights.pt’\n",
            "\n",
            "weights.pt          100%[===================>]  19.64M  --.-KB/s    in 0.06s   \n",
            "\n",
            "2025-10-22 09:38:13 (318 MB/s) - ‘weights.pt’ saved [20598820/20598820]\n",
            "\n"
          ]
        },
        {
          "output_type": "stream",
          "name": "stderr",
          "text": [
            "\u001b[38;5;247mic\u001b[39m\u001b[38;5;245m|\u001b[39m\u001b[38;5;245m \u001b[39m\u001b[38;5;247minput_file_list\u001b[39m\u001b[38;5;245m:\u001b[39m\u001b[38;5;245m \u001b[39m\u001b[38;5;245m[\u001b[39m\u001b[38;5;36m'\u001b[39m\u001b[38;5;36mINPUT/20210903_104016.jpg\u001b[39m\u001b[38;5;36m'\u001b[39m\u001b[38;5;245m,\u001b[39m\n",
            "\u001b[38;5;245m                      \u001b[39m\u001b[38;5;36m'\u001b[39m\u001b[38;5;36mINPUT/20210903_110601.jpg\u001b[39m\u001b[38;5;36m'\u001b[39m\u001b[38;5;245m,\u001b[39m\n",
            "\u001b[38;5;245m                      \u001b[39m\u001b[38;5;36m'\u001b[39m\u001b[38;5;36mINPUT/20210903_110556.jpg\u001b[39m\u001b[38;5;36m'\u001b[39m\u001b[38;5;245m,\u001b[39m\n",
            "\u001b[38;5;245m                      \u001b[39m\u001b[38;5;36m'\u001b[39m\u001b[38;5;36mINPUT/20210903_115117.jpg\u001b[39m\u001b[38;5;36m'\u001b[39m\u001b[38;5;245m,\u001b[39m\n",
            "\u001b[38;5;245m                      \u001b[39m\u001b[38;5;36m'\u001b[39m\u001b[38;5;36mINPUT/20220218_103856.jpg\u001b[39m\u001b[38;5;36m'\u001b[39m\u001b[38;5;245m,\u001b[39m\n",
            "\u001b[38;5;245m                      \u001b[39m\u001b[38;5;36m'\u001b[39m\u001b[38;5;36mINPUT/20210903_125537.jpg\u001b[39m\u001b[38;5;36m'\u001b[39m\u001b[38;5;245m,\u001b[39m\n",
            "\u001b[38;5;245m                      \u001b[39m\u001b[38;5;36m'\u001b[39m\u001b[38;5;36mINPUT/20210830_102852.jpg\u001b[39m\u001b[38;5;36m'\u001b[39m\u001b[38;5;245m,\u001b[39m\n",
            "\u001b[38;5;245m                      \u001b[39m\u001b[38;5;36m'\u001b[39m\u001b[38;5;36mINPUT/20210902_125437.jpg\u001b[39m\u001b[38;5;36m'\u001b[39m\u001b[38;5;245m,\u001b[39m\n",
            "\u001b[38;5;245m                      \u001b[39m\u001b[38;5;36m'\u001b[39m\u001b[38;5;36mINPUT/20210824_094010.jpg\u001b[39m\u001b[38;5;36m'\u001b[39m\u001b[38;5;245m,\u001b[39m\n",
            "\u001b[38;5;245m                      \u001b[39m\u001b[38;5;36m'\u001b[39m\u001b[38;5;36mINPUT/20210903_110550.jpg\u001b[39m\u001b[38;5;36m'\u001b[39m\u001b[38;5;245m]\u001b[39m\n",
            "\u001b[38;5;247mic\u001b[39m\u001b[38;5;245m|\u001b[39m\u001b[38;5;245m \u001b[39m\u001b[38;5;247mimage_path\u001b[39m\u001b[38;5;245m:\u001b[39m\u001b[38;5;245m \u001b[39m\u001b[38;5;36m'\u001b[39m\u001b[38;5;36mINPUT/20210903_104016.jpg\u001b[39m\u001b[38;5;36m'\u001b[39m\n"
          ]
        },
        {
          "output_type": "stream",
          "name": "stdout",
          "text": [
            "\n",
            "0: 544x960 1 dead, 1478.3ms\n",
            "Speed: 7.4ms preprocess, 1478.3ms inference, 8.6ms postprocess per image at shape (1, 3, 544, 960)\n",
            "\n"
          ]
        },
        {
          "output_type": "stream",
          "name": "stderr",
          "text": [
            "\u001b[38;5;247mic\u001b[39m\u001b[38;5;245m|\u001b[39m\u001b[38;5;245m \u001b[39m\u001b[38;5;247mimage_path\u001b[39m\u001b[38;5;245m:\u001b[39m\u001b[38;5;245m \u001b[39m\u001b[38;5;36m'\u001b[39m\u001b[38;5;36mINPUT/20210903_110601.jpg\u001b[39m\u001b[38;5;36m'\u001b[39m\n"
          ]
        },
        {
          "output_type": "stream",
          "name": "stdout",
          "text": [
            "0: 544x960 3 deads, 2356.1ms\n",
            "Speed: 5.7ms preprocess, 2356.1ms inference, 25.0ms postprocess per image at shape (1, 3, 544, 960)\n",
            "\n"
          ]
        },
        {
          "output_type": "stream",
          "name": "stderr",
          "text": [
            "\u001b[38;5;247mic\u001b[39m\u001b[38;5;245m|\u001b[39m\u001b[38;5;245m \u001b[39m\u001b[38;5;247mimage_path\u001b[39m\u001b[38;5;245m:\u001b[39m\u001b[38;5;245m \u001b[39m\u001b[38;5;36m'\u001b[39m\u001b[38;5;36mINPUT/20210903_110556.jpg\u001b[39m\u001b[38;5;36m'\u001b[39m\n"
          ]
        },
        {
          "output_type": "stream",
          "name": "stdout",
          "text": [
            "0: 544x960 2 deads, 2209.5ms\n",
            "Speed: 7.7ms preprocess, 2209.5ms inference, 36.5ms postprocess per image at shape (1, 3, 544, 960)\n",
            "\n"
          ]
        },
        {
          "output_type": "stream",
          "name": "stderr",
          "text": [
            "\u001b[38;5;247mic\u001b[39m\u001b[38;5;245m|\u001b[39m\u001b[38;5;245m \u001b[39m\u001b[38;5;247mimage_path\u001b[39m\u001b[38;5;245m:\u001b[39m\u001b[38;5;245m \u001b[39m\u001b[38;5;36m'\u001b[39m\u001b[38;5;36mINPUT/20210903_115117.jpg\u001b[39m\u001b[38;5;36m'\u001b[39m\n"
          ]
        },
        {
          "output_type": "stream",
          "name": "stdout",
          "text": [
            "0: 544x960 1 healthy, 1 damaged, 5 deads, 1 vcut, 1968.0ms\n",
            "Speed: 9.1ms preprocess, 1968.0ms inference, 54.2ms postprocess per image at shape (1, 3, 544, 960)\n",
            "\n"
          ]
        },
        {
          "output_type": "stream",
          "name": "stderr",
          "text": [
            "\u001b[38;5;247mic\u001b[39m\u001b[38;5;245m|\u001b[39m\u001b[38;5;245m \u001b[39m\u001b[38;5;247mimage_path\u001b[39m\u001b[38;5;245m:\u001b[39m\u001b[38;5;245m \u001b[39m\u001b[38;5;36m'\u001b[39m\u001b[38;5;36mINPUT/20220218_103856.jpg\u001b[39m\u001b[38;5;36m'\u001b[39m\n"
          ]
        },
        {
          "output_type": "stream",
          "name": "stdout",
          "text": [
            "0: 544x960 1 dead, 3133.2ms\n",
            "Speed: 7.8ms preprocess, 3133.2ms inference, 30.7ms postprocess per image at shape (1, 3, 544, 960)\n",
            "\n"
          ]
        },
        {
          "output_type": "stream",
          "name": "stderr",
          "text": [
            "\u001b[38;5;247mic\u001b[39m\u001b[38;5;245m|\u001b[39m\u001b[38;5;245m \u001b[39m\u001b[38;5;247mimage_path\u001b[39m\u001b[38;5;245m:\u001b[39m\u001b[38;5;245m \u001b[39m\u001b[38;5;36m'\u001b[39m\u001b[38;5;36mINPUT/20210903_125537.jpg\u001b[39m\u001b[38;5;36m'\u001b[39m\n"
          ]
        },
        {
          "output_type": "stream",
          "name": "stdout",
          "text": [
            "0: 544x960 1 damaged, 3 deads, 1 vcut, 1947.1ms\n",
            "Speed: 16.6ms preprocess, 1947.1ms inference, 19.3ms postprocess per image at shape (1, 3, 544, 960)\n",
            "\n"
          ]
        },
        {
          "output_type": "stream",
          "name": "stderr",
          "text": [
            "\u001b[38;5;247mic\u001b[39m\u001b[38;5;245m|\u001b[39m\u001b[38;5;245m \u001b[39m\u001b[38;5;247mimage_path\u001b[39m\u001b[38;5;245m:\u001b[39m\u001b[38;5;245m \u001b[39m\u001b[38;5;36m'\u001b[39m\u001b[38;5;36mINPUT/20210830_102852.jpg\u001b[39m\u001b[38;5;36m'\u001b[39m\n"
          ]
        },
        {
          "output_type": "stream",
          "name": "stdout",
          "text": [
            "0: 544x960 2 damageds, 3 deads, 1 vcut, 981.4ms\n",
            "Speed: 5.7ms preprocess, 981.4ms inference, 22.8ms postprocess per image at shape (1, 3, 544, 960)\n",
            "\n"
          ]
        },
        {
          "output_type": "stream",
          "name": "stderr",
          "text": [
            "\u001b[38;5;247mic\u001b[39m\u001b[38;5;245m|\u001b[39m\u001b[38;5;245m \u001b[39m\u001b[38;5;247mimage_path\u001b[39m\u001b[38;5;245m:\u001b[39m\u001b[38;5;245m \u001b[39m\u001b[38;5;36m'\u001b[39m\u001b[38;5;36mINPUT/20210902_125437.jpg\u001b[39m\u001b[38;5;36m'\u001b[39m\n"
          ]
        },
        {
          "output_type": "stream",
          "name": "stdout",
          "text": [
            "0: 544x960 1 damaged, 3 deads, 1 vcut, 968.1ms\n",
            "Speed: 5.5ms preprocess, 968.1ms inference, 19.5ms postprocess per image at shape (1, 3, 544, 960)\n",
            "\n"
          ]
        },
        {
          "output_type": "stream",
          "name": "stderr",
          "text": [
            "\u001b[38;5;247mic\u001b[39m\u001b[38;5;245m|\u001b[39m\u001b[38;5;245m \u001b[39m\u001b[38;5;247mimage_path\u001b[39m\u001b[38;5;245m:\u001b[39m\u001b[38;5;245m \u001b[39m\u001b[38;5;36m'\u001b[39m\u001b[38;5;36mINPUT/20210824_094010.jpg\u001b[39m\u001b[38;5;36m'\u001b[39m\n"
          ]
        },
        {
          "output_type": "stream",
          "name": "stdout",
          "text": [
            "0: 544x960 1 damaged, 1 dead, 1 vcut, 1003.5ms\n",
            "Speed: 5.0ms preprocess, 1003.5ms inference, 18.5ms postprocess per image at shape (1, 3, 544, 960)\n",
            "\n"
          ]
        },
        {
          "output_type": "stream",
          "name": "stderr",
          "text": [
            "\u001b[38;5;247mic\u001b[39m\u001b[38;5;245m|\u001b[39m\u001b[38;5;245m \u001b[39m\u001b[38;5;247mimage_path\u001b[39m\u001b[38;5;245m:\u001b[39m\u001b[38;5;245m \u001b[39m\u001b[38;5;36m'\u001b[39m\u001b[38;5;36mINPUT/20210903_110550.jpg\u001b[39m\u001b[38;5;36m'\u001b[39m\n"
          ]
        },
        {
          "output_type": "stream",
          "name": "stdout",
          "text": [
            "0: 544x960 6 deads, 967.7ms\n",
            "Speed: 5.3ms preprocess, 967.7ms inference, 37.9ms postprocess per image at shape (1, 3, 544, 960)\n",
            "time: 19.8 s (started: 2025-10-22 09:38:13 +00:00)\n"
          ]
        }
      ]
    },
    {
      "cell_type": "markdown",
      "source": [
        "## Please click on the Browse buttom when it appears above this cell."
      ],
      "metadata": {
        "id": "5zSjfTXvIv2q"
      }
    },
    {
      "cell_type": "markdown",
      "source": [
        "### Download OUTPUT folder as a ZIP file"
      ],
      "metadata": {
        "id": "NTYyOn8QztJW"
      }
    },
    {
      "cell_type": "code",
      "source": [
        "!zip -r OUTPUT.zip OUTPUT"
      ],
      "metadata": {
        "id": "l8tPKEwW4JPa",
        "colab": {
          "base_uri": "https://localhost:8080/"
        },
        "outputId": "4b22634e-2cb7-4ce5-94b8-df88d40eac10"
      },
      "execution_count": 176,
      "outputs": [
        {
          "output_type": "stream",
          "name": "stdout",
          "text": [
            "updating: OUTPUT/ (stored 0%)\n",
            "updating: OUTPUT/detections.csv (deflated 64%)\n",
            "updating: OUTPUT/20210830_102852_annotated.jpg (deflated 2%)\n",
            "updating: OUTPUT/20210903_115117_annotated.jpg (deflated 2%)\n",
            "updating: OUTPUT/20220218_103856_annotated.jpg (deflated 2%)\n",
            "updating: OUTPUT/20210902_125437_annotated.jpg (deflated 3%)\n",
            "updating: OUTPUT/20210903_104016_annotated.jpg (deflated 2%)\n",
            "updating: OUTPUT/20210903_110550_annotated.jpg (deflated 2%)\n",
            "updating: OUTPUT/20210903_125537_annotated.jpg (deflated 2%)\n",
            "updating: OUTPUT/20210903_110601_annotated.jpg (deflated 2%)\n",
            "updating: OUTPUT/20210824_094010_annotated.jpg (deflated 2%)\n",
            "updating: OUTPUT/20210903_110556_annotated.jpg (deflated 2%)\n",
            "time: 512 ms (started: 2025-10-22 09:38:33 +00:00)\n"
          ]
        }
      ]
    },
    {
      "cell_type": "code",
      "source": [
        "from google.colab import files\n",
        "files.download(\"OUTPUT.zip\")"
      ],
      "metadata": {
        "id": "ODvR3p_8zG1o",
        "colab": {
          "base_uri": "https://localhost:8080/",
          "height": 35
        },
        "outputId": "e8f51763-afc0-4a5b-f80c-916931f503b3"
      },
      "execution_count": 177,
      "outputs": [
        {
          "output_type": "display_data",
          "data": {
            "text/plain": [
              "<IPython.core.display.Javascript object>"
            ],
            "application/javascript": [
              "\n",
              "    async function download(id, filename, size) {\n",
              "      if (!google.colab.kernel.accessAllowed) {\n",
              "        return;\n",
              "      }\n",
              "      const div = document.createElement('div');\n",
              "      const label = document.createElement('label');\n",
              "      label.textContent = `Downloading \"${filename}\": `;\n",
              "      div.appendChild(label);\n",
              "      const progress = document.createElement('progress');\n",
              "      progress.max = size;\n",
              "      div.appendChild(progress);\n",
              "      document.body.appendChild(div);\n",
              "\n",
              "      const buffers = [];\n",
              "      let downloaded = 0;\n",
              "\n",
              "      const channel = await google.colab.kernel.comms.open(id);\n",
              "      // Send a message to notify the kernel that we're ready.\n",
              "      channel.send({})\n",
              "\n",
              "      for await (const message of channel.messages) {\n",
              "        // Send a message to notify the kernel that we're ready.\n",
              "        channel.send({})\n",
              "        if (message.buffers) {\n",
              "          for (const buffer of message.buffers) {\n",
              "            buffers.push(buffer);\n",
              "            downloaded += buffer.byteLength;\n",
              "            progress.value = downloaded;\n",
              "          }\n",
              "        }\n",
              "      }\n",
              "      const blob = new Blob(buffers, {type: 'application/binary'});\n",
              "      const a = document.createElement('a');\n",
              "      a.href = window.URL.createObjectURL(blob);\n",
              "      a.download = filename;\n",
              "      div.appendChild(a);\n",
              "      a.click();\n",
              "      div.remove();\n",
              "    }\n",
              "  "
            ]
          },
          "metadata": {}
        },
        {
          "output_type": "display_data",
          "data": {
            "text/plain": [
              "<IPython.core.display.Javascript object>"
            ],
            "application/javascript": [
              "download(\"download_b18fa87d-3d00-40c7-b42f-d4ef0314067e\", \"OUTPUT.zip\", 22596619)"
            ]
          },
          "metadata": {}
        },
        {
          "output_type": "stream",
          "name": "stdout",
          "text": [
            "time: 7.24 ms (started: 2025-10-22 09:38:34 +00:00)\n"
          ]
        }
      ]
    },
    {
      "cell_type": "markdown",
      "source": [
        "# FINISHED\n",
        "If everything worked as intended, you should find a file named **OUTPUT.zip** in your Downloads folder. Unzip this file to see results."
      ],
      "metadata": {
        "id": "LOCD7_KCdMh1"
      }
    },
    {
      "cell_type": "code",
      "source": [
        "\n",
        "print('FINISHED')"
      ],
      "metadata": {
        "id": "dfWKUVoS2b92",
        "colab": {
          "base_uri": "https://localhost:8080/"
        },
        "outputId": "8eb867d2-03cb-4edc-e715-ec135899fe6f"
      },
      "execution_count": 178,
      "outputs": [
        {
          "output_type": "stream",
          "name": "stdout",
          "text": [
            "FINISHED\n",
            "time: 614 µs (started: 2025-10-22 09:38:34 +00:00)\n"
          ]
        }
      ]
    }
  ]
}