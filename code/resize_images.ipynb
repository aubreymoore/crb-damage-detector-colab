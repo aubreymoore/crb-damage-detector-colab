{
 "cells": [
  {
   "cell_type": "code",
   "execution_count": 15,
   "metadata": {},
   "outputs": [],
   "source": [
    "# Resize images to a maximum dimension (width or height) while maintaining aspect ratio\n",
    "\n",
    "import cv2\n",
    "import imutils\n",
    "import glob\n",
    "import os\n",
    "from icecream import ic"
   ]
  },
  {
   "cell_type": "code",
   "execution_count": 26,
   "metadata": {},
   "outputs": [
    {
     "name": "stderr",
     "output_type": "stream",
     "text": [
      "ic| original_dir: '../data/Vanuatu_July_2022_Sulav'\n",
      "ic| resized_dir: '../data/Vanuatu_July_2022_Sulav/resized'\n",
      "ic| ''\n",
      "ic| image_path: '../data/Vanuatu_July_2022_Sulav/IMG_0671.JPG'\n",
      "ic| resized_image_path: '../data/Vanuatu_July_2022_Sulav/resized/IMG_0671.JPG'\n",
      "ic| height: 3024, width: 4032\n",
      "ic| ''\n",
      "ic| image_path: '../data/Vanuatu_July_2022_Sulav/IMG_0713.JPG'\n",
      "ic| resized_image_path: '../data/Vanuatu_July_2022_Sulav/resized/IMG_0713.JPG'\n",
      "ic| height: 4032, width: 3024\n",
      "ic| ''\n",
      "ic| image_path: '../data/Vanuatu_July_2022_Sulav/resized'\n",
      "ic| resized_image_path: '../data/Vanuatu_July_2022_Sulav/resized/resized'\n",
      "ic| '   WARNING: Could not resize.'\n",
      "ic| ''\n",
      "ic| image_path: '../data/Vanuatu_July_2022_Sulav/IMG_0532.JPG'\n",
      "ic| resized_image_path: '../data/Vanuatu_July_2022_Sulav/resized/IMG_0532.JPG'\n",
      "ic| height: 3024, width: 4032\n",
      "ic| ''\n",
      "ic| image_path: '../data/Vanuatu_July_2022_Sulav/IMG_06XX.JPG'\n",
      "ic| resized_image_path: '../data/Vanuatu_July_2022_Sulav/resized/IMG_06XX.JPG'\n",
      "ic| '   WARNING: Could not resize.'\n",
      "ic| ''\n",
      "ic| image_path: '../data/Vanuatu_July_2022_Sulav/IMG_0704.JPG'\n",
      "ic| resized_image_path: '../data/Vanuatu_July_2022_Sulav/resized/IMG_0704.JPG'\n",
      "ic| height: 3024, width: 4032\n",
      "ic| ''\n",
      "ic| image_path: '../data/Vanuatu_July_2022_Sulav/IMG_0695.JPG'\n",
      "ic| resized_image_path: '../data/Vanuatu_July_2022_Sulav/resized/IMG_0695.JPG'\n",
      "ic| height: 4032, width: 3024\n"
     ]
    },
    {
     "name": "stdout",
     "output_type": "stream",
     "text": [
      "FINISHED\n"
     ]
    }
   ],
   "source": [
    "\n",
    "MAXDIM = 960 # maximum dimension in pixels\n",
    "original_dir = '../data/Vanuatu_July_2022_Sulav'\n",
    "ic(original_dir)\n",
    "\n",
    "resized_dir = f'{original_dir}/resized'\n",
    "ic(resized_dir)\n",
    "\n",
    "os.makedirs(resized_dir, exist_ok=True)\n",
    "\n",
    "image_paths = glob.glob(f'{original_dir}/*')\n",
    "\n",
    "for image_path in image_paths:\n",
    "    try:\n",
    "        ic('')\n",
    "        ic(image_path)\n",
    "        resized_image_path = f'{resized_dir}/{os.path.basename(image_path)}'     \n",
    "        ic(resized_image_path)\n",
    "        image = cv2.imread(image_path)\n",
    "        height, width, channels = image.shape\n",
    "        ic(height, width)\n",
    "        if height >= width:\n",
    "            image = imutils.resize(image, height=MAXDIM)\n",
    "        else:\n",
    "            image = imutils.resize(image, width=MAXDIM)\n",
    "        cv2.imwrite(resized_image_path, image)\n",
    "    except:\n",
    "        ic('   WARNING: Could not resize.')\n",
    "        continue\n",
    "print('FINISHED')\n"
   ]
  }
 ],
 "metadata": {
  "kernelspec": {
   "display_name": "env",
   "language": "python",
   "name": "env"
  },
  "language_info": {
   "codemirror_mode": {
    "name": "ipython",
    "version": 3
   },
   "file_extension": ".py",
   "mimetype": "text/x-python",
   "name": "python",
   "nbconvert_exporter": "python",
   "pygments_lexer": "ipython3",
   "version": "3.8.10"
  }
 },
 "nbformat": 4,
 "nbformat_minor": 2
}
