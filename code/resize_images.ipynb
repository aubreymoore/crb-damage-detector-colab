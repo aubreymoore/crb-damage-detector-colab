
# Resize images to a maximum dimension (width or height) while maintaining aspect ratio

import cv2
import imutils
import glob
import os

MAXDIM = 960 # maximum dimensions in pixels
original_dir = 'data/Vanuatu_July_2022_Sulav'
resized_dir = f'{original_dir}/resized'
os.makedirs(resized_dir, exist_ok=True)

image_paths = glob.glob(f'{original_dir}')
print(image_paths)

for image_path in image_paths:
    try:
        print(image_path)
        image = cv2.imread(image_path)
        height, width, channels = image.shape
        if height >= width:
            image = imutils.resize(image, height=MAXDIM)
        else:
            image = imutils.resize(image, width=MAXDIM)
        resized_image_path = f'{resized_dir}/{os.path.basename(image_path)}'
        cv2.imwrite(resized_image_path, image)
        print(resized_image_path)
    except:
        continue
print('FINISHED')
