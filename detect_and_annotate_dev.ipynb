{
  "nbformat": 4,
  "nbformat_minor": 0,
  "metadata": {
    "colab": {
      "provenance": [],
      "authorship_tag": "ABX9TyNp5YDiNewce20wC5YXtUw/",
      "include_colab_link": true
    },
    "kernelspec": {
      "name": "python3",
      "display_name": "Python 3"
    },
    "language_info": {
      "name": "python"
    }
  },
  "cells": [
    {
      "cell_type": "markdown",
      "metadata": {
        "id": "view-in-github",
        "colab_type": "text"
      },
      "source": [
        "<a href=\"https://colab.research.google.com/github/aubreymoore/crb-damage-detector-colab/blob/main/detect_and_annotate_dev.ipynb\" target=\"_parent\"><img src=\"https://colab.research.google.com/assets/colab-badge.svg\" alt=\"Open In Colab\"/></a>"
      ]
    },
    {
      "cell_type": "markdown",
      "source": [
        "# detect_and_annotate.ipynb\n",
        "\n",
        "NOTE: The following documentation is already slightly out of date.\n",
        "Please visit https://github.com/aubreymoore/crb-damage-detector-colab before running this notebook for the first time.\n",
        "\n",
        "This Colab Jupyter notebook runs a custom YOLOv8 object detector which scans images to find three object classes: live coconut palms, dead coconut palms and v-shaped cuts symptomatic of damage caused by coconut rhinoceros beetle, *Oryctes rhinoceros*.\n",
        "\n",
        "IMPORTANT: Shortly after the MAIN PROGRAM section begins executing, a BROWSE button will appear below the active cell to allow you to upload single file of input data from your loacal machine to Colab.\n",
        "\n",
        "**Note that Colab will just sit there and not do anything until you have entered a path to a test file of URLs or a ZIP file of images on your local machine.** [Click here to scroll down to the \"Browser\" button.](#scrollTo=5zSjfTXvIv2q&line=1&uniqifier=1)\n",
        "\n",
        "You may choose between 2 options:\n",
        "* A TEXT file (\\*.txt) containing URLs for images to be scanned. One URL per line. (This is the most efficient option.)\n",
        "* A ZIP file (\\*.zip) containing images to be scanned.\n",
        "\n",
        "\n",
        "Test data are available in a companion GitHub repository at https://github.com/aubreymoore/crb-damage-detector-colab. To use the test data, download it to your local computer it as a [ZIP file](https://github.com/aubreymoore/crb-damage-detector-colab/archive/refs/heads/main.zip) and unzip it. If you have **git** installed, you can clone the repo as an alternative. The TEXT file or ZIP file to be uploaded to Colab will be found in the repository's **data** folder.\n",
        "\n",
        "To scan images, select **Runtime | Run all** on the main menu.\n",
        "Results will be in a temporary OUTPUT folder which you can access using the **File browser** in the left Colab panel.\n",
        "\n",
        "When image scanning is complete, the OUTPUT folder will be compressed into a single ZIP file and automatically downloaded to your computer.\n",
        "\n",
        "### TODO\n",
        "\n",
        "- [ finished 2024-10-19] Reduce size of images in the companion GH repo to max dimension of 960px\n",
        "- [ ] Copy current trained model to companion GH repo\n",
        "- [ ] Copy this Jupyter notebook to companion GH repo\n",
        "- [ ] Add confidence values to bounding box labels.\n",
        "- [ ] Add database to OUTPUT folder\n",
        "- [ ] Extract GPS coordinates from image files\n",
        "- [ ] Figure out how to use URLs to access images stored on OneDrive (Sharepoint)"
      ],
      "metadata": {
        "id": "EUB3xquwb6sI"
      }
    },
    {
      "cell_type": "markdown",
      "source": [
        "# Load Python packages which are not preinstalled by Colab"
      ],
      "metadata": {
        "id": "7Rp6VisrdfNv"
      }
    },
    {
      "cell_type": "code",
      "execution_count": 1,
      "metadata": {
        "id": "AggzUm3SRJFO",
        "outputId": "ad110b95-f8bc-4844-a056-f8477e04750c",
        "colab": {
          "base_uri": "https://localhost:8080/"
        }
      },
      "outputs": [
        {
          "output_type": "stream",
          "name": "stdout",
          "text": [
            "\u001b[2K   \u001b[90m━━━━━━━━━━━━━━━━━━━━━━━━━━━━━━━━━━━━━━━━\u001b[0m \u001b[32m877.1/877.1 kB\u001b[0m \u001b[31m9.8 MB/s\u001b[0m eta \u001b[36m0:00:00\u001b[0m\n",
            "\u001b[2K   \u001b[90m━━━━━━━━━━━━━━━━━━━━━━━━━━━━━━━━━━━━━━━━\u001b[0m \u001b[32m158.2/158.2 kB\u001b[0m \u001b[31m2.9 MB/s\u001b[0m eta \u001b[36m0:00:00\u001b[0m\n",
            "\u001b[2K   \u001b[90m━━━━━━━━━━━━━━━━━━━━━━━━━━━━━━━━━━━━━━━━\u001b[0m \u001b[32m1.6/1.6 MB\u001b[0m \u001b[31m20.1 MB/s\u001b[0m eta \u001b[36m0:00:00\u001b[0m\n",
            "\u001b[?25h"
          ]
        }
      ],
      "source": [
        "%pip install ultralytics -q\n",
        "%pip install supervision -q\n",
        "# %pip install imutils -q\n",
        "%pip install icecream -q\n",
        "%pip install ipython-autotime -q"
      ]
    },
    {
      "cell_type": "markdown",
      "source": [
        "# Import modules"
      ],
      "metadata": {
        "id": "l0Uuj0JCi5Ll"
      }
    },
    {
      "cell_type": "code",
      "source": [
        "import cv2\n",
        "import supervision as sv\n",
        "from ultralytics import YOLO\n",
        "# import imutils\n",
        "\n",
        "import glob\n",
        "import os\n",
        "import shutil\n",
        "from skimage import io\n",
        "from icecream import ic\n",
        "from google.colab import files\n",
        "import zipfile\n",
        "import io\n",
        "from urllib.request import urlretrieve\n",
        "\n",
        "# ultralytics.checks()"
      ],
      "metadata": {
        "id": "U1cExUvHRlTA",
        "outputId": "e3995b1f-2a89-4499-eabc-65d28290231a",
        "colab": {
          "base_uri": "https://localhost:8080/"
        }
      },
      "execution_count": 2,
      "outputs": [
        {
          "output_type": "stream",
          "name": "stdout",
          "text": [
            "Creating new Ultralytics Settings v0.0.6 file ✅ \n",
            "View Ultralytics Settings with 'yolo settings' or at '/root/.config/Ultralytics/settings.json'\n",
            "Update Settings with 'yolo settings key=value', i.e. 'yolo settings runs_dir=path/to/dir'. For help see https://docs.ultralytics.com/quickstart/#ultralytics-settings.\n"
          ]
        }
      ]
    },
    {
      "cell_type": "markdown",
      "source": [
        "# Load cell timer"
      ],
      "metadata": {
        "id": "KpGhWzQFZfr9"
      }
    },
    {
      "cell_type": "code",
      "source": [
        "%load_ext autotime"
      ],
      "metadata": {
        "id": "GJUTRUbHYhRl",
        "outputId": "94274586-2d9a-4107-fd1a-5c06cea78b9d",
        "colab": {
          "base_uri": "https://localhost:8080/"
        }
      },
      "execution_count": 3,
      "outputs": [
        {
          "output_type": "stream",
          "name": "stdout",
          "text": [
            "time: 350 µs (started: 2024-10-24 10:00:15 +00:00)\n"
          ]
        }
      ]
    },
    {
      "cell_type": "markdown",
      "source": [
        "# Define functions"
      ],
      "metadata": {
        "id": "mV6zIMn0ZRGZ"
      }
    },
    {
      "cell_type": "code",
      "source": [
        "# url = 'https://github.com/aubreymoore/crb-damage-detector-colab/blob/main/data/images/IMG_0532.JPG?raw=true'\n",
        "# filename = 'IMG_0532.JPG'\n",
        "# urlretrieve(url, filename)"
      ],
      "metadata": {
        "id": "eWWmLZv4l609",
        "outputId": "1ee329d5-3d3a-49a4-9b4e-5569c3924fec",
        "colab": {
          "base_uri": "https://localhost:8080/"
        }
      },
      "execution_count": 4,
      "outputs": [
        {
          "output_type": "stream",
          "name": "stdout",
          "text": [
            "time: 330 µs (started: 2024-10-24 10:00:34 +00:00)\n"
          ]
        }
      ]
    },
    {
      "cell_type": "code",
      "source": [
        "def get_gps_from_exif(image_path):\n",
        "  \"\"\"\n",
        "  Gets timestamp and GPS coordinates from an image.\n",
        "\n",
        "  Args:\n",
        "    image_path:\n",
        "\n",
        "  Returns:\n",
        "    timestamp, latitude, longitude\n",
        "  \"\"\"\n",
        "  with open(image_path, 'rb') as src:\n",
        "    img = Image(src)\n",
        "    if img.has_exif:\n",
        "      try:\n",
        "        timestamp = img.datetime_original\n",
        "        print(img.gps_latitude)\n",
        "        dms = img.gps_latitude\n",
        "        latitude = dms[0] + dms[1]/60 + dms[2]/3600\n",
        "        if img.gps_latitude_ref == 'S':\n",
        "          latitude = -latitude\n",
        "        dms = img.gps_longitude\n",
        "        longitude  = dms[0] + dms[1]/60 + dms[2]/3600\n",
        "        if img.gps_longitude_ref == 'W':\n",
        "          longitude = -longitude\n",
        "        return {\"timestamp\": timestamp, \"latitude\": latitude, \"longitude\": longitude}\n",
        "      except Exception as e:\n",
        "        print(e)\n",
        "        return {\"timestamp\": None, \"latitude\": None,\"longitude\": None}\n",
        "    else:\n",
        "      print ('The Image has no EXIF')\n",
        "      return {\"timestamp\": None, \"latitude\": None,\"longitude\": None}\n",
        "\n",
        "# get_gps_from_exif('IMG_0532.JPG')"
      ],
      "metadata": {
        "id": "Gh-S3DTNl8aP",
        "outputId": "7c58c8ab-43a8-4712-e5f5-c404da070f28",
        "colab": {
          "base_uri": "https://localhost:8080/"
        }
      },
      "execution_count": 6,
      "outputs": [
        {
          "output_type": "stream",
          "name": "stdout",
          "text": [
            "time: 991 µs (started: 2024-10-24 10:01:39 +00:00)\n"
          ]
        }
      ]
    },
    {
      "cell_type": "code",
      "source": [
        "def upload_model_weights():\n",
        "  '''\n",
        "  Upload model weights from GitHub repo to **weights.pt** only if this file does not already exist.\n",
        "  '''\n",
        "  !wget -nc https://github.com/aubreymoore/code-for-CRB-damage-ai/raw/refs/heads/main/models/3class/train5/weights/best.pt -O weights.pt\n",
        "\n",
        "# upload_model_weights()"
      ],
      "metadata": {
        "id": "7Yc80WosFV0G",
        "outputId": "67f61cf9-0527-439c-85b0-5cd221b0ac16",
        "colab": {
          "base_uri": "https://localhost:8080/"
        }
      },
      "execution_count": 7,
      "outputs": [
        {
          "output_type": "stream",
          "name": "stdout",
          "text": [
            "time: 608 µs (started: 2024-10-24 10:01:49 +00:00)\n"
          ]
        }
      ]
    },
    {
      "cell_type": "code",
      "source": [
        "def load_model_weights():\n",
        "  model = YOLO('weights.pt')"
      ],
      "metadata": {
        "id": "IN7dkUz24841",
        "outputId": "0ab8e706-3f25-4db7-d962-846978c3513f",
        "colab": {
          "base_uri": "https://localhost:8080/"
        }
      },
      "execution_count": 8,
      "outputs": [
        {
          "output_type": "stream",
          "name": "stdout",
          "text": [
            "time: 773 µs (started: 2024-10-24 10:01:56 +00:00)\n"
          ]
        }
      ]
    },
    {
      "cell_type": "code",
      "source": [
        "def create_input_folder():\n",
        "  if not os.path.exists('INPUT'):\n",
        "    os.makedirs('INPUT')\n",
        "\n",
        "# create_input_folder()"
      ],
      "metadata": {
        "id": "TEW_0vwRZWEV",
        "outputId": "8175ee86-4e7d-42c9-aa5b-3f13e5a83683",
        "colab": {
          "base_uri": "https://localhost:8080/"
        }
      },
      "execution_count": 9,
      "outputs": [
        {
          "output_type": "stream",
          "name": "stdout",
          "text": [
            "time: 666 µs (started: 2024-10-24 10:02:00 +00:00)\n"
          ]
        }
      ]
    },
    {
      "cell_type": "code",
      "source": [
        "def create_output_folder():\n",
        "  if not os.path.exists('OUTPUT'):\n",
        "    os.makedirs('OUTPUT')\n",
        "\n",
        "# create_output_folder()"
      ],
      "metadata": {
        "id": "OH8-tflD8taN",
        "outputId": "39ded7aa-218b-4dd8-8856-aed1e53ecf27",
        "colab": {
          "base_uri": "https://localhost:8080/"
        }
      },
      "execution_count": 10,
      "outputs": [
        {
          "output_type": "stream",
          "name": "stdout",
          "text": [
            "time: 713 µs (started: 2024-10-24 10:02:03 +00:00)\n"
          ]
        }
      ]
    },
    {
      "cell_type": "code",
      "source": [
        "def run_garbage_disposal():\n",
        "  '''\n",
        "  Delete any data files left over from the last run.\n",
        "  '''\n",
        "  shutil.rmtree('INPUT', ignore_errors=True)\n",
        "  shutil.rmtree('OUTPUT', ignore_errors=True)\n",
        "  shutil.rmtree('sample_data', ignore_errors=True)\n",
        "\n",
        "  try:\n",
        "    os.remove('weights.pt')\n",
        "  except OSError:\n",
        "    pass\n",
        "\n",
        "# run_garbage_disposal()"
      ],
      "metadata": {
        "id": "N5Bb4M-9xLUr",
        "outputId": "cd7f7f5c-116b-43cf-c22e-db7ae9c6705b",
        "colab": {
          "base_uri": "https://localhost:8080/"
        }
      },
      "execution_count": 11,
      "outputs": [
        {
          "output_type": "stream",
          "name": "stdout",
          "text": [
            "time: 818 µs (started: 2024-10-24 10:02:06 +00:00)\n"
          ]
        }
      ]
    },
    {
      "cell_type": "code",
      "source": [
        "def extract_JPG_files(zip_file_path, output_dir):\n",
        "    # Ensure the output directory exists\n",
        "    os.makedirs(output_dir, exist_ok=True)\n",
        "\n",
        "    with zipfile.ZipFile(zip_file_path, 'r') as zip_ref:\n",
        "        # Loop through each file in the zip archive\n",
        "        for file_name in zip_ref.namelist():\n",
        "            if file_name.endswith('.JPG'):  # Check for .jpg extension\n",
        "                print(f'Extracting {file_name}...')\n",
        "                zip_ref.extract(file_name, output_dir)  # Extract the file\n",
        "\n",
        "# Usage\n",
        "# extract_dll_files('path/to/your/archive.zip', 'path/to/extract/directory')\n"
      ],
      "metadata": {
        "id": "jgFm4SOSull8",
        "outputId": "f0f25711-55b0-4f50-ed99-2dae11a5e6a0",
        "colab": {
          "base_uri": "https://localhost:8080/"
        }
      },
      "execution_count": 12,
      "outputs": [
        {
          "output_type": "stream",
          "name": "stdout",
          "text": [
            "time: 867 µs (started: 2024-10-24 10:02:09 +00:00)\n"
          ]
        }
      ]
    },
    {
      "cell_type": "code",
      "source": [
        "def extract_zip_to_memory(zip_content):\n",
        "    \"\"\"\n",
        "    Extracts files from a ZIP archive stored in memory.\n",
        "\n",
        "    :param zip_content: Bytes of the ZIP file.\n",
        "    :return: A dictionary of filename and file-like objects.\n",
        "    \"\"\"\n",
        "    extracted_files = {}\n",
        "    with zipfile.ZipFile(io.BytesIO(zip_content)) as z:\n",
        "        for file_info in z.infolist():\n",
        "            with z.open(file_info) as file:\n",
        "                extracted_files[file_info.filename] = file.read()  # Read file content\n",
        "    return extracted_files\n",
        "\n",
        "# Usage example\n",
        "# Assuming 'zip_data' contains the bytes of your ZIP file\n",
        "# zip_data = ... (load your ZIP data here)\n",
        "# files = extract_zip_to_memory(zip_data)\n",
        "# for name, content in files.items():\n",
        "#     print(f\"Extracted {name} with size {len(content)} bytes\")\n"
      ],
      "metadata": {
        "id": "S74IbW0_xjFA",
        "outputId": "62259b30-17f2-48cf-ed81-c84a14651632",
        "colab": {
          "base_uri": "https://localhost:8080/"
        }
      },
      "execution_count": 13,
      "outputs": [
        {
          "output_type": "stream",
          "name": "stdout",
          "text": [
            "time: 751 µs (started: 2024-10-24 10:02:15 +00:00)\n"
          ]
        }
      ]
    },
    {
      "cell_type": "code",
      "source": [
        "def upload_and_unpack_zip_or_txt():\n",
        "  '''\n",
        "  Upload images in a ZIP (*.zip) or list of URLs (*.txt)\n",
        "  '''\n",
        "  input_mode = None\n",
        "  urls = None\n",
        "  image_file_dir = None\n",
        "\n",
        "  # Upload images in a ZIP (*.zip) or list of URLs (*.txt)\n",
        "\n",
        "  uploaded = files.upload(target_dir='INPUT')\n",
        "  filename = list(uploaded.keys())[0]\n",
        "\n",
        "  if filename.endswith('.txt'):\n",
        "    input_mode = 'text'\n",
        "    with open(filename, 'r') as f:\n",
        "      urls = f.read().splitlines()\n",
        "\n",
        "      for url in urls:\n",
        "\n",
        "        # Extract filename from URL\n",
        "        filename = url.split('/')[-1]\n",
        "        pos = filename.find('?')\n",
        "        if pos >= 0:\n",
        "          filename = filename[:pos]\n",
        "\n",
        "        urlretrieve(url, f'INPUT/filename')\n",
        "\n",
        "  elif filename.endswith('.zip'):\n",
        "    input_mode = 'zip'\n",
        "    # !unzip -q $filename -d INPUT\n",
        "    # image_file_dir = f'INPUT/{filename}'.replace('.zip', '')\n",
        "    # ic(image_file_dir)\n",
        "\n",
        "  else:\n",
        "    raise ValueError('INPUT file must be *.txt or *.zip.')\n",
        "  return input_mode, urls, image_file_dir\n",
        "\n",
        "# input_mode, urls, image_file_dir = upload_and_unpack_zip_or_txt()\n",
        "# ic(input_mode)\n",
        "# ic(urls)\n",
        "# ic(image_file_dir)"
      ],
      "metadata": {
        "id": "7PC5mvkBasff",
        "outputId": "49c1be4c-ae7c-4f44-bc5f-c89b3a404ff8",
        "colab": {
          "base_uri": "https://localhost:8080/"
        }
      },
      "execution_count": 17,
      "outputs": [
        {
          "output_type": "stream",
          "name": "stdout",
          "text": [
            "time: 1.63 ms (started: 2024-10-24 10:06:55 +00:00)\n"
          ]
        }
      ]
    },
    {
      "cell_type": "code",
      "source": [
        "def get_input_file_list():\n",
        "  return glob.glob(f'INPUT/**/*', recursive=True)\n",
        "\n",
        "# get_input_file_list()"
      ],
      "metadata": {
        "id": "GgC0yLmO7DFp",
        "outputId": "32a5da5b-5bfa-45a3-9134-05597ddfa5a5",
        "colab": {
          "base_uri": "https://localhost:8080/"
        }
      },
      "execution_count": 15,
      "outputs": [
        {
          "output_type": "stream",
          "name": "stdout",
          "text": [
            "time: 616 µs (started: 2024-10-24 10:02:25 +00:00)\n"
          ]
        }
      ]
    },
    {
      "cell_type": "code",
      "source": [
        "def detect_objects(image, model, box_annotator, label_annotator, csv_sink):\n",
        "  '''\n",
        "  detect objects in an image\n",
        "  returns detections and an annotated image\n",
        "  '''\n",
        "  results = model(image)[0]\n",
        "  detections = sv.Detections.from_ultralytics(results)\n",
        "  # ic(detections)\n",
        "  annotated_image = box_annotator.annotate(image, detections=detections)\n",
        "  labels = [f\"{model.model.names[class_id]} {confidence:.2f}\" for class_id, confidence in zip(detections.class_id, detections.confidence)]\n",
        "  annotated_image = label_annotator.annotate(scene=annotated_image, detections=detections, labels=labels)\n",
        "  return detections, annotated_image\n",
        "\n",
        "# csv_sink = sv.CSVSink('detections.csv')\n",
        "# csv_sink.open()\n",
        "\n",
        "# upload_model_weights()\n",
        "# model = YOLO('weights.pt')\n",
        "# box_annotator = sv.BoxAnnotator()\n",
        "# label_annotator = sv.LabelAnnotator()\n",
        "\n",
        "# url = 'https://github.com/aubreymoore/crb-damage-detector-colab/blob/main/data/Vanuatu_July_2022_Sulav/resized-images/IMG_0532.JPG?raw=true'\n",
        "# image = imutils.url_to_image(url)\n",
        "# detections, annotated_image = detect_objects(image, model, box_annotator, label_annotator, csv_sink)\n",
        "# ic(detections)\n",
        "# sv.plot_image(annotated_image)\n",
        "\n",
        "# custom_data = {'url': url}\n",
        "# csv_sink.append(detections, custom_data)\n",
        "\n",
        "# csv_sink.close()"
      ],
      "metadata": {
        "id": "DIMCMtn5va3d",
        "outputId": "608771b0-964a-4b32-94a9-bade15d48e8d",
        "colab": {
          "base_uri": "https://localhost:8080/"
        }
      },
      "execution_count": 16,
      "outputs": [
        {
          "output_type": "stream",
          "name": "stdout",
          "text": [
            "time: 1.01 ms (started: 2024-10-24 10:02:28 +00:00)\n"
          ]
        }
      ]
    },
    {
      "cell_type": "markdown",
      "source": [
        "# MAIN PROGRAM"
      ],
      "metadata": {
        "id": "uOi1eL7K7Paw"
      }
    },
    {
      "cell_type": "code",
      "source": [
        "# Clear data files from previous run\n",
        "run_garbage_disposal()\n",
        "\n",
        "create_input_folder()\n",
        "create_output_folder()\n",
        "\n",
        "# Upload images or list of URLs\n",
        "input_mode, urls, image_file_dir = upload_and_unpack_zip_or_txt()\n",
        "\n",
        "# Upload weights from trained model and load them\n",
        "upload_model_weights()\n",
        "model = YOLO('weights.pt')\n",
        "\n",
        "box_annotator = sv.BoxAnnotator()\n",
        "label_annotator = sv.LabelAnnotator()\n",
        "csv_sink = sv.CSVSink('OUTPUT/detections.csv')\n",
        "csv_sink.open()\n",
        "\n",
        "# Scan images\n",
        "if input_mode == 'text':\n",
        "  for url in urls:\n",
        "    try:\n",
        "      # image = imutils.url_to_image(url)\n",
        "\n",
        "\n",
        "\n",
        "\n",
        "\n",
        "      image = cv2.imread('image.jpg')\n",
        "      detections, annotated_image = detect_objects(image, model, box_annotator, label_annotator, csv_sink)\n",
        "      csv_sink.append(\n",
        "          detections,\n",
        "          custom_data={'image_h': image.shape[0], 'image_w': image.shape[1], 'source': url}\n",
        "      )\n",
        "\n",
        "      # Extract filename from URL\n",
        "      filename = url.split('/')[-1]\n",
        "      pos = filename.find('?')\n",
        "      if pos >= 0:\n",
        "        filename = filename[:pos]\n",
        "\n",
        "      output_path = f'OUTPUT/{filename}'.replace('.', '_annotated.')\n",
        "      ic(output_path)\n",
        "      os.makedirs(os.path.dirname(output_path), exist_ok = True)\n",
        "      cv2.imwrite(output_path, annotated_image)\n",
        "    except:\n",
        "      print(f'Error processing {url}')\n",
        "    continue\n",
        "\n",
        "if input_mode == 'zip':\n",
        "  input_file_list = get_input_file_list()\n",
        "  ic(input_file_list)\n",
        "  for image_path in input_file_list:\n",
        "    ic(image_path)\n",
        "    try:\n",
        "      image = cv2.imread(image_path)\n",
        "      detections, annotated_image = detect_objects(image, model, box_annotator, label_annotator, csv_sink)\n",
        "      csv_sink.append(\n",
        "          detections,\n",
        "          custom_data={'image_h': image.shape[0], 'image_w': image.shape[1], 'source': image_path}\n",
        "      )\n",
        "\n",
        "      filename = os.path.basename(image_path)\n",
        "      output_path = f'OUTPUT/{filename}'.replace('.', '_annotated.')\n",
        "      os.makedirs(os.path.dirname(output_path), exist_ok = True)\n",
        "      result = cv2.imwrite(output_path, annotated_image)\n",
        "    except:\n",
        "      print(f'Error processing {image_path}')\n",
        "    continue\n",
        "\n",
        "csv_sink.close()"
      ],
      "metadata": {
        "id": "kGRopezOreIr"
      },
      "execution_count": null,
      "outputs": []
    },
    {
      "cell_type": "markdown",
      "source": [
        "## Please click on the Browse buttom when it appears above this cell."
      ],
      "metadata": {
        "id": "5zSjfTXvIv2q"
      }
    },
    {
      "cell_type": "markdown",
      "source": [
        "### Download OUTPUT folder as a ZIP file"
      ],
      "metadata": {
        "id": "NTYyOn8QztJW"
      }
    },
    {
      "cell_type": "code",
      "source": [
        "!zip -r OUTPUT.zip OUTPUT"
      ],
      "metadata": {
        "id": "l8tPKEwW4JPa"
      },
      "execution_count": null,
      "outputs": []
    },
    {
      "cell_type": "code",
      "source": [
        "from google.colab import files\n",
        "files.download(\"OUTPUT.zip\")"
      ],
      "metadata": {
        "id": "ODvR3p_8zG1o"
      },
      "execution_count": null,
      "outputs": []
    },
    {
      "cell_type": "markdown",
      "source": [
        "# FINISHED\n",
        "If everything worked as intended, you should find a file named **OUTPUT.zip** in your Downloads folder. Unzip this file to see results."
      ],
      "metadata": {
        "id": "LOCD7_KCdMh1"
      }
    },
    {
      "cell_type": "code",
      "source": [
        "\n",
        "print('FINISHED')"
      ],
      "metadata": {
        "id": "dfWKUVoS2b92"
      },
      "execution_count": null,
      "outputs": []
    }
  ]
}