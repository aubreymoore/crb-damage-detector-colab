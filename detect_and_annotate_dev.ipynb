{
  "nbformat": 4,
  "nbformat_minor": 0,
  "metadata": {
    "colab": {
      "provenance": [],
      "authorship_tag": "ABX9TyOcCgm+51RhCh/dRY0yrsDa",
      "include_colab_link": true
    },
    "kernelspec": {
      "name": "python3",
      "display_name": "Python 3"
    },
    "language_info": {
      "name": "python"
    }
  },
  "cells": [
    {
      "cell_type": "markdown",
      "metadata": {
        "id": "view-in-github",
        "colab_type": "text"
      },
      "source": [
        "<a href=\"https://colab.research.google.com/github/aubreymoore/crb-damage-detector-colab/blob/main/detect_and_annotate_dev.ipynb\" target=\"_parent\"><img src=\"https://colab.research.google.com/assets/colab-badge.svg\" alt=\"Open In Colab\"/></a>"
      ]
    },
    {
      "cell_type": "markdown",
      "source": [
        "# detect_and_annotate.ipynb\n",
        "\n",
        "NOTE: The following documentation is already slightly out of date.\n",
        "Please visit https://github.com/aubreymoore/crb-damage-detector-colab before running this notebook for the first time.\n",
        "\n",
        "This Colab Jupyter notebook runs a custom YOLOv8 object detector which scans images to find three object classes: live coconut palms, dead coconut palms and v-shaped cuts symptomatic of damage caused by coconut rhinoceros beetle, *Oryctes rhinoceros*.\n",
        "\n",
        "IMPORTANT: Shortly after the MAIN PROGRAM section begins executing, a BROWSE button will appear below the active cell to allow you to upload single file of input data from your loacal machine to Colab.\n",
        "\n",
        "**Note that Colab will just sit there and not do anything until you have entered a path to a test file of URLs or a ZIP file of images on your local machine.** [Click here to scroll down to the \"Browser\" button.](#scrollTo=5zSjfTXvIv2q&line=1&uniqifier=1)\n",
        "\n",
        "You may choose between 2 options:\n",
        "* A TEXT file (\\*.txt) containing URLs for images to be scanned. One URL per line. (This is the most efficient option.)\n",
        "* A ZIP file (\\*.zip) containing images to be scanned.\n",
        "\n",
        "\n",
        "Test data are available in a companion GitHub repository at https://github.com/aubreymoore/crb-damage-detector-colab. To use the test data, download it to your local computer it as a [ZIP file](https://github.com/aubreymoore/crb-damage-detector-colab/archive/refs/heads/main.zip) and unzip it. If you have **git** installed, you can clone the repo as an alternative. The TEXT file or ZIP file to be uploaded to Colab will be found in the repository's **data** folder.\n",
        "\n",
        "To scan images, select **Runtime | Run all** on the main menu.\n",
        "Results will be in a temporary OUTPUT folder which you can access using the **File browser** in the left Colab panel.\n",
        "\n",
        "When image scanning is complete, the OUTPUT folder will be compressed into a single ZIP file and automatically downloaded to your computer.\n",
        "\n",
        "### TODO\n",
        "\n",
        "- [ finished 2024-10-19] Reduce size of images in the companion GH repo to max dimension of 960px\n",
        "- [ ] Copy current trained model to companion GH repo\n",
        "- [ ] Copy this Jupyter notebook to companion GH repo\n",
        "- [ ] Add confidence values to bounding box labels.\n",
        "- [ ] Add database to OUTPUT folder\n",
        "- [ ] Extract GPS coordinates from image files\n",
        "- [ ] Figure out how to use URLs to access images stored on OneDrive (Sharepoint)"
      ],
      "metadata": {
        "id": "EUB3xquwb6sI"
      }
    },
    {
      "cell_type": "markdown",
      "source": [
        "# Load Python packages which are not preinstalled by Colab"
      ],
      "metadata": {
        "id": "7Rp6VisrdfNv"
      }
    },
    {
      "cell_type": "code",
      "execution_count": 37,
      "metadata": {
        "id": "AggzUm3SRJFO",
        "outputId": "41126d99-41dd-49bd-f77a-e2104bd6ae34",
        "colab": {
          "base_uri": "https://localhost:8080/"
        }
      },
      "outputs": [
        {
          "output_type": "stream",
          "name": "stdout",
          "text": [
            "time: 19.4 s (started: 2024-10-25 22:56:16 +00:00)\n"
          ]
        }
      ],
      "source": [
        "%pip install ultralytics -q\n",
        "%pip install supervision -q\n",
        "# %pip install imutils -q\n",
        "%pip install icecream -q\n",
        "%pip install ipython-autotime -q\n",
        "%pip install exif -q\n",
        "%pip install requests -q"
      ]
    },
    {
      "cell_type": "markdown",
      "source": [
        "# Import modules"
      ],
      "metadata": {
        "id": "l0Uuj0JCi5Ll"
      }
    },
    {
      "cell_type": "code",
      "source": [
        "import cv2\n",
        "import supervision as sv\n",
        "from ultralytics import YOLO\n",
        "# import imutils\n",
        "\n",
        "import glob\n",
        "import os\n",
        "import shutil\n",
        "# from skimage import io\n",
        "from icecream import ic\n",
        "from google.colab import files\n",
        "import zipfile\n",
        "# import io\n",
        "# from urllib.request import urlretrieve\n",
        "\n",
        "import exif\n",
        "import numpy as np\n",
        "import requests\n",
        "\n",
        "# ultralytics.checks()"
      ],
      "metadata": {
        "id": "U1cExUvHRlTA",
        "outputId": "d2488b03-2afc-460b-d248-bab5f1234b59",
        "colab": {
          "base_uri": "https://localhost:8080/"
        }
      },
      "execution_count": 38,
      "outputs": [
        {
          "output_type": "stream",
          "name": "stdout",
          "text": [
            "time: 958 µs (started: 2024-10-25 22:56:36 +00:00)\n"
          ]
        }
      ]
    },
    {
      "cell_type": "markdown",
      "source": [
        "# Load cell timer"
      ],
      "metadata": {
        "id": "KpGhWzQFZfr9"
      }
    },
    {
      "cell_type": "code",
      "source": [
        "%load_ext autotime"
      ],
      "metadata": {
        "id": "GJUTRUbHYhRl",
        "colab": {
          "base_uri": "https://localhost:8080/"
        },
        "outputId": "a679082d-ec8c-4d41-f717-3e0e1509ee67"
      },
      "execution_count": 39,
      "outputs": [
        {
          "output_type": "stream",
          "name": "stdout",
          "text": [
            "The autotime extension is already loaded. To reload it, use:\n",
            "  %reload_ext autotime\n",
            "time: 1.29 ms (started: 2024-10-25 22:56:36 +00:00)\n"
          ]
        }
      ]
    },
    {
      "cell_type": "markdown",
      "source": [
        "# Define functions"
      ],
      "metadata": {
        "id": "mV6zIMn0ZRGZ"
      }
    },
    {
      "cell_type": "code",
      "source": [
        "# url = 'https://github.com/aubreymoore/crb-damage-detector-colab/blob/main/data/images/IMG_0532.JPG?raw=true'\n",
        "# filename = 'IMG_0532.JPG'\n",
        "# urlretrieve(url, filename)"
      ],
      "metadata": {
        "id": "eWWmLZv4l609",
        "colab": {
          "base_uri": "https://localhost:8080/"
        },
        "outputId": "216b325c-e1b5-4fe4-a9b9-d0874650d362"
      },
      "execution_count": 40,
      "outputs": [
        {
          "output_type": "stream",
          "name": "stdout",
          "text": [
            "time: 232 µs (started: 2024-10-25 22:56:36 +00:00)\n"
          ]
        }
      ]
    },
    {
      "cell_type": "code",
      "source": [
        "def extract_img_exif(data):\n",
        "  \"\"\"\n",
        "  Extracts an image and EXIF metadata from a given data buffer.\n",
        "\n",
        "  Returns img as a numpy.ndarray and exif_data as a dict.\n",
        "  \"\"\"\n",
        "  # Extract metadata stored in EXIF\n",
        "  exif_data = {}\n",
        "  try:\n",
        "    exif_data = exif.Image(data).get_all()\n",
        "  except Exception as e:\n",
        "    ic(e)\n",
        "    pass\n",
        "\n",
        "  # Extract image\n",
        "  bytes_as_np_array = np.frombuffer(data, dtype=np.uint8)\n",
        "  img = cv2.imdecode(bytes_as_np_array, cv2.IMREAD_UNCHANGED)\n",
        "  img = cv2.cvtColor(img, cv2.COLOR_BGR2RGB)\n",
        "\n",
        "  return img, exif_data"
      ],
      "metadata": {
        "id": "Y9Iti2g2fAqr",
        "outputId": "c22f6457-d12b-4e23-ccfa-209905af4ed6",
        "colab": {
          "base_uri": "https://localhost:8080/"
        }
      },
      "execution_count": 41,
      "outputs": [
        {
          "output_type": "stream",
          "name": "stdout",
          "text": [
            "time: 571 µs (started: 2024-10-25 22:56:36 +00:00)\n"
          ]
        }
      ]
    },
    {
      "cell_type": "code",
      "source": [
        "def url2img(url):\n",
        "  \"\"\"\n",
        "  Loads contents of a file referenced by an URL into memory and extracts an\n",
        "  image and EXIF metadata\n",
        "\n",
        "  Returns img as a numpy.ndarray and exif_data as a dict.\n",
        "  \"\"\"\n",
        "  # Download the data file referenced by the URL and save contents as \"data\"\n",
        "  try:\n",
        "    response = requests.get(url)\n",
        "    data = response.content\n",
        "  except Exception as e:\n",
        "    ic(e)\n",
        "    return None, None\n",
        "\n",
        "  img, exif_data = extract_img_exif(data)\n",
        "  return img, exif_data\n",
        "\n",
        "# Usage:\n",
        "# url = 'https://github.com/aubreymoore/crb-damage-detector-colab/blob/main/data/images/IMG_0532.JPG?raw=true'\n",
        "# img, exif_data = url2img(url)\n",
        "# ic(img)\n",
        "# ic(exif_data)"
      ],
      "metadata": {
        "colab": {
          "base_uri": "https://localhost:8080/"
        },
        "id": "vyBOh9gDaIED",
        "outputId": "bda88071-55af-48ff-f297-d4bfe87ca986"
      },
      "execution_count": 42,
      "outputs": [
        {
          "output_type": "stream",
          "name": "stdout",
          "text": [
            "time: 512 µs (started: 2024-10-25 22:56:36 +00:00)\n"
          ]
        }
      ]
    },
    {
      "cell_type": "code",
      "source": [
        "def process_zipped_images(zip_file_path):\n",
        "  \"\"\"\n",
        "\n",
        "  Args:\n",
        "    zip_file_path:\n",
        "  \"\"\"\n",
        "  z = zipfile.ZipFile(zip_file_path)\n",
        "  ic(z.namelist())\n",
        "  for file_name in z.namelist():\n",
        "    if file_name.lower().endswith(('.jpg', '.jpeg', '.png', '.gif')):  # Check for common image extensions\n",
        "      with z.open(file_name, 'r') as file:   # Use z.open to directly open the file within the zip archive\n",
        "        ic(file_name)\n",
        "        try:\n",
        "          data = file.read() # Read the content of the file as bytes\n",
        "          ic(type(data))\n",
        "          img, exif_data = extract_img_exif(data)\n",
        "          ic(img)\n",
        "          ic(exif_data)\n",
        "\n",
        "          # Processing code goes here.\n",
        "\n",
        "        except Exception as e:\n",
        "          ic(f\"Error processing {file_name}: {e}\")\n",
        "\n",
        "# Usage:\n",
        "# process_zipped_images('images.zip')"
      ],
      "metadata": {
        "colab": {
          "base_uri": "https://localhost:8080/"
        },
        "id": "9PrrUDGXXbHt",
        "outputId": "58c786a1-1735-4c6c-cfed-328075f3621d"
      },
      "execution_count": 43,
      "outputs": [
        {
          "output_type": "stream",
          "name": "stdout",
          "text": [
            "time: 710 µs (started: 2024-10-25 22:56:36 +00:00)\n"
          ]
        }
      ]
    },
    {
      "cell_type": "code",
      "source": [
        "# def get_gps_from_exif(image_path):\n",
        "#   \"\"\"\n",
        "#   Gets timestamp and GPS coordinates from an image.\n",
        "\n",
        "#   Args:\n",
        "#     image_path:\n",
        "\n",
        "#   Returns:\n",
        "#     timestamp, latitude, longitude\n",
        "#   \"\"\"\n",
        "#   with open(image_path, 'rb') as src:\n",
        "#     img = Image(src)\n",
        "#     if img.has_exif:\n",
        "#       try:\n",
        "#         timestamp = img.datetime_original\n",
        "#         print(img.gps_latitude)\n",
        "#         dms = img.gps_latitude\n",
        "#         latitude = dms[0] + dms[1]/60 + dms[2]/3600\n",
        "#         if img.gps_latitude_ref == 'S':\n",
        "#           latitude = -latitude\n",
        "#         dms = img.gps_longitude\n",
        "#         longitude  = dms[0] + dms[1]/60 + dms[2]/3600\n",
        "#         if img.gps_longitude_ref == 'W':\n",
        "#           longitude = -longitude\n",
        "#         return {\"timestamp\": timestamp, \"latitude\": latitude, \"longitude\": longitude}\n",
        "#       except Exception as e:\n",
        "#         print(e)\n",
        "#         return {\"timestamp\": None, \"latitude\": None,\"longitude\": None}\n",
        "#     else:\n",
        "#       print ('The Image has no EXIF')\n",
        "#       return {\"timestamp\": None, \"latitude\": None,\"longitude\": None}\n",
        "\n",
        "# # get_gps_from_exif('IMG_0532.JPG')"
      ],
      "metadata": {
        "id": "Gh-S3DTNl8aP",
        "colab": {
          "base_uri": "https://localhost:8080/"
        },
        "outputId": "10eaa159-dfa6-48d8-8b3e-8e55b506636c"
      },
      "execution_count": 44,
      "outputs": [
        {
          "output_type": "stream",
          "name": "stdout",
          "text": [
            "time: 282 µs (started: 2024-10-25 22:56:36 +00:00)\n"
          ]
        }
      ]
    },
    {
      "cell_type": "code",
      "source": [
        "def get_gps_from_exif(exif_data):\n",
        "  \"\"\"\n",
        "  Gets timestamp and GPS coordinates for an image.\n",
        "\n",
        "  Args:\n",
        "    exif_data: dict containing EXIF data\n",
        "\n",
        "  Returns:\n",
        "    timestamp, latitude, longitude\n",
        "  \"\"\"\n",
        "  d = exif_data\n",
        "  try:\n",
        "    timestamp = d.get('datetime_original', None)\n",
        "    latdms = d.get('gps_latitude', None)\n",
        "    londms = d.get('gps_longitude', None)\n",
        "    if latdms and londms:\n",
        "      latitude = latdms[0] + latdms[1]/60 + latdms[2]/3600\n",
        "      if d['gps_latitude_ref'] == 'S':\n",
        "        latitude = -latitude\n",
        "      longitude  = londms[0] + londms[1]/60 + londms[2]/3600\n",
        "      if d['gps_longitude_ref'] == 'W':\n",
        "        longitude = -longitude\n",
        "    return {\"timestamp\": timestamp, \"latitude\": latitude, \"longitude\": longitude}\n",
        "  except Exception as e:\n",
        "    ic(e)\n",
        "    return {\"timestamp\": None, \"latitude\": None,\"longitude\": None}\n",
        "\n",
        "# # Usage:\n",
        "# url = 'https://github.com/aubreymoore/crb-damage-detector-colab/blob/main/data/images/IMG_0532.JPG?raw=true'\n",
        "# img, exif_data = url2img(url)\n",
        "# gps_data = get_gps_from_exif(exif_data)\n",
        "# gps_data"
      ],
      "metadata": {
        "id": "yzX5aPP_mryZ",
        "outputId": "1d822408-3370-4834-9236-8f53865e1e78",
        "colab": {
          "base_uri": "https://localhost:8080/"
        }
      },
      "execution_count": 45,
      "outputs": [
        {
          "output_type": "stream",
          "name": "stdout",
          "text": [
            "time: 793 µs (started: 2024-10-25 22:56:36 +00:00)\n"
          ]
        }
      ]
    },
    {
      "cell_type": "code",
      "source": [
        "def upload_model_weights():\n",
        "  '''\n",
        "  Upload model weights from GitHub repo to **weights.pt** only if this file does not already exist.\n",
        "  '''\n",
        "  !wget -nc https://github.com/aubreymoore/code-for-CRB-damage-ai/raw/refs/heads/main/models/3class/train5/weights/best.pt -O weights.pt\n",
        "\n",
        "# upload_model_weights()"
      ],
      "metadata": {
        "id": "7Yc80WosFV0G",
        "colab": {
          "base_uri": "https://localhost:8080/"
        },
        "outputId": "fc5b819d-aac4-4c00-86b7-af6bad9ccc38"
      },
      "execution_count": 46,
      "outputs": [
        {
          "output_type": "stream",
          "name": "stdout",
          "text": [
            "time: 450 µs (started: 2024-10-25 22:56:36 +00:00)\n"
          ]
        }
      ]
    },
    {
      "cell_type": "code",
      "source": [
        "def load_model_weights():\n",
        "  model = YOLO('weights.pt')"
      ],
      "metadata": {
        "id": "IN7dkUz24841",
        "colab": {
          "base_uri": "https://localhost:8080/"
        },
        "outputId": "abc9e960-af70-4510-8c38-8c194a4bc0a4"
      },
      "execution_count": 47,
      "outputs": [
        {
          "output_type": "stream",
          "name": "stdout",
          "text": [
            "time: 368 µs (started: 2024-10-25 22:56:36 +00:00)\n"
          ]
        }
      ]
    },
    {
      "cell_type": "code",
      "source": [
        "def create_input_folder():\n",
        "  if not os.path.exists('INPUT'):\n",
        "    os.makedirs('INPUT')\n",
        "\n",
        "# create_input_folder()"
      ],
      "metadata": {
        "id": "TEW_0vwRZWEV",
        "colab": {
          "base_uri": "https://localhost:8080/"
        },
        "outputId": "896de51b-e898-47c6-87b7-42fb6f9aaf94"
      },
      "execution_count": 48,
      "outputs": [
        {
          "output_type": "stream",
          "name": "stdout",
          "text": [
            "time: 466 µs (started: 2024-10-25 22:56:36 +00:00)\n"
          ]
        }
      ]
    },
    {
      "cell_type": "code",
      "source": [
        "def create_output_folder():\n",
        "  if not os.path.exists('OUTPUT'):\n",
        "    os.makedirs('OUTPUT')\n",
        "\n",
        "# create_output_folder()"
      ],
      "metadata": {
        "id": "OH8-tflD8taN",
        "colab": {
          "base_uri": "https://localhost:8080/"
        },
        "outputId": "6f53d16b-8fc0-4cae-d107-9c32c7488e07"
      },
      "execution_count": 49,
      "outputs": [
        {
          "output_type": "stream",
          "name": "stdout",
          "text": [
            "time: 382 µs (started: 2024-10-25 22:56:36 +00:00)\n"
          ]
        }
      ]
    },
    {
      "cell_type": "code",
      "source": [
        "def run_garbage_disposal():\n",
        "  '''\n",
        "  Delete any data files left over from the last run.\n",
        "  '''\n",
        "  shutil.rmtree('INPUT', ignore_errors=True)\n",
        "  shutil.rmtree('OUTPUT', ignore_errors=True)\n",
        "  shutil.rmtree('sample_data', ignore_errors=True)\n",
        "\n",
        "  try:\n",
        "    os.remove('weights.pt')\n",
        "  except OSError:\n",
        "    pass\n",
        "\n",
        "# run_garbage_disposal()"
      ],
      "metadata": {
        "id": "N5Bb4M-9xLUr",
        "colab": {
          "base_uri": "https://localhost:8080/"
        },
        "outputId": "af680308-e573-48cc-b77d-50b4bb4b0b47"
      },
      "execution_count": 50,
      "outputs": [
        {
          "output_type": "stream",
          "name": "stdout",
          "text": [
            "time: 784 µs (started: 2024-10-25 22:56:36 +00:00)\n"
          ]
        }
      ]
    },
    {
      "cell_type": "code",
      "source": [
        "def extract_JPG_files(zip_file_path, output_dir):\n",
        "    # Ensure the output directory exists\n",
        "    os.makedirs(output_dir, exist_ok=True)\n",
        "\n",
        "    with zipfile.ZipFile(zip_file_path, 'r') as zip_ref:\n",
        "        # Loop through each file in the zip archive\n",
        "        for file_name in zip_ref.namelist():\n",
        "            if file_name.endswith('.JPG'):  # Check for .jpg extension\n",
        "                print(f'Extracting {file_name}...')\n",
        "                zip_ref.extract(file_name, output_dir)  # Extract the file\n",
        "\n",
        "# Usage\n",
        "# extract_dll_files('path/to/your/archive.zip', 'path/to/extract/directory')\n"
      ],
      "metadata": {
        "id": "jgFm4SOSull8",
        "colab": {
          "base_uri": "https://localhost:8080/"
        },
        "outputId": "57b630b0-06c6-4e80-e733-6c273afccc9f"
      },
      "execution_count": 51,
      "outputs": [
        {
          "output_type": "stream",
          "name": "stdout",
          "text": [
            "time: 564 µs (started: 2024-10-25 22:56:36 +00:00)\n"
          ]
        }
      ]
    },
    {
      "cell_type": "code",
      "source": [
        "def extract_zip_to_memory(zip_content):\n",
        "    \"\"\"\n",
        "    Extracts files from a ZIP archive stored in memory.\n",
        "\n",
        "    :param zip_content: Bytes of the ZIP file.\n",
        "    :return: A dictionary of filename and file-like objects.\n",
        "    \"\"\"\n",
        "    extracted_files = {}\n",
        "    with zipfile.ZipFile(io.BytesIO(zip_content)) as z:\n",
        "        for file_info in z.infolist():\n",
        "            with z.open(file_info) as file:\n",
        "                extracted_files[file_info.filename] = file.read()  # Read file content\n",
        "    return extracted_files\n",
        "\n",
        "# Usage example\n",
        "# Assuming 'zip_data' contains the bytes of your ZIP file\n",
        "# zip_data = ... (load your ZIP data here)\n",
        "# files = extract_zip_to_memory(zip_data)\n",
        "# for name, content in files.items():\n",
        "#     print(f\"Extracted {name} with size {len(content)} bytes\")\n"
      ],
      "metadata": {
        "id": "S74IbW0_xjFA",
        "colab": {
          "base_uri": "https://localhost:8080/"
        },
        "outputId": "68469903-76db-49ec-cb56-3396c8bef18d"
      },
      "execution_count": 52,
      "outputs": [
        {
          "output_type": "stream",
          "name": "stdout",
          "text": [
            "time: 556 µs (started: 2024-10-25 22:56:36 +00:00)\n"
          ]
        }
      ]
    },
    {
      "cell_type": "code",
      "source": [
        "def upload_zip_or_txt():\n",
        "  '''\n",
        "  Upload images in a ZIP (*.zip) or list of URLs (*.txt)\n",
        "  '''\n",
        "  input_mode = None\n",
        "  urls = None\n",
        "  # image_file_dir = None\n",
        "\n",
        "  # THE FOLLOWING LINE TRIGGERS APPEARANCE OF THE BROWSE BUTTON\n",
        "  uploaded = files.upload(target_dir='INPUT')\n",
        "  filename = list(uploaded.keys())[0]\n",
        "\n",
        "  if filename.endswith('.txt'):\n",
        "    input_mode = 'text'\n",
        "    with open(filename, 'r') as f:\n",
        "      urls = f.read().splitlines()\n",
        "  elif filename.endswith('.zip'):\n",
        "    input_mode = 'zip'\n",
        "  else:\n",
        "    raise ValueError('INPUT file must be *.txt or *.zip.')\n",
        "  return input_mode, urls\n",
        "\n",
        "# Usage:\n",
        "# input_mode, urls = upload_and_unpack_zip_or_txt()"
      ],
      "metadata": {
        "id": "7PC5mvkBasff",
        "colab": {
          "base_uri": "https://localhost:8080/"
        },
        "outputId": "d949f3a8-81c2-44e4-e2bf-44d3fe8bb447"
      },
      "execution_count": 53,
      "outputs": [
        {
          "output_type": "stream",
          "name": "stdout",
          "text": [
            "time: 644 µs (started: 2024-10-25 22:56:36 +00:00)\n"
          ]
        }
      ]
    },
    {
      "cell_type": "code",
      "source": [
        "def get_input_file_list():\n",
        "  return glob.glob(f'INPUT/**/*', recursive=True)\n",
        "\n",
        "# get_input_file_list()"
      ],
      "metadata": {
        "id": "GgC0yLmO7DFp",
        "colab": {
          "base_uri": "https://localhost:8080/"
        },
        "outputId": "5055d1a7-bca7-45e7-d058-6d69762be6ae"
      },
      "execution_count": 54,
      "outputs": [
        {
          "output_type": "stream",
          "name": "stdout",
          "text": [
            "time: 390 µs (started: 2024-10-25 22:56:36 +00:00)\n"
          ]
        }
      ]
    },
    {
      "cell_type": "code",
      "source": [
        "def detect_objects(image, model, box_annotator, label_annotator, csv_sink):\n",
        "  '''\n",
        "  detect objects in an image\n",
        "  returns detections and an annotated image\n",
        "  '''\n",
        "  results = model(image)[0]\n",
        "  detections = sv.Detections.from_ultralytics(results)\n",
        "  # ic(detections)\n",
        "  annotated_image = box_annotator.annotate(image, detections=detections)\n",
        "  labels = [f\"{model.model.names[class_id]} {confidence:.2f}\" for class_id, confidence in zip(detections.class_id, detections.confidence)]\n",
        "  annotated_image = label_annotator.annotate(scene=annotated_image, detections=detections, labels=labels)\n",
        "  return detections, annotated_image\n",
        "\n",
        "# csv_sink = sv.CSVSink('detections.csv')\n",
        "# csv_sink.open()\n",
        "\n",
        "# upload_model_weights()\n",
        "# model = YOLO('weights.pt')\n",
        "# box_annotator = sv.BoxAnnotator()\n",
        "# label_annotator = sv.LabelAnnotator()\n",
        "\n",
        "# url = 'https://github.com/aubreymoore/crb-damage-detector-colab/blob/main/data/Vanuatu_July_2022_Sulav/resized-images/IMG_0532.JPG?raw=true'\n",
        "# image = imutils.url_to_image(url)\n",
        "# detections, annotated_image = detect_objects(image, model, box_annotator, label_annotator, csv_sink)\n",
        "# ic(detections)\n",
        "# sv.plot_image(annotated_image)\n",
        "\n",
        "# custom_data = {'url': url}\n",
        "# csv_sink.append(detections, custom_data)\n",
        "\n",
        "# csv_sink.close()"
      ],
      "metadata": {
        "id": "DIMCMtn5va3d",
        "colab": {
          "base_uri": "https://localhost:8080/"
        },
        "outputId": "1932892f-4e34-42f4-89a7-0f21339196a8"
      },
      "execution_count": 55,
      "outputs": [
        {
          "output_type": "stream",
          "name": "stdout",
          "text": [
            "time: 1.01 ms (started: 2024-10-25 22:56:36 +00:00)\n"
          ]
        }
      ]
    },
    {
      "cell_type": "markdown",
      "source": [
        "# MAIN PROGRAM"
      ],
      "metadata": {
        "id": "uOi1eL7K7Paw"
      }
    },
    {
      "cell_type": "code",
      "source": [
        "# Clear data files from previous run\n",
        "run_garbage_disposal()\n",
        "\n",
        "create_input_folder()\n",
        "create_output_folder()\n",
        "\n",
        "# Upload images or list of URLs\n",
        "# THE FOLLOWING LINE TRIGGERS APPEARANCE OF THE BROWSE BUTTON\n",
        "input_mode, urls = upload_zip_or_txt()\n",
        "\n",
        "# Upload weights from trained model and load them\n",
        "upload_model_weights()\n",
        "model = YOLO('weights.pt')\n",
        "\n",
        "box_annotator = sv.BoxAnnotator()\n",
        "label_annotator = sv.LabelAnnotator()\n",
        "csv_sink = sv.CSVSink('OUTPUT/detections.csv')\n",
        "csv_sink.open()"
      ],
      "metadata": {
        "id": "lXg9v2giEjrK",
        "outputId": "5e49b7a8-2616-4265-e177-06799f945031",
        "colab": {
          "base_uri": "https://localhost:8080/",
          "height": 388
        }
      },
      "execution_count": 56,
      "outputs": [
        {
          "output_type": "display_data",
          "data": {
            "text/plain": [
              "<IPython.core.display.HTML object>"
            ],
            "text/html": [
              "\n",
              "     <input type=\"file\" id=\"files-642676d5-f15e-42ed-96c3-0a7454bee200\" name=\"files[]\" multiple disabled\n",
              "        style=\"border:none\" />\n",
              "     <output id=\"result-642676d5-f15e-42ed-96c3-0a7454bee200\">\n",
              "      Upload widget is only available when the cell has been executed in the\n",
              "      current browser session. Please rerun this cell to enable.\n",
              "      </output>\n",
              "      <script>// Copyright 2017 Google LLC\n",
              "//\n",
              "// Licensed under the Apache License, Version 2.0 (the \"License\");\n",
              "// you may not use this file except in compliance with the License.\n",
              "// You may obtain a copy of the License at\n",
              "//\n",
              "//      http://www.apache.org/licenses/LICENSE-2.0\n",
              "//\n",
              "// Unless required by applicable law or agreed to in writing, software\n",
              "// distributed under the License is distributed on an \"AS IS\" BASIS,\n",
              "// WITHOUT WARRANTIES OR CONDITIONS OF ANY KIND, either express or implied.\n",
              "// See the License for the specific language governing permissions and\n",
              "// limitations under the License.\n",
              "\n",
              "/**\n",
              " * @fileoverview Helpers for google.colab Python module.\n",
              " */\n",
              "(function(scope) {\n",
              "function span(text, styleAttributes = {}) {\n",
              "  const element = document.createElement('span');\n",
              "  element.textContent = text;\n",
              "  for (const key of Object.keys(styleAttributes)) {\n",
              "    element.style[key] = styleAttributes[key];\n",
              "  }\n",
              "  return element;\n",
              "}\n",
              "\n",
              "// Max number of bytes which will be uploaded at a time.\n",
              "const MAX_PAYLOAD_SIZE = 100 * 1024;\n",
              "\n",
              "function _uploadFiles(inputId, outputId) {\n",
              "  const steps = uploadFilesStep(inputId, outputId);\n",
              "  const outputElement = document.getElementById(outputId);\n",
              "  // Cache steps on the outputElement to make it available for the next call\n",
              "  // to uploadFilesContinue from Python.\n",
              "  outputElement.steps = steps;\n",
              "\n",
              "  return _uploadFilesContinue(outputId);\n",
              "}\n",
              "\n",
              "// This is roughly an async generator (not supported in the browser yet),\n",
              "// where there are multiple asynchronous steps and the Python side is going\n",
              "// to poll for completion of each step.\n",
              "// This uses a Promise to block the python side on completion of each step,\n",
              "// then passes the result of the previous step as the input to the next step.\n",
              "function _uploadFilesContinue(outputId) {\n",
              "  const outputElement = document.getElementById(outputId);\n",
              "  const steps = outputElement.steps;\n",
              "\n",
              "  const next = steps.next(outputElement.lastPromiseValue);\n",
              "  return Promise.resolve(next.value.promise).then((value) => {\n",
              "    // Cache the last promise value to make it available to the next\n",
              "    // step of the generator.\n",
              "    outputElement.lastPromiseValue = value;\n",
              "    return next.value.response;\n",
              "  });\n",
              "}\n",
              "\n",
              "/**\n",
              " * Generator function which is called between each async step of the upload\n",
              " * process.\n",
              " * @param {string} inputId Element ID of the input file picker element.\n",
              " * @param {string} outputId Element ID of the output display.\n",
              " * @return {!Iterable<!Object>} Iterable of next steps.\n",
              " */\n",
              "function* uploadFilesStep(inputId, outputId) {\n",
              "  const inputElement = document.getElementById(inputId);\n",
              "  inputElement.disabled = false;\n",
              "\n",
              "  const outputElement = document.getElementById(outputId);\n",
              "  outputElement.innerHTML = '';\n",
              "\n",
              "  const pickedPromise = new Promise((resolve) => {\n",
              "    inputElement.addEventListener('change', (e) => {\n",
              "      resolve(e.target.files);\n",
              "    });\n",
              "  });\n",
              "\n",
              "  const cancel = document.createElement('button');\n",
              "  inputElement.parentElement.appendChild(cancel);\n",
              "  cancel.textContent = 'Cancel upload';\n",
              "  const cancelPromise = new Promise((resolve) => {\n",
              "    cancel.onclick = () => {\n",
              "      resolve(null);\n",
              "    };\n",
              "  });\n",
              "\n",
              "  // Wait for the user to pick the files.\n",
              "  const files = yield {\n",
              "    promise: Promise.race([pickedPromise, cancelPromise]),\n",
              "    response: {\n",
              "      action: 'starting',\n",
              "    }\n",
              "  };\n",
              "\n",
              "  cancel.remove();\n",
              "\n",
              "  // Disable the input element since further picks are not allowed.\n",
              "  inputElement.disabled = true;\n",
              "\n",
              "  if (!files) {\n",
              "    return {\n",
              "      response: {\n",
              "        action: 'complete',\n",
              "      }\n",
              "    };\n",
              "  }\n",
              "\n",
              "  for (const file of files) {\n",
              "    const li = document.createElement('li');\n",
              "    li.append(span(file.name, {fontWeight: 'bold'}));\n",
              "    li.append(span(\n",
              "        `(${file.type || 'n/a'}) - ${file.size} bytes, ` +\n",
              "        `last modified: ${\n",
              "            file.lastModifiedDate ? file.lastModifiedDate.toLocaleDateString() :\n",
              "                                    'n/a'} - `));\n",
              "    const percent = span('0% done');\n",
              "    li.appendChild(percent);\n",
              "\n",
              "    outputElement.appendChild(li);\n",
              "\n",
              "    const fileDataPromise = new Promise((resolve) => {\n",
              "      const reader = new FileReader();\n",
              "      reader.onload = (e) => {\n",
              "        resolve(e.target.result);\n",
              "      };\n",
              "      reader.readAsArrayBuffer(file);\n",
              "    });\n",
              "    // Wait for the data to be ready.\n",
              "    let fileData = yield {\n",
              "      promise: fileDataPromise,\n",
              "      response: {\n",
              "        action: 'continue',\n",
              "      }\n",
              "    };\n",
              "\n",
              "    // Use a chunked sending to avoid message size limits. See b/62115660.\n",
              "    let position = 0;\n",
              "    do {\n",
              "      const length = Math.min(fileData.byteLength - position, MAX_PAYLOAD_SIZE);\n",
              "      const chunk = new Uint8Array(fileData, position, length);\n",
              "      position += length;\n",
              "\n",
              "      const base64 = btoa(String.fromCharCode.apply(null, chunk));\n",
              "      yield {\n",
              "        response: {\n",
              "          action: 'append',\n",
              "          file: file.name,\n",
              "          data: base64,\n",
              "        },\n",
              "      };\n",
              "\n",
              "      let percentDone = fileData.byteLength === 0 ?\n",
              "          100 :\n",
              "          Math.round((position / fileData.byteLength) * 100);\n",
              "      percent.textContent = `${percentDone}% done`;\n",
              "\n",
              "    } while (position < fileData.byteLength);\n",
              "  }\n",
              "\n",
              "  // All done.\n",
              "  yield {\n",
              "    response: {\n",
              "      action: 'complete',\n",
              "    }\n",
              "  };\n",
              "}\n",
              "\n",
              "scope.google = scope.google || {};\n",
              "scope.google.colab = scope.google.colab || {};\n",
              "scope.google.colab._files = {\n",
              "  _uploadFiles,\n",
              "  _uploadFilesContinue,\n",
              "};\n",
              "})(self);\n",
              "</script> "
            ]
          },
          "metadata": {}
        },
        {
          "output_type": "stream",
          "name": "stdout",
          "text": [
            "Saving urls.txt to INPUT/urls.txt\n",
            "--2024-10-25 22:56:47--  https://github.com/aubreymoore/code-for-CRB-damage-ai/raw/refs/heads/main/models/3class/train5/weights/best.pt\n",
            "Resolving github.com (github.com)... 140.82.112.4\n",
            "Connecting to github.com (github.com)|140.82.112.4|:443... connected.\n",
            "HTTP request sent, awaiting response... 302 Found\n",
            "Location: https://raw.githubusercontent.com/aubreymoore/code-for-CRB-damage-ai/refs/heads/main/models/3class/train5/weights/best.pt [following]\n",
            "--2024-10-25 22:56:48--  https://raw.githubusercontent.com/aubreymoore/code-for-CRB-damage-ai/refs/heads/main/models/3class/train5/weights/best.pt\n",
            "Resolving raw.githubusercontent.com (raw.githubusercontent.com)... 185.199.108.133, 185.199.109.133, 185.199.110.133, ...\n",
            "Connecting to raw.githubusercontent.com (raw.githubusercontent.com)|185.199.108.133|:443... connected.\n",
            "HTTP request sent, awaiting response... 200 OK\n",
            "Length: 6269721 (6.0M) [application/octet-stream]\n",
            "Saving to: ‘weights.pt’\n",
            "\n",
            "weights.pt          100%[===================>]   5.98M  --.-KB/s    in 0.07s   \n",
            "\n",
            "2024-10-25 22:56:48 (84.9 MB/s) - ‘weights.pt’ saved [6269721/6269721]\n",
            "\n",
            "time: 12.5 s (started: 2024-10-25 22:56:36 +00:00)\n"
          ]
        }
      ]
    },
    {
      "cell_type": "markdown",
      "source": [
        "## Please click on the Browse buttom when it appears above this cell."
      ],
      "metadata": {
        "id": "5zSjfTXvIv2q"
      }
    },
    {
      "cell_type": "code",
      "source": [
        "# Scan images\n",
        "if input_mode == 'text':\n",
        "  for url in urls:\n",
        "    ic()\n",
        "    ic(url)\n",
        "    try:\n",
        "      img, exif_data = url2img(url)\n",
        "    except Exception as e:\n",
        "      ic(e)\n",
        "      continue\n",
        "    detections, annotated_image = detect_objects(img, model, box_annotator, label_annotator, csv_sink)\n",
        "    gps_data = get_gps_from_exif(exif_data)\n",
        "    ic(gps_data)\n",
        "    csv_sink.append(\n",
        "        detections,\n",
        "        custom_data={\n",
        "            'timestamp': gps_data['timestamp'],\n",
        "            'latitude': gps_data['latitude'],\n",
        "            'longitude': gps_data['longitude'],\n",
        "            'image_h': img.shape[0],\n",
        "            'image_w': img.shape[1],\n",
        "            'source': url}\n",
        "    )\n",
        "    # Extract filename from URL\n",
        "    filename = url.split('/')[-1]\n",
        "    pos = filename.find('?')\n",
        "    if pos >= 0:\n",
        "      filename = filename[:pos]\n",
        "\n",
        "    # Save annotated image\n",
        "    output_path = f'OUTPUT/{filename}'.replace('.', '_annotated.')\n",
        "    ic(output_path)\n",
        "    os.makedirs(os.path.dirname(output_path), exist_ok = True)\n",
        "    cv2.imwrite(output_path, annotated_image)\n",
        "\n",
        "    # try:\n",
        "    #   # image = imutils.url_to_image(url)\n",
        "    #   image = cv2.imread('image.jpg')\n",
        "    #   detections, annotated_image = detect_objects(image, model, box_annotator, label_annotator, csv_sink)\n",
        "    #   csv_sink.append(\n",
        "    #       detections,\n",
        "    #       custom_data={'image_h': image.shape[0], 'image_w': image.shape[1], 'source': url}\n",
        "    #   )\n",
        "\n",
        "    #   # Extract filename from URL\n",
        "    #   filename = url.split('/')[-1]\n",
        "    #   pos = filename.find('?')\n",
        "    #   if pos >= 0:\n",
        "    #     filename = filename[:pos]\n",
        "\n",
        "    #   output_path = f'OUTPUT/{filename}'.replace('.', '_annotated.')\n",
        "    #   ic(output_path)\n",
        "    #   os.makedirs(os.path.dirname(output_path), exist_ok = True)\n",
        "    #   cv2.imwrite(output_path, annotated_image)\n",
        "    # except:\n",
        "    #   print(f'Error processing {url}')\n",
        "    # continue\n",
        "\n",
        "if input_mode == 'zip':\n",
        "  process_zipped_images('INPUT/images.zip')\n",
        "\n",
        "  # input_file_list = get_input_file_list()\n",
        "  # ic(input_file_list)\n",
        "  # for image_path in input_file_list:\n",
        "  #   ic(image_path)\n",
        "  #   try:\n",
        "  #     image = cv2.imread(image_path)\n",
        "  #     detections, annotated_image = detect_objects(image, model, box_annotator, label_annotator, csv_sink)\n",
        "  #     csv_sink.append(\n",
        "  #         detections,\n",
        "  #         custom_data={'image_h': image.shape[0], 'image_w': image.shape[1], 'source': image_path}\n",
        "  #     )\n",
        "\n",
        "  #     filename = os.path.basename(image_path)\n",
        "  #     output_path = f'OUTPUT/{filename}'.replace('.', '_annotated.')\n",
        "  #     os.makedirs(os.path.dirname(output_path), exist_ok = True)\n",
        "  #     result = cv2.imwrite(output_path, annotated_image)\n",
        "  #   except:\n",
        "  #     print(f'Error processing {image_path}')\n",
        "  #   continue\n",
        "\n",
        "csv_sink.close()"
      ],
      "metadata": {
        "id": "kGRopezOreIr",
        "outputId": "096ace0c-c94f-4569-d840-06434126c7a5",
        "colab": {
          "base_uri": "https://localhost:8080/"
        }
      },
      "execution_count": 57,
      "outputs": [
        {
          "output_type": "stream",
          "name": "stderr",
          "text": [
            "ic| <ipython-input-57-c5cea1e8c5a6>:4 in <cell line: 2>() at 22:56:48.825\n",
            "ic| url: 'https://github.com/aubreymoore/crb-damage-detector-colab/blob/main/data/images/IMG_0532.JPG?raw=true'\n",
            "WARNING:exif._image:unable to read tag 'components_configuration'\n",
            "WARNING:exif._image:unable to read tag 'maker_note'\n",
            "WARNING:exif._image:unable to read tag 'flashpix_version'\n",
            "WARNING:exif._image:unable to read tag 'scene_type'\n"
          ]
        },
        {
          "output_type": "stream",
          "name": "stdout",
          "text": [
            "\n",
            "0: 736x960 11 lives, 485.5ms\n",
            "Speed: 16.0ms preprocess, 485.5ms inference, 2.6ms postprocess per image at shape (1, 3, 736, 960)\n"
          ]
        },
        {
          "output_type": "stream",
          "name": "stderr",
          "text": [
            "ic| gps_data: {'latitude': -17.69332222222222,\n",
            "               'longitude': 168.27804444444445,\n",
            "               'timestamp': '2022:07:24 11:01:28'}\n",
            "ic| output_path: 'OUTPUT/IMG_0532_annotated.JPG'\n",
            "ic| <ipython-input-57-c5cea1e8c5a6>:4 in <cell line: 2>() at 22:56:50.897\n",
            "ic| url: 'https://github.com/aubreymoore/crb-damage-detector-colab/blob/main/data/images/IMG_0671.JPG?raw=true'\n",
            "WARNING:exif._image:unable to read tag 'components_configuration'\n",
            "WARNING:exif._image:unable to read tag 'maker_note'\n",
            "WARNING:exif._image:unable to read tag 'flashpix_version'\n",
            "WARNING:exif._image:unable to read tag 'scene_type'\n"
          ]
        },
        {
          "output_type": "stream",
          "name": "stdout",
          "text": [
            "\n",
            "0: 736x960 3 lives, 630.3ms\n",
            "Speed: 11.1ms preprocess, 630.3ms inference, 1.6ms postprocess per image at shape (1, 3, 736, 960)\n"
          ]
        },
        {
          "output_type": "stream",
          "name": "stderr",
          "text": [
            "ic| gps_data: {'latitude': -17.70798333333333,\n",
            "               'longitude': 168.216675,\n",
            "               'timestamp': '2022:07:27 08:50:29'}\n",
            "ic| output_path: 'OUTPUT/IMG_0671_annotated.JPG'\n",
            "ic| <ipython-input-57-c5cea1e8c5a6>:4 in <cell line: 2>() at 22:56:52.706\n",
            "ic| url: 'https://github.com/aubreymoore/crb-damage-detector-colab/blob/main/data/images/IMG_06XX.JPG?raw=true'\n",
            "ic| e: error(\"OpenCV(4.10.0) /io/opencv/modules/imgproc/src/color.cpp:196: error: (-215:Assertion failed) !_src.empty() in function 'cvtColor'\n",
            "       \")\n",
            "ic| <ipython-input-57-c5cea1e8c5a6>:4 in <cell line: 2>() at 22:56:53.697\n",
            "ic| url: 'https://github.com/aubreymoore/crb-damage-detector-colab/blob/main/data/images/IMG_0695.JPG?raw=true'\n",
            "WARNING:exif._image:unable to read tag 'components_configuration'\n",
            "WARNING:exif._image:unable to read tag 'maker_note'\n",
            "WARNING:exif._image:unable to read tag 'flashpix_version'\n",
            "WARNING:exif._image:unable to read tag 'scene_type'\n"
          ]
        },
        {
          "output_type": "stream",
          "name": "stdout",
          "text": [
            "\n",
            "0: 736x960 3 lives, 698.1ms\n",
            "Speed: 5.6ms preprocess, 698.1ms inference, 1.4ms postprocess per image at shape (1, 3, 736, 960)\n"
          ]
        },
        {
          "output_type": "stream",
          "name": "stderr",
          "text": [
            "ic| gps_data: {'latitude': -17.74636388888889,\n",
            "               'longitude': 168.29942222222223,\n",
            "               'timestamp': '2022:07:28 09:55:35'}\n",
            "ic| output_path: 'OUTPUT/IMG_0695_annotated.JPG'\n",
            "ic| <ipython-input-57-c5cea1e8c5a6>:4 in <cell line: 2>() at 22:56:55.498\n",
            "ic| url: 'https://github.com/aubreymoore/crb-damage-detector-colab/blob/main/data/images/IMG_0704.JPG?raw=true'\n",
            "WARNING:exif._image:unable to read tag 'components_configuration'\n",
            "WARNING:exif._image:unable to read tag 'maker_note'\n",
            "WARNING:exif._image:unable to read tag 'flashpix_version'\n",
            "WARNING:exif._image:unable to read tag 'scene_type'\n"
          ]
        },
        {
          "output_type": "stream",
          "name": "stdout",
          "text": [
            "\n",
            "0: 736x960 4 lives, 4 vcuts, 1354.9ms\n",
            "Speed: 7.3ms preprocess, 1354.9ms inference, 1.4ms postprocess per image at shape (1, 3, 736, 960)\n"
          ]
        },
        {
          "output_type": "stream",
          "name": "stderr",
          "text": [
            "ic| gps_data: {'latitude': -17.745350000000002,\n",
            "               'longitude': 168.29928611111112,\n",
            "               'timestamp': '2022:07:28 10:17:11'}\n",
            "ic| output_path: 'OUTPUT/IMG_0704_annotated.JPG'\n",
            "ic| <ipython-input-57-c5cea1e8c5a6>:4 in <cell line: 2>() at 22:56:58.130\n",
            "ic| url: 'https://github.com/aubreymoore/crb-damage-detector-colab/blob/main/data/images/IMG_0713.JPG?raw=true'\n",
            "WARNING:exif._image:unable to read tag 'components_configuration'\n",
            "WARNING:exif._image:unable to read tag 'maker_note'\n",
            "WARNING:exif._image:unable to read tag 'flashpix_version'\n",
            "WARNING:exif._image:unable to read tag 'scene_type'\n"
          ]
        },
        {
          "output_type": "stream",
          "name": "stdout",
          "text": [
            "\n",
            "0: 736x960 1 live, 1203.4ms\n",
            "Speed: 25.4ms preprocess, 1203.4ms inference, 1.4ms postprocess per image at shape (1, 3, 736, 960)\n"
          ]
        },
        {
          "output_type": "stream",
          "name": "stderr",
          "text": [
            "ic| gps_data: {'latitude': -17.748097222222224,\n",
            "               'longitude': 168.2942361111111,\n",
            "               'timestamp': '2022:07:28 10:51:26'}\n",
            "ic| output_path: 'OUTPUT/IMG_0713_annotated.JPG'\n"
          ]
        },
        {
          "output_type": "stream",
          "name": "stdout",
          "text": [
            "time: 11.9 s (started: 2024-10-25 22:56:48 +00:00)\n"
          ]
        }
      ]
    },
    {
      "cell_type": "markdown",
      "source": [
        "### Download OUTPUT folder as a ZIP file"
      ],
      "metadata": {
        "id": "NTYyOn8QztJW"
      }
    },
    {
      "cell_type": "code",
      "source": [
        "!zip -r OUTPUT.zip OUTPUT"
      ],
      "metadata": {
        "id": "l8tPKEwW4JPa",
        "outputId": "570aaddf-3a98-45c2-9114-8990bc997b96",
        "colab": {
          "base_uri": "https://localhost:8080/"
        }
      },
      "execution_count": 59,
      "outputs": [
        {
          "output_type": "stream",
          "name": "stdout",
          "text": [
            "updating: OUTPUT/ (stored 0%)\n",
            "updating: OUTPUT/IMG_0713_annotated.JPG (deflated 1%)\n",
            "updating: OUTPUT/IMG_0695_annotated.JPG (deflated 1%)\n",
            "updating: OUTPUT/IMG_0671_annotated.JPG (deflated 0%)\n",
            "updating: OUTPUT/detections.csv (deflated 81%)\n",
            "updating: OUTPUT/IMG_0532_annotated.JPG (deflated 0%)\n",
            "updating: OUTPUT/IMG_0704_annotated.JPG (deflated 0%)\n",
            "time: 343 ms (started: 2024-10-25 22:57:00 +00:00)\n"
          ]
        }
      ]
    },
    {
      "cell_type": "code",
      "source": [
        "from google.colab import files\n",
        "files.download(\"OUTPUT.zip\")"
      ],
      "metadata": {
        "id": "ODvR3p_8zG1o",
        "outputId": "350e7ec1-6f90-4562-b1bd-b1df5629709f",
        "colab": {
          "base_uri": "https://localhost:8080/",
          "height": 54
        }
      },
      "execution_count": 60,
      "outputs": [
        {
          "output_type": "display_data",
          "data": {
            "text/plain": [
              "<IPython.core.display.Javascript object>"
            ],
            "application/javascript": [
              "\n",
              "    async function download(id, filename, size) {\n",
              "      if (!google.colab.kernel.accessAllowed) {\n",
              "        return;\n",
              "      }\n",
              "      const div = document.createElement('div');\n",
              "      const label = document.createElement('label');\n",
              "      label.textContent = `Downloading \"${filename}\": `;\n",
              "      div.appendChild(label);\n",
              "      const progress = document.createElement('progress');\n",
              "      progress.max = size;\n",
              "      div.appendChild(progress);\n",
              "      document.body.appendChild(div);\n",
              "\n",
              "      const buffers = [];\n",
              "      let downloaded = 0;\n",
              "\n",
              "      const channel = await google.colab.kernel.comms.open(id);\n",
              "      // Send a message to notify the kernel that we're ready.\n",
              "      channel.send({})\n",
              "\n",
              "      for await (const message of channel.messages) {\n",
              "        // Send a message to notify the kernel that we're ready.\n",
              "        channel.send({})\n",
              "        if (message.buffers) {\n",
              "          for (const buffer of message.buffers) {\n",
              "            buffers.push(buffer);\n",
              "            downloaded += buffer.byteLength;\n",
              "            progress.value = downloaded;\n",
              "          }\n",
              "        }\n",
              "      }\n",
              "      const blob = new Blob(buffers, {type: 'application/binary'});\n",
              "      const a = document.createElement('a');\n",
              "      a.href = window.URL.createObjectURL(blob);\n",
              "      a.download = filename;\n",
              "      div.appendChild(a);\n",
              "      a.click();\n",
              "      div.remove();\n",
              "    }\n",
              "  "
            ]
          },
          "metadata": {}
        },
        {
          "output_type": "display_data",
          "data": {
            "text/plain": [
              "<IPython.core.display.Javascript object>"
            ],
            "application/javascript": [
              "download(\"download_83472846-1725-431b-a538-5f40dfd71702\", \"OUTPUT.zip\", 1543792)"
            ]
          },
          "metadata": {}
        },
        {
          "output_type": "stream",
          "name": "stdout",
          "text": [
            "time: 32.1 ms (started: 2024-10-25 22:57:01 +00:00)\n"
          ]
        }
      ]
    },
    {
      "cell_type": "markdown",
      "source": [
        "# FINISHED\n",
        "If everything worked as intended, you should find a file named **OUTPUT.zip** in your Downloads folder. Unzip this file to see results."
      ],
      "metadata": {
        "id": "LOCD7_KCdMh1"
      }
    },
    {
      "cell_type": "code",
      "source": [
        "print('FINISHED')"
      ],
      "metadata": {
        "id": "dfWKUVoS2b92",
        "outputId": "8e22b015-198b-463d-ff1c-cc2100259177",
        "colab": {
          "base_uri": "https://localhost:8080/"
        }
      },
      "execution_count": 61,
      "outputs": [
        {
          "output_type": "stream",
          "name": "stdout",
          "text": [
            "FINISHED\n",
            "time: 754 µs (started: 2024-10-25 22:57:01 +00:00)\n"
          ]
        }
      ]
    }
  ]
}