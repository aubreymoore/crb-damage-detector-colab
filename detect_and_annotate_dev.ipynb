{
  "nbformat": 4,
  "nbformat_minor": 0,
  "metadata": {
    "colab": {
      "provenance": [],
      "authorship_tag": "ABX9TyM+1/mnb2dVDgKuZCl/CTOu",
      "include_colab_link": true
    },
    "kernelspec": {
      "name": "python3",
      "display_name": "Python 3"
    },
    "language_info": {
      "name": "python"
    }
  },
  "cells": [
    {
      "cell_type": "markdown",
      "metadata": {
        "id": "view-in-github",
        "colab_type": "text"
      },
      "source": [
        "<a href=\"https://colab.research.google.com/github/aubreymoore/crb-damage-detector-colab/blob/main/detect_and_annotate_dev.ipynb\" target=\"_parent\"><img src=\"https://colab.research.google.com/assets/colab-badge.svg\" alt=\"Open In Colab\"/></a>"
      ]
    },
    {
      "cell_type": "markdown",
      "source": [
        "# detect_and_annotate.ipynb\n",
        "\n",
        "NOTE: The following documentation is already slightly out of date.\n",
        "Please visit https://github.com/aubreymoore/crb-damage-detector-colab before running this notebook for the first time.\n",
        "\n",
        "This Colab Jupyter notebook runs a custom YOLOv8 object detector which scans images to find three object classes: live coconut palms, dead coconut palms and v-shaped cuts symptomatic of damage caused by coconut rhinoceros beetle, *Oryctes rhinoceros*.\n",
        "\n",
        "IMPORTANT: Shortly after the MAIN PROGRAM section begins executing, a BROWSE button will appear below the active cell to allow you to upload single file of input data from your loacal machine to Colab.\n",
        "\n",
        "**Note that Colab will just sit there and not do anything until you have entered a path to a test file of URLs or a ZIP file of images on your local machine.** [Click here to scroll down to the \"Browser\" button.](#scrollTo=5zSjfTXvIv2q&line=1&uniqifier=1)\n",
        "\n",
        "You may choose between 2 options:\n",
        "* A TEXT file (\\*.txt) containing URLs for images to be scanned. One URL per line. (This is the most efficient option.)\n",
        "* A ZIP file (\\*.zip) containing images to be scanned.\n",
        "\n",
        "\n",
        "Test data are available in a companion GitHub repository at https://github.com/aubreymoore/crb-damage-detector-colab. To use the test data, download it to your local computer it as a [ZIP file](https://github.com/aubreymoore/crb-damage-detector-colab/archive/refs/heads/main.zip) and unzip it. If you have **git** installed, you can clone the repo as an alternative. The TEXT file or ZIP file to be uploaded to Colab will be found in the repository's **data** folder.\n",
        "\n",
        "To scan images, select **Runtime | Run all** on the main menu.\n",
        "Results will be in a temporary OUTPUT folder which you can access using the **File browser** in the left Colab panel.\n",
        "\n",
        "When image scanning is complete, the OUTPUT folder will be compressed into a single ZIP file and automatically downloaded to your computer.\n",
        "\n",
        "### TODO\n",
        "\n",
        "- [ finished 2024-10-19] Reduce size of images in the companion GH repo to max dimension of 960px\n",
        "- [ ] Copy current trained model to companion GH repo\n",
        "- [ ] Copy this Jupyter notebook to companion GH repo\n",
        "- [ ] Add confidence values to bounding box labels.\n",
        "- [ ] Add database to OUTPUT folder\n",
        "- [ ] Extract GPS coordinates from image files\n",
        "- [ ] Figure out how to use URLs to access images stored on OneDrive (Sharepoint)"
      ],
      "metadata": {
        "id": "EUB3xquwb6sI"
      }
    },
    {
      "cell_type": "markdown",
      "source": [
        "# Load Python packages which are not preinstalled by Colab"
      ],
      "metadata": {
        "id": "7Rp6VisrdfNv"
      }
    },
    {
      "cell_type": "code",
      "execution_count": null,
      "metadata": {
        "id": "AggzUm3SRJFO"
      },
      "outputs": [],
      "source": [
        "%pip install ultralytics -q\n",
        "%pip install supervision -q\n",
        "%pip install icecream -q\n",
        "%pip install ipython-autotime -q\n",
        "%pip install exif -q\n",
        "%pip install requests -q"
      ]
    },
    {
      "cell_type": "markdown",
      "source": [
        "# Import modules"
      ],
      "metadata": {
        "id": "l0Uuj0JCi5Ll"
      }
    },
    {
      "cell_type": "code",
      "source": [
        "import cv2\n",
        "import supervision as sv\n",
        "from ultralytics import YOLO\n",
        "import glob\n",
        "import os\n",
        "import shutil\n",
        "from icecream import ic\n",
        "from google.colab import files\n",
        "import zipfile\n",
        "import exif\n",
        "import numpy as np\n",
        "import requests"
      ],
      "metadata": {
        "id": "U1cExUvHRlTA"
      },
      "execution_count": null,
      "outputs": []
    },
    {
      "cell_type": "markdown",
      "source": [
        "# Load cell timer"
      ],
      "metadata": {
        "id": "KpGhWzQFZfr9"
      }
    },
    {
      "cell_type": "code",
      "source": [
        "%load_ext autotime"
      ],
      "metadata": {
        "id": "GJUTRUbHYhRl"
      },
      "execution_count": null,
      "outputs": []
    },
    {
      "cell_type": "markdown",
      "source": [
        "# Define functions"
      ],
      "metadata": {
        "id": "mV6zIMn0ZRGZ"
      }
    },
    {
      "cell_type": "code",
      "source": [
        "def extract_img_exif(data):\n",
        "  \"\"\"\n",
        "  Extracts an image and EXIF metadata from a given data buffer.\n",
        "\n",
        "  See functions url2img and process_zipped_images to see how data buffers\n",
        "  con be sourced from an URL referencing an image or a ZIP file containing\n",
        "  images.\n",
        "\n",
        "  Returns img as a numpy.ndarray and exif_data as a dict.\n",
        "  \"\"\"\n",
        "  # Extract metadata stored in EXIF\n",
        "  exif_data = {}\n",
        "  try:\n",
        "    exif_data = exif.Image(data).get_all()\n",
        "  except Exception as e:\n",
        "    ic(e)\n",
        "    pass\n",
        "\n",
        "  # Extract image\n",
        "  bytes_as_np_array = np.frombuffer(data, dtype=np.uint8)\n",
        "  img = cv2.imdecode(bytes_as_np_array, cv2.IMREAD_UNCHANGED)\n",
        "  # img = cv2.cvtColor(img, cv2.COLOR_BGR2RGB)\n",
        "\n",
        "  # Rotate image if necessary\n",
        "  try:\n",
        "    if str(exif_data['orientation']) == 'Orientation.RIGHT_TOP':\n",
        "      img = cv2.rotate(img, cv2.ROTATE_90_CLOCKWISE)\n",
        "  except Exception as e:\n",
        "    ic(e)\n",
        "    pass\n",
        "\n",
        "  return img, exif_data\n",
        "\n",
        "# # Usage:\n",
        "# url = 'https://github.com/aubreymoore/crb-damage-detector-colab/blob/main/data/images/IMG_0695.JPG?raw=true'\n",
        "# img, exif_data = url2img(url)\n",
        "# img"
      ],
      "metadata": {
        "id": "Y9Iti2g2fAqr"
      },
      "execution_count": null,
      "outputs": []
    },
    {
      "cell_type": "code",
      "source": [
        "def url2img(url):\n",
        "  \"\"\"\n",
        "  Loads contents of a file referenced by an URL into memory and extracts an\n",
        "  image and EXIF metadata\n",
        "\n",
        "  Returns img as a numpy.ndarray and exif_data as a dict.\n",
        "  \"\"\"\n",
        "  # Download the data file referenced by the URL and save contents as \"data\"\n",
        "  try:\n",
        "    response = requests.get(url)\n",
        "    data = response.content\n",
        "  except Exception as e:\n",
        "    ic(e)\n",
        "    return None, None\n",
        "\n",
        "  img, exif_data = extract_img_exif(data)\n",
        "  return img, exif_data\n",
        "\n",
        "# Usage:\n",
        "# # url = 'https://github.com/aubreymoore/crb-damage-detector-colab/blob/main/data/images/IMG_0532.JPG?raw=true'\n",
        "# url = 'https://github.com/aubreymoore/crb-damage-detector-colab/blob/main/data/images/IMG_0695.JPG?raw=true'\n",
        "# img, exif_data = url2img(url)\n",
        "# ic(exif_data['orientation'])\n",
        "# img"
      ],
      "metadata": {
        "id": "vyBOh9gDaIED"
      },
      "execution_count": null,
      "outputs": []
    },
    {
      "cell_type": "code",
      "source": [
        "def process_zipped_images(zip_file_path):\n",
        "  \"\"\"\n",
        "  Args:\n",
        "    zip_file_path:\n",
        "  \"\"\"\n",
        "  z = zipfile.ZipFile(zip_file_path)\n",
        "  ic(z.namelist())\n",
        "  for file_name in z.namelist():\n",
        "    if file_name.lower().endswith(('.jpg', '.jpeg', '.png', '.gif')):  # Check for common image extensions\n",
        "      with z.open(file_name, 'r') as file:   # Use z.open to directly open the file within the zip archive\n",
        "        ic(' ')\n",
        "        ic(file_name)\n",
        "        try:\n",
        "          data = file.read() # Read the content of the file as bytes\n",
        "          img, exif_data = extract_img_exif(data)\n",
        "\n",
        "          # PROCESS AN IMAGE\n",
        "\n",
        "          # detect objects\n",
        "          detections, annotated_image = detect_objects(img, model, box_annotator, label_annotator, csv_sink)\n",
        "\n",
        "          # Save annotated image\n",
        "          fn = os.path.basename(file_name)\n",
        "          output_path = f\"OUTPUT/{fn.replace('.', '_annotated.')}\"\n",
        "          cv2.imwrite(output_path, annotated_image)\n",
        "\n",
        "          # Append metadata to csv_sink\n",
        "          gps_data = get_gps_from_exif(exif_data)\n",
        "          ic(gps_data)\n",
        "          csv_sink.append(\n",
        "            detections,\n",
        "            custom_data={\n",
        "              'timestamp': gps_data['timestamp'].replace(':', '-', 2),\n",
        "              'latitude': round(gps_data['latitude'], 6),\n",
        "              'longitude': round(gps_data['longitude'], 6),\n",
        "              'image_h': img.shape[0],\n",
        "              'image_w': img.shape[1],\n",
        "              'source': fn}\n",
        "          )\n",
        "\n",
        "        except Exception as e:\n",
        "          ic(f\"Error processing {file_name}: {e}\")\n",
        "\n",
        "# Usage:\n",
        "# process_zipped_images('images.zip')"
      ],
      "metadata": {
        "id": "9PrrUDGXXbHt"
      },
      "execution_count": null,
      "outputs": []
    },
    {
      "cell_type": "code",
      "source": [
        "def get_gps_from_exif(exif_data):\n",
        "  \"\"\"\n",
        "  Gets timestamp and GPS coordinates for an image.\n",
        "\n",
        "  Args:\n",
        "    exif_data: dict containing EXIF data\n",
        "\n",
        "  Returns:\n",
        "    timestamp, latitude, longitude\n",
        "  \"\"\"\n",
        "  d = exif_data\n",
        "  try:\n",
        "    timestamp = d.get('datetime_original', None)\n",
        "    latdms = d.get('gps_latitude', None)\n",
        "    londms = d.get('gps_longitude', None)\n",
        "    if latdms and londms:\n",
        "      latitude = latdms[0] + latdms[1]/60 + latdms[2]/3600\n",
        "      if d['gps_latitude_ref'] == 'S':\n",
        "        latitude = -latitude\n",
        "      longitude  = londms[0] + londms[1]/60 + londms[2]/3600\n",
        "      if d['gps_longitude_ref'] == 'W':\n",
        "        longitude = -longitude\n",
        "    return {\"timestamp\": timestamp, \"latitude\": latitude, \"longitude\": longitude}\n",
        "  except Exception as e:\n",
        "    ic(e)\n",
        "    return {\"timestamp\": None, \"latitude\": None,\"longitude\": None}\n",
        "\n",
        "# # Usage:\n",
        "# url = 'https://github.com/aubreymoore/crb-damage-detector-colab/blob/main/data/images/IMG_0532.JPG?raw=true'\n",
        "# img, exif_data = url2img(url)\n",
        "# gps_data = get_gps_from_exif(exif_data)\n",
        "# gps_data"
      ],
      "metadata": {
        "id": "yzX5aPP_mryZ"
      },
      "execution_count": null,
      "outputs": []
    },
    {
      "cell_type": "code",
      "source": [
        "def upload_model_weights():\n",
        "  '''\n",
        "  Upload model weights from GitHub repo to **weights.pt** only if this file does not already exist.\n",
        "  '''\n",
        "  !wget -nc https://github.com/aubreymoore/code-for-CRB-damage-ai/raw/refs/heads/main/models/3class/train5/weights/best.pt -O weights.pt\n",
        "\n",
        "# upload_model_weights()"
      ],
      "metadata": {
        "id": "7Yc80WosFV0G"
      },
      "execution_count": null,
      "outputs": []
    },
    {
      "cell_type": "code",
      "source": [
        "def load_model_weights():\n",
        "  model = YOLO('weights.pt')"
      ],
      "metadata": {
        "id": "IN7dkUz24841"
      },
      "execution_count": null,
      "outputs": []
    },
    {
      "cell_type": "code",
      "source": [
        "def create_input_folder():\n",
        "  if not os.path.exists('INPUT'):\n",
        "    os.makedirs('INPUT')\n",
        "\n",
        "# create_input_folder()"
      ],
      "metadata": {
        "id": "TEW_0vwRZWEV"
      },
      "execution_count": null,
      "outputs": []
    },
    {
      "cell_type": "code",
      "source": [
        "def create_output_folder():\n",
        "  if not os.path.exists('OUTPUT'):\n",
        "    os.makedirs('OUTPUT')\n",
        "\n",
        "# create_output_folder()"
      ],
      "metadata": {
        "id": "OH8-tflD8taN"
      },
      "execution_count": null,
      "outputs": []
    },
    {
      "cell_type": "code",
      "source": [
        "def run_garbage_disposal():\n",
        "  '''\n",
        "  Delete any data files left over from the last run.\n",
        "  '''\n",
        "  shutil.rmtree('INPUT', ignore_errors=True)\n",
        "  shutil.rmtree('OUTPUT', ignore_errors=True)\n",
        "  shutil.rmtree('sample_data', ignore_errors=True)\n",
        "\n",
        "  try:\n",
        "    os.remove('weights.pt')\n",
        "  except OSError:\n",
        "    pass\n",
        "\n",
        "# run_garbage_disposal()"
      ],
      "metadata": {
        "id": "N5Bb4M-9xLUr"
      },
      "execution_count": null,
      "outputs": []
    },
    {
      "cell_type": "code",
      "source": [
        "def extract_JPG_files(zip_file_path, output_dir):\n",
        "    # Ensure the output directory exists\n",
        "    os.makedirs(output_dir, exist_ok=True)\n",
        "\n",
        "    with zipfile.ZipFile(zip_file_path, 'r') as zip_ref:\n",
        "        # Loop through each file in the zip archive\n",
        "        for file_name in zip_ref.namelist():\n",
        "            if file_name.endswith('.JPG'):  # Check for .jpg extension\n",
        "                print(f'Extracting {file_name}...')\n",
        "                zip_ref.extract(file_name, output_dir)  # Extract the file\n",
        "\n",
        "# Usage\n",
        "# extract_dll_files('path/to/your/archive.zip', 'path/to/extract/directory')\n"
      ],
      "metadata": {
        "id": "jgFm4SOSull8"
      },
      "execution_count": null,
      "outputs": []
    },
    {
      "cell_type": "code",
      "source": [
        "def extract_zip_to_memory(zip_content):\n",
        "    \"\"\"\n",
        "    Extracts files from a ZIP archive stored in memory.\n",
        "\n",
        "    :param zip_content: Bytes of the ZIP file.\n",
        "    :return: A dictionary of filename and file-like objects.\n",
        "    \"\"\"\n",
        "    extracted_files = {}\n",
        "    with zipfile.ZipFile(io.BytesIO(zip_content)) as z:\n",
        "        for file_info in z.infolist():\n",
        "            with z.open(file_info) as file:\n",
        "                extracted_files[file_info.filename] = file.read()  # Read file content\n",
        "    return extracted_files\n",
        "\n",
        "# Usage example\n",
        "# Assuming 'zip_data' contains the bytes of your ZIP file\n",
        "# zip_data = ... (load your ZIP data here)\n",
        "# files = extract_zip_to_memory(zip_data)\n",
        "# for name, content in files.items():\n",
        "#     print(f\"Extracted {name} with size {len(content)} bytes\")\n"
      ],
      "metadata": {
        "id": "S74IbW0_xjFA"
      },
      "execution_count": null,
      "outputs": []
    },
    {
      "cell_type": "code",
      "source": [
        "def upload_zip_or_txt():\n",
        "  '''\n",
        "  Upload images in a ZIP (*.zip) or list of URLs (*.txt)\n",
        "  '''\n",
        "  input_mode = None\n",
        "  urls = None\n",
        "  # image_file_dir = None\n",
        "\n",
        "  # THE FOLLOWING LINE TRIGGERS APPEARANCE OF THE BROWSE BUTTON\n",
        "  uploaded = files.upload(target_dir='INPUT')\n",
        "  filename = list(uploaded.keys())[0]\n",
        "\n",
        "  if filename.endswith('.txt'):\n",
        "    input_mode = 'text'\n",
        "    with open(filename, 'r') as f:\n",
        "      urls = f.read().splitlines()\n",
        "  elif filename.endswith('.zip'):\n",
        "    input_mode = 'zip'\n",
        "  else:\n",
        "    raise ValueError('INPUT file must be *.txt or *.zip.')\n",
        "  return input_mode, urls\n",
        "\n",
        "# Usage:\n",
        "# input_mode, urls = upload_and_unpack_zip_or_txt()"
      ],
      "metadata": {
        "id": "7PC5mvkBasff"
      },
      "execution_count": null,
      "outputs": []
    },
    {
      "cell_type": "code",
      "source": [
        "def get_input_file_list():\n",
        "  return glob.glob(f'INPUT/**/*', recursive=True)\n",
        "\n",
        "# get_input_file_list()"
      ],
      "metadata": {
        "id": "GgC0yLmO7DFp"
      },
      "execution_count": null,
      "outputs": []
    },
    {
      "cell_type": "code",
      "source": [
        "def detect_objects(image, model, box_annotator, label_annotator, csv_sink):\n",
        "  '''\n",
        "  detect objects in an image\n",
        "  returns detections and an annotated image\n",
        "  '''\n",
        "  results = model(image)[0]\n",
        "  detections = sv.Detections.from_ultralytics(results)\n",
        "  # ic(detections)\n",
        "  annotated_image = box_annotator.annotate(image, detections=detections)\n",
        "  labels = [f\"{model.model.names[class_id]} {confidence:.2f}\" for class_id, confidence in zip(detections.class_id, detections.confidence)]\n",
        "  annotated_image = label_annotator.annotate(scene=annotated_image, detections=detections, labels=labels)\n",
        "  return detections, annotated_image\n",
        "\n",
        "# Usage:\n",
        "# detections, annotated_image = detect_objects(img, model, box_annotator, label_annotator, csv_sink)"
      ],
      "metadata": {
        "id": "DIMCMtn5va3d"
      },
      "execution_count": null,
      "outputs": []
    },
    {
      "cell_type": "markdown",
      "source": [
        "# MAIN PROGRAM"
      ],
      "metadata": {
        "id": "uOi1eL7K7Paw"
      }
    },
    {
      "cell_type": "code",
      "source": [
        "# Clear data files from previous run\n",
        "run_garbage_disposal()\n",
        "\n",
        "create_input_folder()\n",
        "create_output_folder()\n",
        "\n",
        "# Upload images or list of URLs\n",
        "# THE FOLLOWING LINE TRIGGERS APPEARANCE OF THE BROWSE BUTTON\n",
        "input_mode, urls = upload_zip_or_txt()\n",
        "\n",
        "# Upload weights from trained model and load them\n",
        "upload_model_weights()\n",
        "model = YOLO('weights.pt')\n"
      ],
      "metadata": {
        "id": "lXg9v2giEjrK"
      },
      "execution_count": null,
      "outputs": []
    },
    {
      "cell_type": "markdown",
      "source": [
        "## Please click on the Browse buttom when it appears above this cell."
      ],
      "metadata": {
        "id": "5zSjfTXvIv2q"
      }
    },
    {
      "cell_type": "code",
      "source": [
        "# Scan images\n",
        "\n",
        "box_annotator = sv.BoxAnnotator()\n",
        "label_annotator = sv.LabelAnnotator()\n",
        "csv_sink = sv.CSVSink('OUTPUT/detections.csv')\n",
        "csv_sink.open()\n",
        "\n",
        "if input_mode == 'text':\n",
        "  for url in urls:\n",
        "    ic()\n",
        "    ic(url)\n",
        "    try:\n",
        "      img, exif_data = url2img(url)\n",
        "    except Exception as e:\n",
        "      ic()\n",
        "      ic(e)\n",
        "      continue\n",
        "\n",
        "    # Continue with next URL in the loop if img cannot be retrieved\n",
        "    if img is None:\n",
        "      continue\n",
        "\n",
        "    detections, annotated_image = detect_objects(img, model, box_annotator, label_annotator, csv_sink)\n",
        "    gps_data = get_gps_from_exif(exif_data)\n",
        "    ic(gps_data)\n",
        "    csv_sink.append(\n",
        "        detections,\n",
        "        custom_data={\n",
        "            'timestamp': gps_data['timestamp'].replace(':', '-', 2),\n",
        "            'latitude': round(gps_data['latitude'], 6),\n",
        "            'longitude': round(gps_data['longitude'], 6),\n",
        "            'image_h': img.shape[0],\n",
        "            'image_w': img.shape[1],\n",
        "            'source': url}\n",
        "    )\n",
        "    # Extract filename from URL\n",
        "    filename = url.split('/')[-1]\n",
        "    pos = filename.find('?')\n",
        "    if pos >= 0:\n",
        "      filename = filename[:pos]\n",
        "\n",
        "    # Save annotated image\n",
        "    output_path = f'OUTPUT/{filename}'.replace('.', '_annotated.')\n",
        "    ic(output_path)\n",
        "    os.makedirs(os.path.dirname(output_path), exist_ok = True)\n",
        "    cv2.imwrite(output_path, annotated_image)\n",
        "\n",
        "if input_mode == 'zip':\n",
        "  process_zipped_images('INPUT/images.zip')\n",
        "\n",
        "csv_sink.close()"
      ],
      "metadata": {
        "id": "kGRopezOreIr"
      },
      "execution_count": null,
      "outputs": []
    },
    {
      "cell_type": "markdown",
      "source": [
        "### Download OUTPUT folder as a ZIP file"
      ],
      "metadata": {
        "id": "NTYyOn8QztJW"
      }
    },
    {
      "cell_type": "code",
      "source": [
        "!zip -r OUTPUT.zip OUTPUT"
      ],
      "metadata": {
        "id": "l8tPKEwW4JPa"
      },
      "execution_count": null,
      "outputs": []
    },
    {
      "cell_type": "code",
      "source": [
        "from google.colab import files\n",
        "files.download(\"OUTPUT.zip\")"
      ],
      "metadata": {
        "id": "ODvR3p_8zG1o"
      },
      "execution_count": null,
      "outputs": []
    },
    {
      "cell_type": "markdown",
      "source": [
        "# FINISHED\n",
        "If everything worked as intended, you should find a file named **OUTPUT.zip** in your Downloads folder. Unzip this file to see results."
      ],
      "metadata": {
        "id": "LOCD7_KCdMh1"
      }
    },
    {
      "cell_type": "code",
      "source": [
        "print('FINISHED')"
      ],
      "metadata": {
        "id": "dfWKUVoS2b92"
      },
      "execution_count": null,
      "outputs": []
    }
  ]
}