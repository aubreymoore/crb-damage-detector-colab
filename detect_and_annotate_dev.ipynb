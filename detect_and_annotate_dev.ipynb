{
  "nbformat": 4,
  "nbformat_minor": 0,
  "metadata": {
    "colab": {
      "provenance": [],
      "authorship_tag": "ABX9TyNZu8qUkHfKL0g/yB3T3XvC",
      "include_colab_link": true
    },
    "kernelspec": {
      "name": "python3",
      "display_name": "Python 3"
    },
    "language_info": {
      "name": "python"
    }
  },
  "cells": [
    {
      "cell_type": "markdown",
      "metadata": {
        "id": "view-in-github",
        "colab_type": "text"
      },
      "source": [
        "<a href=\"https://colab.research.google.com/github/aubreymoore/crb-damage-detector-colab/blob/main/detect_and_annotate_dev.ipynb\" target=\"_parent\"><img src=\"https://colab.research.google.com/assets/colab-badge.svg\" alt=\"Open In Colab\"/></a>"
      ]
    },
    {
      "cell_type": "markdown",
      "source": [
        "# detect_and_annotate.ipynb\n",
        "\n",
        "NOTE: The following documentation is already slightly out of date.\n",
        "Please visit https://github.com/aubreymoore/crb-damage-detector-colab before running this notebook for the first time.\n",
        "\n",
        "This Colab Jupyter notebook runs a custom YOLOv8 object detector which scans images to find three object classes: live coconut palms, dead coconut palms and v-shaped cuts symptomatic of damage caused by coconut rhinoceros beetle, *Oryctes rhinoceros*.\n",
        "\n",
        "IMPORTANT: Shortly after the MAIN PROGRAM section begins executing, a BROWSE button will appear below the active cell to allow you to upload single file of input data from your loacal machine to Colab.\n",
        "\n",
        "**Note that Colab will just sit there and not do anything until you have entered a path to a test file of URLs or a ZIP file of images on your local machine.** [Click here to scroll down to the \"Browser\" button.](#scrollTo=5zSjfTXvIv2q&line=1&uniqifier=1)\n",
        "\n",
        "You may choose between 2 options:\n",
        "* A TEXT file (\\*.txt) containing URLs for images to be scanned. One URL per line. (This is the most efficient option.)\n",
        "* A ZIP file (\\*.zip) containing images to be scanned.\n",
        "\n",
        "\n",
        "Test data are available in a companion GitHub repository at https://github.com/aubreymoore/crb-damage-detector-colab. To use the test data, download it to your local computer it as a [ZIP file](https://github.com/aubreymoore/crb-damage-detector-colab/archive/refs/heads/main.zip) and unzip it. If you have **git** installed, you can clone the repo as an alternative. The TEXT file or ZIP file to be uploaded to Colab will be found in the repository's **data** folder.\n",
        "\n",
        "To scan images, select **Runtime | Run all** on the main menu.\n",
        "Results will be in a temporary OUTPUT folder which you can access using the **File browser** in the left Colab panel.\n",
        "\n",
        "When image scanning is complete, the OUTPUT folder will be compressed into a single ZIP file and automatically downloaded to your computer.\n",
        "\n",
        "### TODO\n",
        "\n",
        "- [ finished 2024-10-19] Reduce size of images in the companion GH repo to max dimension of 960px\n",
        "- [ ] Copy current trained model to companion GH repo\n",
        "- [ ] Copy this Jupyter notebook to companion GH repo\n",
        "- [ ] Add confidence values to bounding box labels.\n",
        "- [ ] Add database to OUTPUT folder\n",
        "- [ ] Extract GPS coordinates from image files\n",
        "- [ ] Figure out how to use URLs to access images stored on OneDrive (Sharepoint)"
      ],
      "metadata": {
        "id": "EUB3xquwb6sI"
      }
    },
    {
      "cell_type": "markdown",
      "source": [
        "# Load Python packages which are not preinstalled by Colab"
      ],
      "metadata": {
        "id": "7Rp6VisrdfNv"
      }
    },
    {
      "cell_type": "code",
      "execution_count": 1,
      "metadata": {
        "id": "AggzUm3SRJFO"
      },
      "outputs": [],
      "source": [
        "%pip install ultralytics -q\n",
        "%pip install supervision -q\n",
        "# %pip install imutils -q\n",
        "%pip install icecream -q\n",
        "%pip install ipython-autotime -q\n",
        "%pip install exif -q\n",
        "%pip install requests -q"
      ]
    },
    {
      "cell_type": "markdown",
      "source": [
        "# Import modules"
      ],
      "metadata": {
        "id": "l0Uuj0JCi5Ll"
      }
    },
    {
      "cell_type": "code",
      "source": [
        "import cv2\n",
        "import supervision as sv\n",
        "from ultralytics import YOLO\n",
        "# import imutils\n",
        "\n",
        "import glob\n",
        "import os\n",
        "import shutil\n",
        "# from skimage import io\n",
        "from icecream import ic\n",
        "from google.colab import files\n",
        "import zipfile\n",
        "# import io\n",
        "# from urllib.request import urlretrieve\n",
        "\n",
        "import exif\n",
        "import numpy as np\n",
        "import requests\n",
        "\n",
        "# ultralytics.checks()"
      ],
      "metadata": {
        "id": "U1cExUvHRlTA"
      },
      "execution_count": 2,
      "outputs": []
    },
    {
      "cell_type": "markdown",
      "source": [
        "# Load cell timer"
      ],
      "metadata": {
        "id": "KpGhWzQFZfr9"
      }
    },
    {
      "cell_type": "code",
      "source": [
        "%load_ext autotime"
      ],
      "metadata": {
        "id": "GJUTRUbHYhRl",
        "colab": {
          "base_uri": "https://localhost:8080/"
        },
        "outputId": "76d618ba-3144-4c2c-b020-fcf734d394e2"
      },
      "execution_count": 3,
      "outputs": [
        {
          "output_type": "stream",
          "name": "stdout",
          "text": [
            "time: 377 µs (started: 2024-10-25 09:06:25 +00:00)\n"
          ]
        }
      ]
    },
    {
      "cell_type": "markdown",
      "source": [
        "# Define functions"
      ],
      "metadata": {
        "id": "mV6zIMn0ZRGZ"
      }
    },
    {
      "cell_type": "code",
      "source": [
        "# url = 'https://github.com/aubreymoore/crb-damage-detector-colab/blob/main/data/images/IMG_0532.JPG?raw=true'\n",
        "# filename = 'IMG_0532.JPG'\n",
        "# urlretrieve(url, filename)"
      ],
      "metadata": {
        "id": "eWWmLZv4l609",
        "colab": {
          "base_uri": "https://localhost:8080/"
        },
        "outputId": "90db83ae-32e4-4ddf-9f39-3d04041b3abd"
      },
      "execution_count": 4,
      "outputs": [
        {
          "output_type": "stream",
          "name": "stdout",
          "text": [
            "time: 342 µs (started: 2024-10-25 09:06:25 +00:00)\n"
          ]
        }
      ]
    },
    {
      "cell_type": "code",
      "source": [
        "def extract_img_exif(data):\n",
        "  \"\"\"\n",
        "  Extracts an image and EXIF metadata from a given data buffer.\n",
        "\n",
        "  Returns img as a numpy.ndarray and exif_data as a dict.\n",
        "  \"\"\"\n",
        "  # Extract metadata stored in EXIF\n",
        "  exif_data = {}\n",
        "  try:\n",
        "    exif_data = exif.Image(data).get_all()\n",
        "  except Exception as e:\n",
        "    ic(e)\n",
        "    pass\n",
        "\n",
        "  # Extract image\n",
        "  bytes_as_np_array = np.frombuffer(data, dtype=np.uint8)\n",
        "  img = cv2.imdecode(bytes_as_np_array, cv2.IMREAD_UNCHANGED)\n",
        "  img = cv2.cvtColor(img, cv2.COLOR_BGR2RGB)\n",
        "\n",
        "  return img, exif_data"
      ],
      "metadata": {
        "id": "Y9Iti2g2fAqr",
        "outputId": "c4344fd2-0be7-472c-98dc-c77aec4e0e62",
        "colab": {
          "base_uri": "https://localhost:8080/"
        }
      },
      "execution_count": 5,
      "outputs": [
        {
          "output_type": "stream",
          "name": "stdout",
          "text": [
            "time: 898 µs (started: 2024-10-25 09:06:25 +00:00)\n"
          ]
        }
      ]
    },
    {
      "cell_type": "code",
      "source": [
        "def url2img(url):\n",
        "  \"\"\"\n",
        "  Loads contents of a file referenced by an URL into memory and extracts an\n",
        "  image and EXIF metadata\n",
        "\n",
        "  Returns img as a numpy.ndarray and exif_data as a dict.\n",
        "  \"\"\"\n",
        "  # Download the data file referenced by the URL and save contents as \"data\"\n",
        "  try:\n",
        "    response = requests.get(url)\n",
        "    data = response.content\n",
        "  except Exception as e:\n",
        "    ic(e)\n",
        "    return None, None\n",
        "\n",
        "  img, exif_data = extract_img_exif(data)\n",
        "  return img, exif_data\n",
        "\n",
        "# Usage:\n",
        "# url = 'https://github.com/aubreymoore/crb-damage-detector-colab/blob/main/data/images/IMG_0532.JPG?raw=true'\n",
        "# img, exif_data = url2img(url)\n",
        "# ic(img)\n",
        "# ic(exif_data)"
      ],
      "metadata": {
        "colab": {
          "base_uri": "https://localhost:8080/"
        },
        "id": "vyBOh9gDaIED",
        "outputId": "21b15c6d-c4c2-4d78-fe23-6bf4d4939bc6"
      },
      "execution_count": 6,
      "outputs": [
        {
          "output_type": "stream",
          "name": "stdout",
          "text": [
            "time: 772 µs (started: 2024-10-25 09:06:25 +00:00)\n"
          ]
        }
      ]
    },
    {
      "cell_type": "code",
      "source": [
        "def process_zipped_images(zip_file_path):\n",
        "  \"\"\"\n",
        "\n",
        "  Args:\n",
        "    zip_file_path:\n",
        "  \"\"\"\n",
        "  z = zipfile.ZipFile(zip_file_path)\n",
        "  ic(z.namelist())\n",
        "  for file_name in z.namelist():\n",
        "    if file_name.lower().endswith(('.jpg', '.jpeg', '.png', '.gif')):  # Check for common image extensions\n",
        "      with z.open(file_name, 'r') as file:   # Use z.open to directly open the file within the zip archive\n",
        "        ic(file_name)\n",
        "        try:\n",
        "          data = file.read() # Read the content of the file as bytes\n",
        "          ic(type(data))\n",
        "          img, exif_data = extract_img_exif(data)\n",
        "          ic(img)\n",
        "          ic(exif_data)\n",
        "\n",
        "          # Processing code goes here.\n",
        "\n",
        "        except Exception as e:\n",
        "          ic(f\"Error processing {file_name}: {e}\")\n",
        "\n",
        "# Usage:\n",
        "# process_zipped_images('images.zip')"
      ],
      "metadata": {
        "colab": {
          "base_uri": "https://localhost:8080/"
        },
        "id": "9PrrUDGXXbHt",
        "outputId": "766f592d-8b57-4177-dc2b-33e4866f19b2"
      },
      "execution_count": 7,
      "outputs": [
        {
          "output_type": "stream",
          "name": "stdout",
          "text": [
            "time: 1.07 ms (started: 2024-10-25 09:06:25 +00:00)\n"
          ]
        }
      ]
    },
    {
      "cell_type": "code",
      "source": [
        "# def get_gps_from_exif(image_path):\n",
        "#   \"\"\"\n",
        "#   Gets timestamp and GPS coordinates from an image.\n",
        "\n",
        "#   Args:\n",
        "#     image_path:\n",
        "\n",
        "#   Returns:\n",
        "#     timestamp, latitude, longitude\n",
        "#   \"\"\"\n",
        "#   with open(image_path, 'rb') as src:\n",
        "#     img = Image(src)\n",
        "#     if img.has_exif:\n",
        "#       try:\n",
        "#         timestamp = img.datetime_original\n",
        "#         print(img.gps_latitude)\n",
        "#         dms = img.gps_latitude\n",
        "#         latitude = dms[0] + dms[1]/60 + dms[2]/3600\n",
        "#         if img.gps_latitude_ref == 'S':\n",
        "#           latitude = -latitude\n",
        "#         dms = img.gps_longitude\n",
        "#         longitude  = dms[0] + dms[1]/60 + dms[2]/3600\n",
        "#         if img.gps_longitude_ref == 'W':\n",
        "#           longitude = -longitude\n",
        "#         return {\"timestamp\": timestamp, \"latitude\": latitude, \"longitude\": longitude}\n",
        "#       except Exception as e:\n",
        "#         print(e)\n",
        "#         return {\"timestamp\": None, \"latitude\": None,\"longitude\": None}\n",
        "#     else:\n",
        "#       print ('The Image has no EXIF')\n",
        "#       return {\"timestamp\": None, \"latitude\": None,\"longitude\": None}\n",
        "\n",
        "# # get_gps_from_exif('IMG_0532.JPG')"
      ],
      "metadata": {
        "id": "Gh-S3DTNl8aP",
        "colab": {
          "base_uri": "https://localhost:8080/"
        },
        "outputId": "85a4e65c-7277-4dbb-9b8c-44bc82ba0b69"
      },
      "execution_count": 8,
      "outputs": [
        {
          "output_type": "stream",
          "name": "stdout",
          "text": [
            "time: 382 µs (started: 2024-10-25 09:06:25 +00:00)\n"
          ]
        }
      ]
    },
    {
      "cell_type": "code",
      "source": [
        "def get_gps_from_exif(exif_dict):\n",
        "  \"\"\"\n",
        "  Gets timestamp and GPS coordinates for an image.\n",
        "\n",
        "  Args:\n",
        "    exif_dict\n",
        "\n",
        "  Returns:\n",
        "    timestamp, latitude, longitude\n",
        "  \"\"\"\n",
        "  if exif_dict:\n",
        "    try:\n",
        "      timestamp = exif_dict.get('datetime_original', None)\n",
        "      latitude = exif_dict.get('gps_latitude', None)\n",
        "      longitude = exif_dict.get('gps_longitude', None)\n",
        "      if latitude and longitude:\n",
        "        dms = img.gps_latitude\n",
        "        latitude = dms[0] + dms[1]/60 + dms[2]/3600\n",
        "        if img.gps_latitude_ref == 'S':\n",
        "          latitude = -latitude\n",
        "          dms = img.gps_longitude\n",
        "          longitude  = dms[0] + dms[1]/60 + dms[2]/3600\n",
        "          if img.gps_longitude_ref == 'W':\n",
        "            longitude = -longitude\n",
        "      return {\"timestamp\": timestamp, \"latitude\": latitude, \"longitude\": longitude}\n",
        "    except Exception as e:\n",
        "      ic(e)\n",
        "      return {\"timestamp\": None, \"latitude\": None,\"longitude\": None}\n",
        "    else:\n",
        "      ic('The Image has no EXIF')\n",
        "      return {\"timestamp\": None, \"latitude\": None,\"longitude\": None}\n",
        "\n",
        "# gps_data = get_gps_from_exif(exif_data)"
      ],
      "metadata": {
        "id": "yzX5aPP_mryZ",
        "outputId": "25f88e84-680d-4616-917d-28abe33c70ca",
        "colab": {
          "base_uri": "https://localhost:8080/"
        }
      },
      "execution_count": 9,
      "outputs": [
        {
          "output_type": "stream",
          "name": "stdout",
          "text": [
            "time: 1.89 ms (started: 2024-10-25 09:06:25 +00:00)\n"
          ]
        }
      ]
    },
    {
      "cell_type": "code",
      "source": [
        "def upload_model_weights():\n",
        "  '''\n",
        "  Upload model weights from GitHub repo to **weights.pt** only if this file does not already exist.\n",
        "  '''\n",
        "  !wget -nc https://github.com/aubreymoore/code-for-CRB-damage-ai/raw/refs/heads/main/models/3class/train5/weights/best.pt -O weights.pt\n",
        "\n",
        "# upload_model_weights()"
      ],
      "metadata": {
        "id": "7Yc80WosFV0G",
        "colab": {
          "base_uri": "https://localhost:8080/"
        },
        "outputId": "43e1c040-1d50-4446-c44e-b585ede07925"
      },
      "execution_count": 10,
      "outputs": [
        {
          "output_type": "stream",
          "name": "stdout",
          "text": [
            "time: 992 µs (started: 2024-10-25 09:06:25 +00:00)\n"
          ]
        }
      ]
    },
    {
      "cell_type": "code",
      "source": [
        "def load_model_weights():\n",
        "  model = YOLO('weights.pt')"
      ],
      "metadata": {
        "id": "IN7dkUz24841",
        "colab": {
          "base_uri": "https://localhost:8080/"
        },
        "outputId": "e68d9bc3-4802-4e3c-d4e3-997f98fcdd15"
      },
      "execution_count": 11,
      "outputs": [
        {
          "output_type": "stream",
          "name": "stdout",
          "text": [
            "time: 539 µs (started: 2024-10-25 09:06:25 +00:00)\n"
          ]
        }
      ]
    },
    {
      "cell_type": "code",
      "source": [
        "def create_input_folder():\n",
        "  if not os.path.exists('INPUT'):\n",
        "    os.makedirs('INPUT')\n",
        "\n",
        "# create_input_folder()"
      ],
      "metadata": {
        "id": "TEW_0vwRZWEV",
        "colab": {
          "base_uri": "https://localhost:8080/"
        },
        "outputId": "0d3ebbd0-4b48-456e-933c-06ac2b611989"
      },
      "execution_count": 12,
      "outputs": [
        {
          "output_type": "stream",
          "name": "stdout",
          "text": [
            "time: 665 µs (started: 2024-10-25 09:06:26 +00:00)\n"
          ]
        }
      ]
    },
    {
      "cell_type": "code",
      "source": [
        "def create_output_folder():\n",
        "  if not os.path.exists('OUTPUT'):\n",
        "    os.makedirs('OUTPUT')\n",
        "\n",
        "# create_output_folder()"
      ],
      "metadata": {
        "id": "OH8-tflD8taN",
        "colab": {
          "base_uri": "https://localhost:8080/"
        },
        "outputId": "7d56572a-d781-4771-8a98-21547e43f5c0"
      },
      "execution_count": 13,
      "outputs": [
        {
          "output_type": "stream",
          "name": "stdout",
          "text": [
            "time: 4.07 ms (started: 2024-10-25 09:06:26 +00:00)\n"
          ]
        }
      ]
    },
    {
      "cell_type": "code",
      "source": [
        "def run_garbage_disposal():\n",
        "  '''\n",
        "  Delete any data files left over from the last run.\n",
        "  '''\n",
        "  shutil.rmtree('INPUT', ignore_errors=True)\n",
        "  shutil.rmtree('OUTPUT', ignore_errors=True)\n",
        "  shutil.rmtree('sample_data', ignore_errors=True)\n",
        "\n",
        "  try:\n",
        "    os.remove('weights.pt')\n",
        "  except OSError:\n",
        "    pass\n",
        "\n",
        "# run_garbage_disposal()"
      ],
      "metadata": {
        "id": "N5Bb4M-9xLUr",
        "colab": {
          "base_uri": "https://localhost:8080/"
        },
        "outputId": "27d30fec-da83-4cb2-851f-45cbc1128cd3"
      },
      "execution_count": 14,
      "outputs": [
        {
          "output_type": "stream",
          "name": "stdout",
          "text": [
            "time: 9.01 ms (started: 2024-10-25 09:06:26 +00:00)\n"
          ]
        }
      ]
    },
    {
      "cell_type": "code",
      "source": [
        "def extract_JPG_files(zip_file_path, output_dir):\n",
        "    # Ensure the output directory exists\n",
        "    os.makedirs(output_dir, exist_ok=True)\n",
        "\n",
        "    with zipfile.ZipFile(zip_file_path, 'r') as zip_ref:\n",
        "        # Loop through each file in the zip archive\n",
        "        for file_name in zip_ref.namelist():\n",
        "            if file_name.endswith('.JPG'):  # Check for .jpg extension\n",
        "                print(f'Extracting {file_name}...')\n",
        "                zip_ref.extract(file_name, output_dir)  # Extract the file\n",
        "\n",
        "# Usage\n",
        "# extract_dll_files('path/to/your/archive.zip', 'path/to/extract/directory')\n"
      ],
      "metadata": {
        "id": "jgFm4SOSull8",
        "colab": {
          "base_uri": "https://localhost:8080/"
        },
        "outputId": "f2a9bec7-8620-489e-da8f-bd6228bb914b"
      },
      "execution_count": 15,
      "outputs": [
        {
          "output_type": "stream",
          "name": "stdout",
          "text": [
            "time: 2.93 ms (started: 2024-10-25 09:06:26 +00:00)\n"
          ]
        }
      ]
    },
    {
      "cell_type": "code",
      "source": [
        "def extract_zip_to_memory(zip_content):\n",
        "    \"\"\"\n",
        "    Extracts files from a ZIP archive stored in memory.\n",
        "\n",
        "    :param zip_content: Bytes of the ZIP file.\n",
        "    :return: A dictionary of filename and file-like objects.\n",
        "    \"\"\"\n",
        "    extracted_files = {}\n",
        "    with zipfile.ZipFile(io.BytesIO(zip_content)) as z:\n",
        "        for file_info in z.infolist():\n",
        "            with z.open(file_info) as file:\n",
        "                extracted_files[file_info.filename] = file.read()  # Read file content\n",
        "    return extracted_files\n",
        "\n",
        "# Usage example\n",
        "# Assuming 'zip_data' contains the bytes of your ZIP file\n",
        "# zip_data = ... (load your ZIP data here)\n",
        "# files = extract_zip_to_memory(zip_data)\n",
        "# for name, content in files.items():\n",
        "#     print(f\"Extracted {name} with size {len(content)} bytes\")\n"
      ],
      "metadata": {
        "id": "S74IbW0_xjFA",
        "colab": {
          "base_uri": "https://localhost:8080/"
        },
        "outputId": "b955c72f-30fe-48ed-fb53-59a1003eb96d"
      },
      "execution_count": 16,
      "outputs": [
        {
          "output_type": "stream",
          "name": "stdout",
          "text": [
            "time: 792 µs (started: 2024-10-25 09:06:26 +00:00)\n"
          ]
        }
      ]
    },
    {
      "cell_type": "code",
      "source": [
        "def upload_zip_or_txt():\n",
        "  '''\n",
        "  Upload images in a ZIP (*.zip) or list of URLs (*.txt)\n",
        "  '''\n",
        "  input_mode = None\n",
        "  urls = None\n",
        "  # image_file_dir = None\n",
        "\n",
        "  # THE FOLLOWING LINE TRIGGERS APPEARANCE OF THE BROWSE BUTTON\n",
        "  uploaded = files.upload(target_dir='INPUT')\n",
        "  filename = list(uploaded.keys())[0]\n",
        "\n",
        "  if filename.endswith('.txt'):\n",
        "    input_mode = 'text'\n",
        "    with open(filename, 'r') as f:\n",
        "      urls = f.read().splitlines()\n",
        "  elif filename.endswith('.zip'):\n",
        "    input_mode = 'zip'\n",
        "  else:\n",
        "    raise ValueError('INPUT file must be *.txt or *.zip.')\n",
        "  return input_mode, urls\n",
        "\n",
        "# Usage:\n",
        "# input_mode, urls = upload_and_unpack_zip_or_txt()"
      ],
      "metadata": {
        "id": "7PC5mvkBasff",
        "colab": {
          "base_uri": "https://localhost:8080/"
        },
        "outputId": "2963a165-e099-424b-f7c7-e69e607c5cb7"
      },
      "execution_count": 17,
      "outputs": [
        {
          "output_type": "stream",
          "name": "stdout",
          "text": [
            "time: 972 µs (started: 2024-10-25 09:06:26 +00:00)\n"
          ]
        }
      ]
    },
    {
      "cell_type": "code",
      "source": [
        "def get_input_file_list():\n",
        "  return glob.glob(f'INPUT/**/*', recursive=True)\n",
        "\n",
        "# get_input_file_list()"
      ],
      "metadata": {
        "id": "GgC0yLmO7DFp",
        "colab": {
          "base_uri": "https://localhost:8080/"
        },
        "outputId": "6083210e-dd8b-4c7b-a867-ba1378e7a3b8"
      },
      "execution_count": 18,
      "outputs": [
        {
          "output_type": "stream",
          "name": "stdout",
          "text": [
            "time: 593 µs (started: 2024-10-25 09:06:26 +00:00)\n"
          ]
        }
      ]
    },
    {
      "cell_type": "code",
      "source": [
        "def detect_objects(image, model, box_annotator, label_annotator, csv_sink):\n",
        "  '''\n",
        "  detect objects in an image\n",
        "  returns detections and an annotated image\n",
        "  '''\n",
        "  results = model(image)[0]\n",
        "  detections = sv.Detections.from_ultralytics(results)\n",
        "  # ic(detections)\n",
        "  annotated_image = box_annotator.annotate(image, detections=detections)\n",
        "  labels = [f\"{model.model.names[class_id]} {confidence:.2f}\" for class_id, confidence in zip(detections.class_id, detections.confidence)]\n",
        "  annotated_image = label_annotator.annotate(scene=annotated_image, detections=detections, labels=labels)\n",
        "  return detections, annotated_image\n",
        "\n",
        "# csv_sink = sv.CSVSink('detections.csv')\n",
        "# csv_sink.open()\n",
        "\n",
        "# upload_model_weights()\n",
        "# model = YOLO('weights.pt')\n",
        "# box_annotator = sv.BoxAnnotator()\n",
        "# label_annotator = sv.LabelAnnotator()\n",
        "\n",
        "# url = 'https://github.com/aubreymoore/crb-damage-detector-colab/blob/main/data/Vanuatu_July_2022_Sulav/resized-images/IMG_0532.JPG?raw=true'\n",
        "# image = imutils.url_to_image(url)\n",
        "# detections, annotated_image = detect_objects(image, model, box_annotator, label_annotator, csv_sink)\n",
        "# ic(detections)\n",
        "# sv.plot_image(annotated_image)\n",
        "\n",
        "# custom_data = {'url': url}\n",
        "# csv_sink.append(detections, custom_data)\n",
        "\n",
        "# csv_sink.close()"
      ],
      "metadata": {
        "id": "DIMCMtn5va3d",
        "colab": {
          "base_uri": "https://localhost:8080/"
        },
        "outputId": "6fa67cfb-f451-41de-9019-ab824c90adf6"
      },
      "execution_count": 19,
      "outputs": [
        {
          "output_type": "stream",
          "name": "stdout",
          "text": [
            "time: 4.76 ms (started: 2024-10-25 09:06:26 +00:00)\n"
          ]
        }
      ]
    },
    {
      "cell_type": "markdown",
      "source": [
        "# MAIN PROGRAM"
      ],
      "metadata": {
        "id": "uOi1eL7K7Paw"
      }
    },
    {
      "cell_type": "code",
      "source": [
        "# Clear data files from previous run\n",
        "run_garbage_disposal()\n",
        "\n",
        "create_input_folder()\n",
        "create_output_folder()\n",
        "\n",
        "# Upload images or list of URLs\n",
        "# THE FOLLOWING LINE TRIGGERS APPEARANCE OF THE BROWSE BUTTON\n",
        "input_mode, urls = upload_zip_or_txt()\n",
        "\n",
        "# Upload weights from trained model and load them\n",
        "upload_model_weights()\n",
        "model = YOLO('weights.pt')\n",
        "\n",
        "box_annotator = sv.BoxAnnotator()\n",
        "label_annotator = sv.LabelAnnotator()\n",
        "csv_sink = sv.CSVSink('OUTPUT/detections.csv')\n",
        "csv_sink.open()"
      ],
      "metadata": {
        "id": "lXg9v2giEjrK",
        "outputId": "d9bc827f-2089-40db-e958-a9b4b93c6afd",
        "colab": {
          "base_uri": "https://localhost:8080/",
          "height": 388
        }
      },
      "execution_count": 20,
      "outputs": [
        {
          "output_type": "display_data",
          "data": {
            "text/plain": [
              "<IPython.core.display.HTML object>"
            ],
            "text/html": [
              "\n",
              "     <input type=\"file\" id=\"files-607d2da3-f79a-44b7-9604-f3d51ebc4bd8\" name=\"files[]\" multiple disabled\n",
              "        style=\"border:none\" />\n",
              "     <output id=\"result-607d2da3-f79a-44b7-9604-f3d51ebc4bd8\">\n",
              "      Upload widget is only available when the cell has been executed in the\n",
              "      current browser session. Please rerun this cell to enable.\n",
              "      </output>\n",
              "      <script>// Copyright 2017 Google LLC\n",
              "//\n",
              "// Licensed under the Apache License, Version 2.0 (the \"License\");\n",
              "// you may not use this file except in compliance with the License.\n",
              "// You may obtain a copy of the License at\n",
              "//\n",
              "//      http://www.apache.org/licenses/LICENSE-2.0\n",
              "//\n",
              "// Unless required by applicable law or agreed to in writing, software\n",
              "// distributed under the License is distributed on an \"AS IS\" BASIS,\n",
              "// WITHOUT WARRANTIES OR CONDITIONS OF ANY KIND, either express or implied.\n",
              "// See the License for the specific language governing permissions and\n",
              "// limitations under the License.\n",
              "\n",
              "/**\n",
              " * @fileoverview Helpers for google.colab Python module.\n",
              " */\n",
              "(function(scope) {\n",
              "function span(text, styleAttributes = {}) {\n",
              "  const element = document.createElement('span');\n",
              "  element.textContent = text;\n",
              "  for (const key of Object.keys(styleAttributes)) {\n",
              "    element.style[key] = styleAttributes[key];\n",
              "  }\n",
              "  return element;\n",
              "}\n",
              "\n",
              "// Max number of bytes which will be uploaded at a time.\n",
              "const MAX_PAYLOAD_SIZE = 100 * 1024;\n",
              "\n",
              "function _uploadFiles(inputId, outputId) {\n",
              "  const steps = uploadFilesStep(inputId, outputId);\n",
              "  const outputElement = document.getElementById(outputId);\n",
              "  // Cache steps on the outputElement to make it available for the next call\n",
              "  // to uploadFilesContinue from Python.\n",
              "  outputElement.steps = steps;\n",
              "\n",
              "  return _uploadFilesContinue(outputId);\n",
              "}\n",
              "\n",
              "// This is roughly an async generator (not supported in the browser yet),\n",
              "// where there are multiple asynchronous steps and the Python side is going\n",
              "// to poll for completion of each step.\n",
              "// This uses a Promise to block the python side on completion of each step,\n",
              "// then passes the result of the previous step as the input to the next step.\n",
              "function _uploadFilesContinue(outputId) {\n",
              "  const outputElement = document.getElementById(outputId);\n",
              "  const steps = outputElement.steps;\n",
              "\n",
              "  const next = steps.next(outputElement.lastPromiseValue);\n",
              "  return Promise.resolve(next.value.promise).then((value) => {\n",
              "    // Cache the last promise value to make it available to the next\n",
              "    // step of the generator.\n",
              "    outputElement.lastPromiseValue = value;\n",
              "    return next.value.response;\n",
              "  });\n",
              "}\n",
              "\n",
              "/**\n",
              " * Generator function which is called between each async step of the upload\n",
              " * process.\n",
              " * @param {string} inputId Element ID of the input file picker element.\n",
              " * @param {string} outputId Element ID of the output display.\n",
              " * @return {!Iterable<!Object>} Iterable of next steps.\n",
              " */\n",
              "function* uploadFilesStep(inputId, outputId) {\n",
              "  const inputElement = document.getElementById(inputId);\n",
              "  inputElement.disabled = false;\n",
              "\n",
              "  const outputElement = document.getElementById(outputId);\n",
              "  outputElement.innerHTML = '';\n",
              "\n",
              "  const pickedPromise = new Promise((resolve) => {\n",
              "    inputElement.addEventListener('change', (e) => {\n",
              "      resolve(e.target.files);\n",
              "    });\n",
              "  });\n",
              "\n",
              "  const cancel = document.createElement('button');\n",
              "  inputElement.parentElement.appendChild(cancel);\n",
              "  cancel.textContent = 'Cancel upload';\n",
              "  const cancelPromise = new Promise((resolve) => {\n",
              "    cancel.onclick = () => {\n",
              "      resolve(null);\n",
              "    };\n",
              "  });\n",
              "\n",
              "  // Wait for the user to pick the files.\n",
              "  const files = yield {\n",
              "    promise: Promise.race([pickedPromise, cancelPromise]),\n",
              "    response: {\n",
              "      action: 'starting',\n",
              "    }\n",
              "  };\n",
              "\n",
              "  cancel.remove();\n",
              "\n",
              "  // Disable the input element since further picks are not allowed.\n",
              "  inputElement.disabled = true;\n",
              "\n",
              "  if (!files) {\n",
              "    return {\n",
              "      response: {\n",
              "        action: 'complete',\n",
              "      }\n",
              "    };\n",
              "  }\n",
              "\n",
              "  for (const file of files) {\n",
              "    const li = document.createElement('li');\n",
              "    li.append(span(file.name, {fontWeight: 'bold'}));\n",
              "    li.append(span(\n",
              "        `(${file.type || 'n/a'}) - ${file.size} bytes, ` +\n",
              "        `last modified: ${\n",
              "            file.lastModifiedDate ? file.lastModifiedDate.toLocaleDateString() :\n",
              "                                    'n/a'} - `));\n",
              "    const percent = span('0% done');\n",
              "    li.appendChild(percent);\n",
              "\n",
              "    outputElement.appendChild(li);\n",
              "\n",
              "    const fileDataPromise = new Promise((resolve) => {\n",
              "      const reader = new FileReader();\n",
              "      reader.onload = (e) => {\n",
              "        resolve(e.target.result);\n",
              "      };\n",
              "      reader.readAsArrayBuffer(file);\n",
              "    });\n",
              "    // Wait for the data to be ready.\n",
              "    let fileData = yield {\n",
              "      promise: fileDataPromise,\n",
              "      response: {\n",
              "        action: 'continue',\n",
              "      }\n",
              "    };\n",
              "\n",
              "    // Use a chunked sending to avoid message size limits. See b/62115660.\n",
              "    let position = 0;\n",
              "    do {\n",
              "      const length = Math.min(fileData.byteLength - position, MAX_PAYLOAD_SIZE);\n",
              "      const chunk = new Uint8Array(fileData, position, length);\n",
              "      position += length;\n",
              "\n",
              "      const base64 = btoa(String.fromCharCode.apply(null, chunk));\n",
              "      yield {\n",
              "        response: {\n",
              "          action: 'append',\n",
              "          file: file.name,\n",
              "          data: base64,\n",
              "        },\n",
              "      };\n",
              "\n",
              "      let percentDone = fileData.byteLength === 0 ?\n",
              "          100 :\n",
              "          Math.round((position / fileData.byteLength) * 100);\n",
              "      percent.textContent = `${percentDone}% done`;\n",
              "\n",
              "    } while (position < fileData.byteLength);\n",
              "  }\n",
              "\n",
              "  // All done.\n",
              "  yield {\n",
              "    response: {\n",
              "      action: 'complete',\n",
              "    }\n",
              "  };\n",
              "}\n",
              "\n",
              "scope.google = scope.google || {};\n",
              "scope.google.colab = scope.google.colab || {};\n",
              "scope.google.colab._files = {\n",
              "  _uploadFiles,\n",
              "  _uploadFilesContinue,\n",
              "};\n",
              "})(self);\n",
              "</script> "
            ]
          },
          "metadata": {}
        },
        {
          "output_type": "stream",
          "name": "stdout",
          "text": [
            "Saving urls.txt to INPUT/urls.txt\n",
            "--2024-10-25 09:07:19--  https://github.com/aubreymoore/code-for-CRB-damage-ai/raw/refs/heads/main/models/3class/train5/weights/best.pt\n",
            "Resolving github.com (github.com)... 140.82.113.3\n",
            "Connecting to github.com (github.com)|140.82.113.3|:443... connected.\n",
            "HTTP request sent, awaiting response... 302 Found\n",
            "Location: https://raw.githubusercontent.com/aubreymoore/code-for-CRB-damage-ai/refs/heads/main/models/3class/train5/weights/best.pt [following]\n",
            "--2024-10-25 09:07:19--  https://raw.githubusercontent.com/aubreymoore/code-for-CRB-damage-ai/refs/heads/main/models/3class/train5/weights/best.pt\n",
            "Resolving raw.githubusercontent.com (raw.githubusercontent.com)... 185.199.108.133, 185.199.109.133, 185.199.110.133, ...\n",
            "Connecting to raw.githubusercontent.com (raw.githubusercontent.com)|185.199.108.133|:443... connected.\n",
            "HTTP request sent, awaiting response... 200 OK\n",
            "Length: 6269721 (6.0M) [application/octet-stream]\n",
            "Saving to: ‘weights.pt’\n",
            "\n",
            "weights.pt          100%[===================>]   5.98M  --.-KB/s    in 0.1s    \n",
            "\n",
            "2024-10-25 09:07:20 (60.3 MB/s) - ‘weights.pt’ saved [6269721/6269721]\n",
            "\n",
            "time: 54.1 s (started: 2024-10-25 09:06:26 +00:00)\n"
          ]
        }
      ]
    },
    {
      "cell_type": "markdown",
      "source": [
        "## Please click on the Browse buttom when it appears above this cell."
      ],
      "metadata": {
        "id": "5zSjfTXvIv2q"
      }
    },
    {
      "cell_type": "code",
      "source": [
        "# Scan images\n",
        "if input_mode == 'text':\n",
        "  for url in urls:\n",
        "    ic(url)\n",
        "    try:\n",
        "      img, exif_data = url2img(url)\n",
        "    except Exception as e:\n",
        "      ic(e)\n",
        "      continue\n",
        "\n",
        "    detections, annotated_image = detect_objects(img, model, box_annotator, label_annotator, csv_sink)\n",
        "    gps_data = get_gps_from_exif(exif_data)\n",
        "    ic(gps_data)\n",
        "    csv_sink.append(\n",
        "        detections,\n",
        "        custom_data={\n",
        "            'timestamp': gps_data['timestamp'],\n",
        "            'latitude': gps_data['latitude'],\n",
        "            'longitude': gps_data['longitude'],\n",
        "            'image_h': img.shape[0],\n",
        "            'image_w': img.shape[1],\n",
        "            'source': url}\n",
        "    )\n",
        "    # Extract filename from URL\n",
        "    filename = url.split('/')[-1]\n",
        "    pos = filename.find('?')\n",
        "    if pos >= 0:\n",
        "      filename = filename[:pos]\n",
        "\n",
        "    # Save annotated image\n",
        "    output_path = f'OUTPUT/{filename}'.replace('.', '_annotated.')\n",
        "    ic(output_path)\n",
        "    os.makedirs(os.path.dirname(output_path), exist_ok = True)\n",
        "    cv2.imwrite(output_path, annotated_image)\n",
        "\n",
        "    # try:\n",
        "    #   # image = imutils.url_to_image(url)\n",
        "    #   image = cv2.imread('image.jpg')\n",
        "    #   detections, annotated_image = detect_objects(image, model, box_annotator, label_annotator, csv_sink)\n",
        "    #   csv_sink.append(\n",
        "    #       detections,\n",
        "    #       custom_data={'image_h': image.shape[0], 'image_w': image.shape[1], 'source': url}\n",
        "    #   )\n",
        "\n",
        "    #   # Extract filename from URL\n",
        "    #   filename = url.split('/')[-1]\n",
        "    #   pos = filename.find('?')\n",
        "    #   if pos >= 0:\n",
        "    #     filename = filename[:pos]\n",
        "\n",
        "    #   output_path = f'OUTPUT/{filename}'.replace('.', '_annotated.')\n",
        "    #   ic(output_path)\n",
        "    #   os.makedirs(os.path.dirname(output_path), exist_ok = True)\n",
        "    #   cv2.imwrite(output_path, annotated_image)\n",
        "    # except:\n",
        "    #   print(f'Error processing {url}')\n",
        "    # continue\n",
        "\n",
        "if input_mode == 'zip':\n",
        "  process_zipped_images('INPUT/images.zip')\n",
        "\n",
        "  # input_file_list = get_input_file_list()\n",
        "  # ic(input_file_list)\n",
        "  # for image_path in input_file_list:\n",
        "  #   ic(image_path)\n",
        "  #   try:\n",
        "  #     image = cv2.imread(image_path)\n",
        "  #     detections, annotated_image = detect_objects(image, model, box_annotator, label_annotator, csv_sink)\n",
        "  #     csv_sink.append(\n",
        "  #         detections,\n",
        "  #         custom_data={'image_h': image.shape[0], 'image_w': image.shape[1], 'source': image_path}\n",
        "  #     )\n",
        "\n",
        "  #     filename = os.path.basename(image_path)\n",
        "  #     output_path = f'OUTPUT/{filename}'.replace('.', '_annotated.')\n",
        "  #     os.makedirs(os.path.dirname(output_path), exist_ok = True)\n",
        "  #     result = cv2.imwrite(output_path, annotated_image)\n",
        "  #   except:\n",
        "  #     print(f'Error processing {image_path}')\n",
        "  #   continue\n",
        "\n",
        "csv_sink.close()"
      ],
      "metadata": {
        "id": "kGRopezOreIr",
        "outputId": "7a764622-fddd-4b95-c0f7-245314949c2e",
        "colab": {
          "base_uri": "https://localhost:8080/"
        }
      },
      "execution_count": 21,
      "outputs": [
        {
          "output_type": "stream",
          "name": "stderr",
          "text": [
            "ic| url: 'https://github.com/aubreymoore/crb-damage-detector-colab/blob/main/data/images/IMG_0532.JPG?raw=true'\n",
            "WARNING:exif._image:unable to read tag 'components_configuration'\n",
            "WARNING:exif._image:unable to read tag 'maker_note'\n",
            "WARNING:exif._image:unable to read tag 'flashpix_version'\n",
            "WARNING:exif._image:unable to read tag 'scene_type'\n"
          ]
        },
        {
          "output_type": "stream",
          "name": "stdout",
          "text": [
            "\n",
            "0: 736x960 11 lives, 383.1ms\n",
            "Speed: 12.3ms preprocess, 383.1ms inference, 1.6ms postprocess per image at shape (1, 3, 736, 960)\n"
          ]
        },
        {
          "output_type": "stream",
          "name": "stderr",
          "text": [
            "ic| e: AttributeError(\"'numpy.ndarray' object has no attribute 'gps_latitude'\")\n",
            "ic| gps_data: {'latitude': None, 'longitude': None, 'timestamp': None}\n",
            "ic| output_path: 'OUTPUT/IMG_0532_annotated.JPG'\n",
            "ic| url: 'https://github.com/aubreymoore/crb-damage-detector-colab/blob/main/data/images/IMG_0671.JPG?raw=true'\n",
            "WARNING:exif._image:unable to read tag 'components_configuration'\n",
            "WARNING:exif._image:unable to read tag 'maker_note'\n",
            "WARNING:exif._image:unable to read tag 'flashpix_version'\n",
            "WARNING:exif._image:unable to read tag 'scene_type'\n"
          ]
        },
        {
          "output_type": "stream",
          "name": "stdout",
          "text": [
            "\n",
            "0: 736x960 3 lives, 369.0ms\n",
            "Speed: 6.0ms preprocess, 369.0ms inference, 1.0ms postprocess per image at shape (1, 3, 736, 960)\n"
          ]
        },
        {
          "output_type": "stream",
          "name": "stderr",
          "text": [
            "ic| e: AttributeError(\"'numpy.ndarray' object has no attribute 'gps_latitude'\")\n",
            "ic| gps_data: {'latitude': None, 'longitude': None, 'timestamp': None}\n",
            "ic| output_path: 'OUTPUT/IMG_0671_annotated.JPG'\n",
            "ic| url: 'https://github.com/aubreymoore/crb-damage-detector-colab/blob/main/data/images/IMG_06XX.JPG?raw=true'\n",
            "ic| e: error(\"OpenCV(4.10.0) /io/opencv/modules/imgproc/src/color.cpp:196: error: (-215:Assertion failed) !_src.empty() in function 'cvtColor'\n",
            "       \")\n",
            "ic| url: 'https://github.com/aubreymoore/crb-damage-detector-colab/blob/main/data/images/IMG_0695.JPG?raw=true'\n",
            "WARNING:exif._image:unable to read tag 'components_configuration'\n",
            "WARNING:exif._image:unable to read tag 'maker_note'\n",
            "WARNING:exif._image:unable to read tag 'flashpix_version'\n",
            "WARNING:exif._image:unable to read tag 'scene_type'\n"
          ]
        },
        {
          "output_type": "stream",
          "name": "stdout",
          "text": [
            "\n",
            "0: 736x960 3 lives, 346.7ms\n",
            "Speed: 5.9ms preprocess, 346.7ms inference, 1.0ms postprocess per image at shape (1, 3, 736, 960)\n"
          ]
        },
        {
          "output_type": "stream",
          "name": "stderr",
          "text": [
            "ic| e: AttributeError(\"'numpy.ndarray' object has no attribute 'gps_latitude'\")\n",
            "ic| gps_data: {'latitude': None, 'longitude': None, 'timestamp': None}\n",
            "ic| output_path: 'OUTPUT/IMG_0695_annotated.JPG'\n",
            "ic| url: 'https://github.com/aubreymoore/crb-damage-detector-colab/blob/main/data/images/IMG_0704.JPG?raw=true'\n",
            "WARNING:exif._image:unable to read tag 'components_configuration'\n",
            "WARNING:exif._image:unable to read tag 'maker_note'\n",
            "WARNING:exif._image:unable to read tag 'flashpix_version'\n",
            "WARNING:exif._image:unable to read tag 'scene_type'\n"
          ]
        },
        {
          "output_type": "stream",
          "name": "stdout",
          "text": [
            "\n",
            "0: 736x960 4 lives, 4 vcuts, 360.5ms\n",
            "Speed: 5.7ms preprocess, 360.5ms inference, 1.1ms postprocess per image at shape (1, 3, 736, 960)\n"
          ]
        },
        {
          "output_type": "stream",
          "name": "stderr",
          "text": [
            "ic| e: AttributeError(\"'numpy.ndarray' object has no attribute 'gps_latitude'\")\n",
            "ic| gps_data: {'latitude': None, 'longitude': None, 'timestamp': None}\n",
            "ic| output_path: 'OUTPUT/IMG_0704_annotated.JPG'\n",
            "ic| url: 'https://github.com/aubreymoore/crb-damage-detector-colab/blob/main/data/images/IMG_0713.JPG?raw=true'\n",
            "WARNING:exif._image:unable to read tag 'components_configuration'\n",
            "WARNING:exif._image:unable to read tag 'maker_note'\n",
            "WARNING:exif._image:unable to read tag 'flashpix_version'\n",
            "WARNING:exif._image:unable to read tag 'scene_type'\n"
          ]
        },
        {
          "output_type": "stream",
          "name": "stdout",
          "text": [
            "\n",
            "0: 736x960 1 live, 339.1ms\n",
            "Speed: 4.5ms preprocess, 339.1ms inference, 1.0ms postprocess per image at shape (1, 3, 736, 960)\n"
          ]
        },
        {
          "output_type": "stream",
          "name": "stderr",
          "text": [
            "ic| e: AttributeError(\"'numpy.ndarray' object has no attribute 'gps_latitude'\")\n",
            "ic| gps_data: {'latitude': None, 'longitude': None, 'timestamp': None}\n",
            "ic| output_path: 'OUTPUT/IMG_0713_annotated.JPG'\n"
          ]
        },
        {
          "output_type": "stream",
          "name": "stdout",
          "text": [
            "time: 7.38 s (started: 2024-10-25 09:07:20 +00:00)\n"
          ]
        }
      ]
    },
    {
      "cell_type": "markdown",
      "source": [
        "### Download OUTPUT folder as a ZIP file"
      ],
      "metadata": {
        "id": "NTYyOn8QztJW"
      }
    },
    {
      "cell_type": "code",
      "source": [
        "!zip -r OUTPUT.zip OUTPUT"
      ],
      "metadata": {
        "id": "l8tPKEwW4JPa",
        "outputId": "cc257bc4-5902-4422-a8d1-6b834b58b753",
        "colab": {
          "base_uri": "https://localhost:8080/"
        }
      },
      "execution_count": 22,
      "outputs": [
        {
          "output_type": "stream",
          "name": "stdout",
          "text": [
            "  adding: OUTPUT/ (stored 0%)\n",
            "  adding: OUTPUT/IMG_0695_annotated.JPG (deflated 1%)\n",
            "  adding: OUTPUT/detections.csv (deflated 78%)\n",
            "  adding: OUTPUT/IMG_0532_annotated.JPG (deflated 0%)\n",
            "  adding: OUTPUT/IMG_0704_annotated.JPG (deflated 0%)\n",
            "  adding: OUTPUT/IMG_0671_annotated.JPG (deflated 0%)\n",
            "  adding: OUTPUT/IMG_0713_annotated.JPG (deflated 1%)\n",
            "time: 205 ms (started: 2024-10-25 09:07:27 +00:00)\n"
          ]
        }
      ]
    },
    {
      "cell_type": "code",
      "source": [
        "from google.colab import files\n",
        "files.download(\"OUTPUT.zip\")"
      ],
      "metadata": {
        "id": "ODvR3p_8zG1o",
        "outputId": "e5a4730b-c800-43e3-e77e-7a5b7649c582",
        "colab": {
          "base_uri": "https://localhost:8080/",
          "height": 54
        }
      },
      "execution_count": 23,
      "outputs": [
        {
          "output_type": "display_data",
          "data": {
            "text/plain": [
              "<IPython.core.display.Javascript object>"
            ],
            "application/javascript": [
              "\n",
              "    async function download(id, filename, size) {\n",
              "      if (!google.colab.kernel.accessAllowed) {\n",
              "        return;\n",
              "      }\n",
              "      const div = document.createElement('div');\n",
              "      const label = document.createElement('label');\n",
              "      label.textContent = `Downloading \"${filename}\": `;\n",
              "      div.appendChild(label);\n",
              "      const progress = document.createElement('progress');\n",
              "      progress.max = size;\n",
              "      div.appendChild(progress);\n",
              "      document.body.appendChild(div);\n",
              "\n",
              "      const buffers = [];\n",
              "      let downloaded = 0;\n",
              "\n",
              "      const channel = await google.colab.kernel.comms.open(id);\n",
              "      // Send a message to notify the kernel that we're ready.\n",
              "      channel.send({})\n",
              "\n",
              "      for await (const message of channel.messages) {\n",
              "        // Send a message to notify the kernel that we're ready.\n",
              "        channel.send({})\n",
              "        if (message.buffers) {\n",
              "          for (const buffer of message.buffers) {\n",
              "            buffers.push(buffer);\n",
              "            downloaded += buffer.byteLength;\n",
              "            progress.value = downloaded;\n",
              "          }\n",
              "        }\n",
              "      }\n",
              "      const blob = new Blob(buffers, {type: 'application/binary'});\n",
              "      const a = document.createElement('a');\n",
              "      a.href = window.URL.createObjectURL(blob);\n",
              "      a.download = filename;\n",
              "      div.appendChild(a);\n",
              "      a.click();\n",
              "      div.remove();\n",
              "    }\n",
              "  "
            ]
          },
          "metadata": {}
        },
        {
          "output_type": "display_data",
          "data": {
            "text/plain": [
              "<IPython.core.display.Javascript object>"
            ],
            "application/javascript": [
              "download(\"download_54d8523d-abe1-46bf-9056-1fc296a2f96d\", \"OUTPUT.zip\", 1543671)"
            ]
          },
          "metadata": {}
        },
        {
          "output_type": "stream",
          "name": "stdout",
          "text": [
            "time: 7.22 ms (started: 2024-10-25 09:07:27 +00:00)\n"
          ]
        }
      ]
    },
    {
      "cell_type": "markdown",
      "source": [
        "# FINISHED\n",
        "If everything worked as intended, you should find a file named **OUTPUT.zip** in your Downloads folder. Unzip this file to see results."
      ],
      "metadata": {
        "id": "LOCD7_KCdMh1"
      }
    },
    {
      "cell_type": "code",
      "source": [
        "\n",
        "print('FINISHED')"
      ],
      "metadata": {
        "id": "dfWKUVoS2b92",
        "outputId": "69e22f3f-f687-4b03-b484-4fb4b4ba4037",
        "colab": {
          "base_uri": "https://localhost:8080/"
        }
      },
      "execution_count": 24,
      "outputs": [
        {
          "output_type": "stream",
          "name": "stdout",
          "text": [
            "FINISHED\n",
            "time: 586 µs (started: 2024-10-25 09:07:28 +00:00)\n"
          ]
        }
      ]
    },
    {
      "source": [
        "import zipfile\n",
        "import io\n",
        "import PIL\n",
        "from PIL import Image\n",
        "\n",
        "z = zipfile.ZipFile('INPUT/images.zip')\n",
        "for file_name in z.namelist():\n",
        "  if file_name.lower().endswith(('.jpg', '.jpeg', '.png', '.gif')):  # Check for common image extensions\n",
        "    print(f'Extracting {file_name}...')\n",
        "    with z.open(file_name, 'r') as file: # Use z.open to directly open the file within the zip archive\n",
        "      try:\n",
        "        img = Image.open(file) # Pass the file object to Image.open\n",
        "        # img = Image(file)\n",
        "        print(img)\n",
        "        # print(img.gps_latitude)\n",
        "      # except PIL.UnidentifiedImageError:\n",
        "      #   print(f\"Failed to open {file_name}: UnidentifiedImageError\")\n",
        "      except Exception as e:\n",
        "        print(f\"Failed to open {file_name}: {e}\")\n",
        "      img"
      ],
      "cell_type": "code",
      "metadata": {
        "id": "olKRmeaqRthv",
        "outputId": "a12ef15a-7cf8-4394-d52b-2c37695f67ac",
        "colab": {
          "base_uri": "https://localhost:8080/",
          "height": 370
        }
      },
      "execution_count": 25,
      "outputs": [
        {
          "output_type": "error",
          "ename": "FileNotFoundError",
          "evalue": "[Errno 2] No such file or directory: 'INPUT/images.zip'",
          "traceback": [
            "\u001b[0;31m---------------------------------------------------------------------------\u001b[0m",
            "\u001b[0;31mFileNotFoundError\u001b[0m                         Traceback (most recent call last)",
            "\u001b[0;32m<ipython-input-25-3a22bfe690fc>\u001b[0m in \u001b[0;36m<cell line: 6>\u001b[0;34m()\u001b[0m\n\u001b[1;32m      4\u001b[0m \u001b[0;32mfrom\u001b[0m \u001b[0mPIL\u001b[0m \u001b[0;32mimport\u001b[0m \u001b[0mImage\u001b[0m\u001b[0;34m\u001b[0m\u001b[0;34m\u001b[0m\u001b[0m\n\u001b[1;32m      5\u001b[0m \u001b[0;34m\u001b[0m\u001b[0m\n\u001b[0;32m----> 6\u001b[0;31m \u001b[0mz\u001b[0m \u001b[0;34m=\u001b[0m \u001b[0mzipfile\u001b[0m\u001b[0;34m.\u001b[0m\u001b[0mZipFile\u001b[0m\u001b[0;34m(\u001b[0m\u001b[0;34m'INPUT/images.zip'\u001b[0m\u001b[0;34m)\u001b[0m\u001b[0;34m\u001b[0m\u001b[0;34m\u001b[0m\u001b[0m\n\u001b[0m\u001b[1;32m      7\u001b[0m \u001b[0;32mfor\u001b[0m \u001b[0mfile_name\u001b[0m \u001b[0;32min\u001b[0m \u001b[0mz\u001b[0m\u001b[0;34m.\u001b[0m\u001b[0mnamelist\u001b[0m\u001b[0;34m(\u001b[0m\u001b[0;34m)\u001b[0m\u001b[0;34m:\u001b[0m\u001b[0;34m\u001b[0m\u001b[0;34m\u001b[0m\u001b[0m\n\u001b[1;32m      8\u001b[0m   \u001b[0;32mif\u001b[0m \u001b[0mfile_name\u001b[0m\u001b[0;34m.\u001b[0m\u001b[0mlower\u001b[0m\u001b[0;34m(\u001b[0m\u001b[0;34m)\u001b[0m\u001b[0;34m.\u001b[0m\u001b[0mendswith\u001b[0m\u001b[0;34m(\u001b[0m\u001b[0;34m(\u001b[0m\u001b[0;34m'.jpg'\u001b[0m\u001b[0;34m,\u001b[0m \u001b[0;34m'.jpeg'\u001b[0m\u001b[0;34m,\u001b[0m \u001b[0;34m'.png'\u001b[0m\u001b[0;34m,\u001b[0m \u001b[0;34m'.gif'\u001b[0m\u001b[0;34m)\u001b[0m\u001b[0;34m)\u001b[0m\u001b[0;34m:\u001b[0m  \u001b[0;31m# Check for common image extensions\u001b[0m\u001b[0;34m\u001b[0m\u001b[0;34m\u001b[0m\u001b[0m\n",
            "\u001b[0;32m/usr/lib/python3.10/zipfile.py\u001b[0m in \u001b[0;36m__init__\u001b[0;34m(self, file, mode, compression, allowZip64, compresslevel, strict_timestamps)\u001b[0m\n\u001b[1;32m   1252\u001b[0m             \u001b[0;32mwhile\u001b[0m \u001b[0;32mTrue\u001b[0m\u001b[0;34m:\u001b[0m\u001b[0;34m\u001b[0m\u001b[0;34m\u001b[0m\u001b[0m\n\u001b[1;32m   1253\u001b[0m                 \u001b[0;32mtry\u001b[0m\u001b[0;34m:\u001b[0m\u001b[0;34m\u001b[0m\u001b[0;34m\u001b[0m\u001b[0m\n\u001b[0;32m-> 1254\u001b[0;31m                     \u001b[0mself\u001b[0m\u001b[0;34m.\u001b[0m\u001b[0mfp\u001b[0m \u001b[0;34m=\u001b[0m \u001b[0mio\u001b[0m\u001b[0;34m.\u001b[0m\u001b[0mopen\u001b[0m\u001b[0;34m(\u001b[0m\u001b[0mfile\u001b[0m\u001b[0;34m,\u001b[0m \u001b[0mfilemode\u001b[0m\u001b[0;34m)\u001b[0m\u001b[0;34m\u001b[0m\u001b[0;34m\u001b[0m\u001b[0m\n\u001b[0m\u001b[1;32m   1255\u001b[0m                 \u001b[0;32mexcept\u001b[0m \u001b[0mOSError\u001b[0m\u001b[0;34m:\u001b[0m\u001b[0;34m\u001b[0m\u001b[0;34m\u001b[0m\u001b[0m\n\u001b[1;32m   1256\u001b[0m                     \u001b[0;32mif\u001b[0m \u001b[0mfilemode\u001b[0m \u001b[0;32min\u001b[0m \u001b[0mmodeDict\u001b[0m\u001b[0;34m:\u001b[0m\u001b[0;34m\u001b[0m\u001b[0;34m\u001b[0m\u001b[0m\n",
            "\u001b[0;31mFileNotFoundError\u001b[0m: [Errno 2] No such file or directory: 'INPUT/images.zip'"
          ]
        },
        {
          "output_type": "stream",
          "name": "stdout",
          "text": [
            "time: 31.1 ms (started: 2024-10-25 09:07:28 +00:00)\n"
          ]
        }
      ]
    },
    {
      "cell_type": "code",
      "source": [
        "img._getexif\n",
        "\n"
      ],
      "metadata": {
        "id": "fnfMeYqMXTCZ"
      },
      "execution_count": null,
      "outputs": []
    }
  ]
}