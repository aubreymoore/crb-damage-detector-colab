{
  "nbformat": 4,
  "nbformat_minor": 0,
  "metadata": {
    "colab": {
      "provenance": [],
      "authorship_tag": "ABX9TyP6T6JT3Dz3Mj3g7TV7BZ76",
      "include_colab_link": true
    },
    "kernelspec": {
      "name": "python3",
      "display_name": "Python 3"
    },
    "language_info": {
      "name": "python"
    }
  },
  "cells": [
    {
      "cell_type": "markdown",
      "metadata": {
        "id": "view-in-github",
        "colab_type": "text"
      },
      "source": [
        "<a href=\"https://colab.research.google.com/github/aubreymoore/crb-damage-detector-colab/blob/main/detect_and_annotate_dev.ipynb\" target=\"_parent\"><img src=\"https://colab.research.google.com/assets/colab-badge.svg\" alt=\"Open In Colab\"/></a>"
      ]
    },
    {
      "cell_type": "markdown",
      "source": [
        "# detect_and_annotate.ipynb\n",
        "\n",
        "NOTE: The following documentation is already slightly out of date.\n",
        "Please visit https://github.com/aubreymoore/crb-damage-detector-colab before running this notebook for the first time.\n",
        "\n",
        "This Colab Jupyter notebook runs a custom YOLOv8 object detector which scans images to find three object classes: live coconut palms, dead coconut palms and v-shaped cuts symptomatic of damage caused by coconut rhinoceros beetle, *Oryctes rhinoceros*.\n",
        "\n",
        "IMPORTANT: Shortly after the MAIN PROGRAM section begins executing, a BROWSE button will appear below the active cell to allow you to upload single file of input data from your loacal machine to Colab.\n",
        "\n",
        "**Note that Colab will just sit there and not do anything until you have entered a path to a test file of URLs or a ZIP file of images on your local machine.** [Click here to scroll down to the \"Browser\" button.](#scrollTo=5zSjfTXvIv2q&line=1&uniqifier=1)\n",
        "\n",
        "You may choose between 2 options:\n",
        "* A TEXT file (\\*.txt) containing URLs for images to be scanned. One URL per line. (This is the most efficient option.)\n",
        "* A ZIP file (\\*.zip) containing images to be scanned.\n",
        "\n",
        "\n",
        "Test data are available in a companion GitHub repository at https://github.com/aubreymoore/crb-damage-detector-colab. To use the test data, download it to your local computer it as a [ZIP file](https://github.com/aubreymoore/crb-damage-detector-colab/archive/refs/heads/main.zip) and unzip it. If you have **git** installed, you can clone the repo as an alternative. The TEXT file or ZIP file to be uploaded to Colab will be found in the repository's **data** folder.\n",
        "\n",
        "To scan images, select **Runtime | Run all** on the main menu.\n",
        "Results will be in a temporary OUTPUT folder which you can access using the **File browser** in the left Colab panel.\n",
        "\n",
        "When image scanning is complete, the OUTPUT folder will be compressed into a single ZIP file and automatically downloaded to your computer.\n",
        "\n",
        "### TODO\n",
        "\n",
        "- [ finished 2024-10-19] Reduce size of images in the companion GH repo to max dimension of 960px\n",
        "- [ ] Copy current trained model to companion GH repo\n",
        "- [ ] Copy this Jupyter notebook to companion GH repo\n",
        "- [ ] Add confidence values to bounding box labels.\n",
        "- [ ] Add database to OUTPUT folder\n",
        "- [ ] Extract GPS coordinates from image files\n",
        "- [ ] Figure out how to use URLs to access images stored on OneDrive (Sharepoint)"
      ],
      "metadata": {
        "id": "EUB3xquwb6sI"
      }
    },
    {
      "cell_type": "markdown",
      "source": [
        "# Load Python packages which are not preinstalled by Colab"
      ],
      "metadata": {
        "id": "7Rp6VisrdfNv"
      }
    },
    {
      "cell_type": "code",
      "execution_count": 1,
      "metadata": {
        "id": "AggzUm3SRJFO"
      },
      "outputs": [],
      "source": [
        "%pip install ultralytics -q\n",
        "%pip install supervision -q\n",
        "# %pip install imutils -q\n",
        "%pip install icecream -q\n",
        "%pip install ipython-autotime -q"
      ]
    },
    {
      "cell_type": "markdown",
      "source": [
        "# Import modules"
      ],
      "metadata": {
        "id": "l0Uuj0JCi5Ll"
      }
    },
    {
      "cell_type": "code",
      "source": [
        "import cv2\n",
        "import supervision as sv\n",
        "from ultralytics import YOLO\n",
        "# import imutils\n",
        "\n",
        "import glob\n",
        "import os\n",
        "import shutil\n",
        "from skimage import io\n",
        "from icecream import ic\n",
        "from google.colab import files\n",
        "import zipfile\n",
        "# import io\n",
        "from urllib.request import urlretrieve\n",
        "\n",
        "# ultralytics.checks()"
      ],
      "metadata": {
        "id": "U1cExUvHRlTA"
      },
      "execution_count": 2,
      "outputs": []
    },
    {
      "cell_type": "markdown",
      "source": [
        "# Load cell timer"
      ],
      "metadata": {
        "id": "KpGhWzQFZfr9"
      }
    },
    {
      "cell_type": "code",
      "source": [
        "%load_ext autotime"
      ],
      "metadata": {
        "id": "GJUTRUbHYhRl",
        "colab": {
          "base_uri": "https://localhost:8080/"
        },
        "outputId": "aeceaf89-c5da-4207-fa37-b969123742c6"
      },
      "execution_count": 3,
      "outputs": [
        {
          "output_type": "stream",
          "name": "stdout",
          "text": [
            "time: 335 µs (started: 2024-10-24 11:46:21 +00:00)\n"
          ]
        }
      ]
    },
    {
      "cell_type": "markdown",
      "source": [
        "# Define functions"
      ],
      "metadata": {
        "id": "mV6zIMn0ZRGZ"
      }
    },
    {
      "cell_type": "code",
      "source": [
        "# url = 'https://github.com/aubreymoore/crb-damage-detector-colab/blob/main/data/images/IMG_0532.JPG?raw=true'\n",
        "# filename = 'IMG_0532.JPG'\n",
        "# urlretrieve(url, filename)"
      ],
      "metadata": {
        "id": "eWWmLZv4l609",
        "colab": {
          "base_uri": "https://localhost:8080/"
        },
        "outputId": "d31d21cf-31d1-47e7-dc74-1242853019f8"
      },
      "execution_count": 4,
      "outputs": [
        {
          "output_type": "stream",
          "name": "stdout",
          "text": [
            "time: 329 µs (started: 2024-10-24 11:46:30 +00:00)\n"
          ]
        }
      ]
    },
    {
      "cell_type": "code",
      "source": [
        "def get_gps_from_exif(image_path):\n",
        "  \"\"\"\n",
        "  Gets timestamp and GPS coordinates from an image.\n",
        "\n",
        "  Args:\n",
        "    image_path:\n",
        "\n",
        "  Returns:\n",
        "    timestamp, latitude, longitude\n",
        "  \"\"\"\n",
        "  with open(image_path, 'rb') as src:\n",
        "    img = Image(src)\n",
        "    if img.has_exif:\n",
        "      try:\n",
        "        timestamp = img.datetime_original\n",
        "        print(img.gps_latitude)\n",
        "        dms = img.gps_latitude\n",
        "        latitude = dms[0] + dms[1]/60 + dms[2]/3600\n",
        "        if img.gps_latitude_ref == 'S':\n",
        "          latitude = -latitude\n",
        "        dms = img.gps_longitude\n",
        "        longitude  = dms[0] + dms[1]/60 + dms[2]/3600\n",
        "        if img.gps_longitude_ref == 'W':\n",
        "          longitude = -longitude\n",
        "        return {\"timestamp\": timestamp, \"latitude\": latitude, \"longitude\": longitude}\n",
        "      except Exception as e:\n",
        "        print(e)\n",
        "        return {\"timestamp\": None, \"latitude\": None,\"longitude\": None}\n",
        "    else:\n",
        "      print ('The Image has no EXIF')\n",
        "      return {\"timestamp\": None, \"latitude\": None,\"longitude\": None}\n",
        "\n",
        "# get_gps_from_exif('IMG_0532.JPG')"
      ],
      "metadata": {
        "id": "Gh-S3DTNl8aP",
        "colab": {
          "base_uri": "https://localhost:8080/"
        },
        "outputId": "6083af40-1b5a-453f-8810-f49b3f6435b1"
      },
      "execution_count": 5,
      "outputs": [
        {
          "output_type": "stream",
          "name": "stdout",
          "text": [
            "time: 1.21 ms (started: 2024-10-24 11:46:30 +00:00)\n"
          ]
        }
      ]
    },
    {
      "cell_type": "code",
      "source": [
        "def upload_model_weights():\n",
        "  '''\n",
        "  Upload model weights from GitHub repo to **weights.pt** only if this file does not already exist.\n",
        "  '''\n",
        "  !wget -nc https://github.com/aubreymoore/code-for-CRB-damage-ai/raw/refs/heads/main/models/3class/train5/weights/best.pt -O weights.pt\n",
        "\n",
        "# upload_model_weights()"
      ],
      "metadata": {
        "id": "7Yc80WosFV0G",
        "colab": {
          "base_uri": "https://localhost:8080/"
        },
        "outputId": "9d45c80c-af0d-40bf-ddbf-7a640b5f58a2"
      },
      "execution_count": 6,
      "outputs": [
        {
          "output_type": "stream",
          "name": "stdout",
          "text": [
            "time: 410 µs (started: 2024-10-24 11:46:30 +00:00)\n"
          ]
        }
      ]
    },
    {
      "cell_type": "code",
      "source": [
        "def load_model_weights():\n",
        "  model = YOLO('weights.pt')"
      ],
      "metadata": {
        "id": "IN7dkUz24841",
        "colab": {
          "base_uri": "https://localhost:8080/"
        },
        "outputId": "8eebf0ee-5936-43d3-8644-a1bcba790343"
      },
      "execution_count": 7,
      "outputs": [
        {
          "output_type": "stream",
          "name": "stdout",
          "text": [
            "time: 357 µs (started: 2024-10-24 11:46:31 +00:00)\n"
          ]
        }
      ]
    },
    {
      "cell_type": "code",
      "source": [
        "def create_input_folder():\n",
        "  if not os.path.exists('INPUT'):\n",
        "    os.makedirs('INPUT')\n",
        "\n",
        "# create_input_folder()"
      ],
      "metadata": {
        "id": "TEW_0vwRZWEV",
        "colab": {
          "base_uri": "https://localhost:8080/"
        },
        "outputId": "35d87f56-6907-4de6-c632-320ccc634242"
      },
      "execution_count": 8,
      "outputs": [
        {
          "output_type": "stream",
          "name": "stdout",
          "text": [
            "time: 670 µs (started: 2024-10-24 11:46:31 +00:00)\n"
          ]
        }
      ]
    },
    {
      "cell_type": "code",
      "source": [
        "def create_output_folder():\n",
        "  if not os.path.exists('OUTPUT'):\n",
        "    os.makedirs('OUTPUT')\n",
        "\n",
        "# create_output_folder()"
      ],
      "metadata": {
        "id": "OH8-tflD8taN",
        "colab": {
          "base_uri": "https://localhost:8080/"
        },
        "outputId": "6c34ba85-760d-49eb-c193-9f17a0ca4228"
      },
      "execution_count": 9,
      "outputs": [
        {
          "output_type": "stream",
          "name": "stdout",
          "text": [
            "time: 572 µs (started: 2024-10-24 11:46:31 +00:00)\n"
          ]
        }
      ]
    },
    {
      "cell_type": "code",
      "source": [
        "def run_garbage_disposal():\n",
        "  '''\n",
        "  Delete any data files left over from the last run.\n",
        "  '''\n",
        "  shutil.rmtree('INPUT', ignore_errors=True)\n",
        "  shutil.rmtree('OUTPUT', ignore_errors=True)\n",
        "  shutil.rmtree('sample_data', ignore_errors=True)\n",
        "\n",
        "  try:\n",
        "    os.remove('weights.pt')\n",
        "  except OSError:\n",
        "    pass\n",
        "\n",
        "# run_garbage_disposal()"
      ],
      "metadata": {
        "id": "N5Bb4M-9xLUr",
        "colab": {
          "base_uri": "https://localhost:8080/"
        },
        "outputId": "0c3dc9b8-2448-4785-cd42-b84ef7877a1b"
      },
      "execution_count": 10,
      "outputs": [
        {
          "output_type": "stream",
          "name": "stdout",
          "text": [
            "time: 458 µs (started: 2024-10-24 11:46:31 +00:00)\n"
          ]
        }
      ]
    },
    {
      "cell_type": "code",
      "source": [
        "def extract_JPG_files(zip_file_path, output_dir):\n",
        "    # Ensure the output directory exists\n",
        "    os.makedirs(output_dir, exist_ok=True)\n",
        "\n",
        "    with zipfile.ZipFile(zip_file_path, 'r') as zip_ref:\n",
        "        # Loop through each file in the zip archive\n",
        "        for file_name in zip_ref.namelist():\n",
        "            if file_name.endswith('.JPG'):  # Check for .jpg extension\n",
        "                print(f'Extracting {file_name}...')\n",
        "                zip_ref.extract(file_name, output_dir)  # Extract the file\n",
        "\n",
        "# Usage\n",
        "# extract_dll_files('path/to/your/archive.zip', 'path/to/extract/directory')\n"
      ],
      "metadata": {
        "id": "jgFm4SOSull8",
        "colab": {
          "base_uri": "https://localhost:8080/"
        },
        "outputId": "01f3d65e-9182-456d-b428-4c41cf5173ac"
      },
      "execution_count": 11,
      "outputs": [
        {
          "output_type": "stream",
          "name": "stdout",
          "text": [
            "time: 553 µs (started: 2024-10-24 11:46:31 +00:00)\n"
          ]
        }
      ]
    },
    {
      "cell_type": "code",
      "source": [
        "def extract_zip_to_memory(zip_content):\n",
        "    \"\"\"\n",
        "    Extracts files from a ZIP archive stored in memory.\n",
        "\n",
        "    :param zip_content: Bytes of the ZIP file.\n",
        "    :return: A dictionary of filename and file-like objects.\n",
        "    \"\"\"\n",
        "    extracted_files = {}\n",
        "    with zipfile.ZipFile(io.BytesIO(zip_content)) as z:\n",
        "        for file_info in z.infolist():\n",
        "            with z.open(file_info) as file:\n",
        "                extracted_files[file_info.filename] = file.read()  # Read file content\n",
        "    return extracted_files\n",
        "\n",
        "# Usage example\n",
        "# Assuming 'zip_data' contains the bytes of your ZIP file\n",
        "# zip_data = ... (load your ZIP data here)\n",
        "# files = extract_zip_to_memory(zip_data)\n",
        "# for name, content in files.items():\n",
        "#     print(f\"Extracted {name} with size {len(content)} bytes\")\n"
      ],
      "metadata": {
        "id": "S74IbW0_xjFA",
        "colab": {
          "base_uri": "https://localhost:8080/"
        },
        "outputId": "b1e7545e-7526-46ac-9cdc-5405c0bc278d"
      },
      "execution_count": 12,
      "outputs": [
        {
          "output_type": "stream",
          "name": "stdout",
          "text": [
            "time: 537 µs (started: 2024-10-24 11:46:31 +00:00)\n"
          ]
        }
      ]
    },
    {
      "cell_type": "code",
      "source": [
        "def upload_and_unpack_zip_or_txt():\n",
        "  '''\n",
        "  Upload images in a ZIP (*.zip) or list of URLs (*.txt)\n",
        "  '''\n",
        "  input_mode = None\n",
        "  urls = None\n",
        "  image_file_dir = None\n",
        "\n",
        "  # Upload images in a ZIP (*.zip) or list of URLs (*.txt)\n",
        "\n",
        "  uploaded = files.upload(target_dir='INPUT')\n",
        "  filename = list(uploaded.keys())[0]\n",
        "\n",
        "  if filename.endswith('.txt'):\n",
        "    input_mode = 'text'\n",
        "    with open(filename, 'r') as f:\n",
        "      urls = f.read().splitlines()\n",
        "\n",
        "      for url in urls:\n",
        "\n",
        "        # Extract filename from URL\n",
        "        filename = url.split('/')[-1]\n",
        "        pos = filename.find('?')\n",
        "        if pos >= 0:\n",
        "          filename = filename[:pos]\n",
        "\n",
        "        urlretrieve(url, f'INPUT/filename')\n",
        "\n",
        "  elif filename.endswith('.zip'):\n",
        "    input_mode = 'zip'\n",
        "    # !unzip -q $filename -d INPUT\n",
        "    # image_file_dir = f'INPUT/{filename}'.replace('.zip', '')\n",
        "    # ic(image_file_dir)\n",
        "\n",
        "  else:\n",
        "    raise ValueError('INPUT file must be *.txt or *.zip.')\n",
        "  return input_mode, urls, image_file_dir\n",
        "\n",
        "# input_mode, urls, image_file_dir = upload_and_unpack_zip_or_txt()\n",
        "# ic(input_mode)\n",
        "# ic(urls)\n",
        "# ic(image_file_dir)"
      ],
      "metadata": {
        "id": "7PC5mvkBasff",
        "colab": {
          "base_uri": "https://localhost:8080/"
        },
        "outputId": "3a2f8f31-e664-4a6a-b0e6-81df813c0682"
      },
      "execution_count": 13,
      "outputs": [
        {
          "output_type": "stream",
          "name": "stdout",
          "text": [
            "time: 665 µs (started: 2024-10-24 11:46:31 +00:00)\n"
          ]
        }
      ]
    },
    {
      "cell_type": "code",
      "source": [
        "def get_input_file_list():\n",
        "  return glob.glob(f'INPUT/**/*', recursive=True)\n",
        "\n",
        "# get_input_file_list()"
      ],
      "metadata": {
        "id": "GgC0yLmO7DFp",
        "colab": {
          "base_uri": "https://localhost:8080/"
        },
        "outputId": "345eb402-bca6-40a6-8708-e2f017eb7095"
      },
      "execution_count": 14,
      "outputs": [
        {
          "output_type": "stream",
          "name": "stdout",
          "text": [
            "time: 1.02 ms (started: 2024-10-24 11:46:31 +00:00)\n"
          ]
        }
      ]
    },
    {
      "cell_type": "code",
      "source": [
        "def detect_objects(image, model, box_annotator, label_annotator, csv_sink):\n",
        "  '''\n",
        "  detect objects in an image\n",
        "  returns detections and an annotated image\n",
        "  '''\n",
        "  results = model(image)[0]\n",
        "  detections = sv.Detections.from_ultralytics(results)\n",
        "  # ic(detections)\n",
        "  annotated_image = box_annotator.annotate(image, detections=detections)\n",
        "  labels = [f\"{model.model.names[class_id]} {confidence:.2f}\" for class_id, confidence in zip(detections.class_id, detections.confidence)]\n",
        "  annotated_image = label_annotator.annotate(scene=annotated_image, detections=detections, labels=labels)\n",
        "  return detections, annotated_image\n",
        "\n",
        "# csv_sink = sv.CSVSink('detections.csv')\n",
        "# csv_sink.open()\n",
        "\n",
        "# upload_model_weights()\n",
        "# model = YOLO('weights.pt')\n",
        "# box_annotator = sv.BoxAnnotator()\n",
        "# label_annotator = sv.LabelAnnotator()\n",
        "\n",
        "# url = 'https://github.com/aubreymoore/crb-damage-detector-colab/blob/main/data/Vanuatu_July_2022_Sulav/resized-images/IMG_0532.JPG?raw=true'\n",
        "# image = imutils.url_to_image(url)\n",
        "# detections, annotated_image = detect_objects(image, model, box_annotator, label_annotator, csv_sink)\n",
        "# ic(detections)\n",
        "# sv.plot_image(annotated_image)\n",
        "\n",
        "# custom_data = {'url': url}\n",
        "# csv_sink.append(detections, custom_data)\n",
        "\n",
        "# csv_sink.close()"
      ],
      "metadata": {
        "id": "DIMCMtn5va3d",
        "colab": {
          "base_uri": "https://localhost:8080/"
        },
        "outputId": "12b19006-e834-4aff-9e2d-ae18a0364bfe"
      },
      "execution_count": 15,
      "outputs": [
        {
          "output_type": "stream",
          "name": "stdout",
          "text": [
            "time: 592 µs (started: 2024-10-24 11:46:31 +00:00)\n"
          ]
        }
      ]
    },
    {
      "cell_type": "markdown",
      "source": [
        "# MAIN PROGRAM"
      ],
      "metadata": {
        "id": "uOi1eL7K7Paw"
      }
    },
    {
      "cell_type": "code",
      "source": [
        "# Clear data files from previous run\n",
        "run_garbage_disposal()\n",
        "\n",
        "create_input_folder()\n",
        "create_output_folder()\n",
        "\n",
        "# Upload images or list of URLs\n",
        "input_mode, urls, image_file_dir = upload_and_unpack_zip_or_txt()\n",
        "\n",
        "# Upload weights from trained model and load them\n",
        "upload_model_weights()\n",
        "model = YOLO('weights.pt')\n",
        "\n",
        "box_annotator = sv.BoxAnnotator()\n",
        "label_annotator = sv.LabelAnnotator()\n",
        "csv_sink = sv.CSVSink('OUTPUT/detections.csv')\n",
        "csv_sink.open()"
      ],
      "metadata": {
        "id": "lXg9v2giEjrK",
        "outputId": "795ee74b-a28f-46c3-db46-597ea050edf0",
        "colab": {
          "base_uri": "https://localhost:8080/",
          "height": 388
        }
      },
      "execution_count": 16,
      "outputs": [
        {
          "output_type": "display_data",
          "data": {
            "text/plain": [
              "<IPython.core.display.HTML object>"
            ],
            "text/html": [
              "\n",
              "     <input type=\"file\" id=\"files-76b01cdc-75f8-4ed3-972e-c46b0dd1f312\" name=\"files[]\" multiple disabled\n",
              "        style=\"border:none\" />\n",
              "     <output id=\"result-76b01cdc-75f8-4ed3-972e-c46b0dd1f312\">\n",
              "      Upload widget is only available when the cell has been executed in the\n",
              "      current browser session. Please rerun this cell to enable.\n",
              "      </output>\n",
              "      <script>// Copyright 2017 Google LLC\n",
              "//\n",
              "// Licensed under the Apache License, Version 2.0 (the \"License\");\n",
              "// you may not use this file except in compliance with the License.\n",
              "// You may obtain a copy of the License at\n",
              "//\n",
              "//      http://www.apache.org/licenses/LICENSE-2.0\n",
              "//\n",
              "// Unless required by applicable law or agreed to in writing, software\n",
              "// distributed under the License is distributed on an \"AS IS\" BASIS,\n",
              "// WITHOUT WARRANTIES OR CONDITIONS OF ANY KIND, either express or implied.\n",
              "// See the License for the specific language governing permissions and\n",
              "// limitations under the License.\n",
              "\n",
              "/**\n",
              " * @fileoverview Helpers for google.colab Python module.\n",
              " */\n",
              "(function(scope) {\n",
              "function span(text, styleAttributes = {}) {\n",
              "  const element = document.createElement('span');\n",
              "  element.textContent = text;\n",
              "  for (const key of Object.keys(styleAttributes)) {\n",
              "    element.style[key] = styleAttributes[key];\n",
              "  }\n",
              "  return element;\n",
              "}\n",
              "\n",
              "// Max number of bytes which will be uploaded at a time.\n",
              "const MAX_PAYLOAD_SIZE = 100 * 1024;\n",
              "\n",
              "function _uploadFiles(inputId, outputId) {\n",
              "  const steps = uploadFilesStep(inputId, outputId);\n",
              "  const outputElement = document.getElementById(outputId);\n",
              "  // Cache steps on the outputElement to make it available for the next call\n",
              "  // to uploadFilesContinue from Python.\n",
              "  outputElement.steps = steps;\n",
              "\n",
              "  return _uploadFilesContinue(outputId);\n",
              "}\n",
              "\n",
              "// This is roughly an async generator (not supported in the browser yet),\n",
              "// where there are multiple asynchronous steps and the Python side is going\n",
              "// to poll for completion of each step.\n",
              "// This uses a Promise to block the python side on completion of each step,\n",
              "// then passes the result of the previous step as the input to the next step.\n",
              "function _uploadFilesContinue(outputId) {\n",
              "  const outputElement = document.getElementById(outputId);\n",
              "  const steps = outputElement.steps;\n",
              "\n",
              "  const next = steps.next(outputElement.lastPromiseValue);\n",
              "  return Promise.resolve(next.value.promise).then((value) => {\n",
              "    // Cache the last promise value to make it available to the next\n",
              "    // step of the generator.\n",
              "    outputElement.lastPromiseValue = value;\n",
              "    return next.value.response;\n",
              "  });\n",
              "}\n",
              "\n",
              "/**\n",
              " * Generator function which is called between each async step of the upload\n",
              " * process.\n",
              " * @param {string} inputId Element ID of the input file picker element.\n",
              " * @param {string} outputId Element ID of the output display.\n",
              " * @return {!Iterable<!Object>} Iterable of next steps.\n",
              " */\n",
              "function* uploadFilesStep(inputId, outputId) {\n",
              "  const inputElement = document.getElementById(inputId);\n",
              "  inputElement.disabled = false;\n",
              "\n",
              "  const outputElement = document.getElementById(outputId);\n",
              "  outputElement.innerHTML = '';\n",
              "\n",
              "  const pickedPromise = new Promise((resolve) => {\n",
              "    inputElement.addEventListener('change', (e) => {\n",
              "      resolve(e.target.files);\n",
              "    });\n",
              "  });\n",
              "\n",
              "  const cancel = document.createElement('button');\n",
              "  inputElement.parentElement.appendChild(cancel);\n",
              "  cancel.textContent = 'Cancel upload';\n",
              "  const cancelPromise = new Promise((resolve) => {\n",
              "    cancel.onclick = () => {\n",
              "      resolve(null);\n",
              "    };\n",
              "  });\n",
              "\n",
              "  // Wait for the user to pick the files.\n",
              "  const files = yield {\n",
              "    promise: Promise.race([pickedPromise, cancelPromise]),\n",
              "    response: {\n",
              "      action: 'starting',\n",
              "    }\n",
              "  };\n",
              "\n",
              "  cancel.remove();\n",
              "\n",
              "  // Disable the input element since further picks are not allowed.\n",
              "  inputElement.disabled = true;\n",
              "\n",
              "  if (!files) {\n",
              "    return {\n",
              "      response: {\n",
              "        action: 'complete',\n",
              "      }\n",
              "    };\n",
              "  }\n",
              "\n",
              "  for (const file of files) {\n",
              "    const li = document.createElement('li');\n",
              "    li.append(span(file.name, {fontWeight: 'bold'}));\n",
              "    li.append(span(\n",
              "        `(${file.type || 'n/a'}) - ${file.size} bytes, ` +\n",
              "        `last modified: ${\n",
              "            file.lastModifiedDate ? file.lastModifiedDate.toLocaleDateString() :\n",
              "                                    'n/a'} - `));\n",
              "    const percent = span('0% done');\n",
              "    li.appendChild(percent);\n",
              "\n",
              "    outputElement.appendChild(li);\n",
              "\n",
              "    const fileDataPromise = new Promise((resolve) => {\n",
              "      const reader = new FileReader();\n",
              "      reader.onload = (e) => {\n",
              "        resolve(e.target.result);\n",
              "      };\n",
              "      reader.readAsArrayBuffer(file);\n",
              "    });\n",
              "    // Wait for the data to be ready.\n",
              "    let fileData = yield {\n",
              "      promise: fileDataPromise,\n",
              "      response: {\n",
              "        action: 'continue',\n",
              "      }\n",
              "    };\n",
              "\n",
              "    // Use a chunked sending to avoid message size limits. See b/62115660.\n",
              "    let position = 0;\n",
              "    do {\n",
              "      const length = Math.min(fileData.byteLength - position, MAX_PAYLOAD_SIZE);\n",
              "      const chunk = new Uint8Array(fileData, position, length);\n",
              "      position += length;\n",
              "\n",
              "      const base64 = btoa(String.fromCharCode.apply(null, chunk));\n",
              "      yield {\n",
              "        response: {\n",
              "          action: 'append',\n",
              "          file: file.name,\n",
              "          data: base64,\n",
              "        },\n",
              "      };\n",
              "\n",
              "      let percentDone = fileData.byteLength === 0 ?\n",
              "          100 :\n",
              "          Math.round((position / fileData.byteLength) * 100);\n",
              "      percent.textContent = `${percentDone}% done`;\n",
              "\n",
              "    } while (position < fileData.byteLength);\n",
              "  }\n",
              "\n",
              "  // All done.\n",
              "  yield {\n",
              "    response: {\n",
              "      action: 'complete',\n",
              "    }\n",
              "  };\n",
              "}\n",
              "\n",
              "scope.google = scope.google || {};\n",
              "scope.google.colab = scope.google.colab || {};\n",
              "scope.google.colab._files = {\n",
              "  _uploadFiles,\n",
              "  _uploadFilesContinue,\n",
              "};\n",
              "})(self);\n",
              "</script> "
            ]
          },
          "metadata": {}
        },
        {
          "output_type": "stream",
          "name": "stdout",
          "text": [
            "Saving images.zip to INPUT/images.zip\n",
            "--2024-10-24 11:47:18--  https://github.com/aubreymoore/code-for-CRB-damage-ai/raw/refs/heads/main/models/3class/train5/weights/best.pt\n",
            "Resolving github.com (github.com)... 140.82.114.4\n",
            "Connecting to github.com (github.com)|140.82.114.4|:443... connected.\n",
            "HTTP request sent, awaiting response... 302 Found\n",
            "Location: https://raw.githubusercontent.com/aubreymoore/code-for-CRB-damage-ai/refs/heads/main/models/3class/train5/weights/best.pt [following]\n",
            "--2024-10-24 11:47:18--  https://raw.githubusercontent.com/aubreymoore/code-for-CRB-damage-ai/refs/heads/main/models/3class/train5/weights/best.pt\n",
            "Resolving raw.githubusercontent.com (raw.githubusercontent.com)... 185.199.108.133, 185.199.109.133, 185.199.110.133, ...\n",
            "Connecting to raw.githubusercontent.com (raw.githubusercontent.com)|185.199.108.133|:443... connected.\n",
            "HTTP request sent, awaiting response... 200 OK\n",
            "Length: 6269721 (6.0M) [application/octet-stream]\n",
            "Saving to: ‘weights.pt’\n",
            "\n",
            "weights.pt          100%[===================>]   5.98M  --.-KB/s    in 0.1s    \n",
            "\n",
            "2024-10-24 11:47:18 (53.9 MB/s) - ‘weights.pt’ saved [6269721/6269721]\n",
            "\n",
            "time: 27.2 s (started: 2024-10-24 11:46:51 +00:00)\n"
          ]
        }
      ]
    },
    {
      "cell_type": "code",
      "source": [
        "\n",
        "# Scan images\n",
        "if input_mode == 'text':\n",
        "  for url in urls:\n",
        "    try:\n",
        "      # image = imutils.url_to_image(url)\n",
        "      image = cv2.imread('image.jpg')\n",
        "      detections, annotated_image = detect_objects(image, model, box_annotator, label_annotator, csv_sink)\n",
        "      csv_sink.append(\n",
        "          detections,\n",
        "          custom_data={'image_h': image.shape[0], 'image_w': image.shape[1], 'source': url}\n",
        "      )\n",
        "\n",
        "      # Extract filename from URL\n",
        "      filename = url.split('/')[-1]\n",
        "      pos = filename.find('?')\n",
        "      if pos >= 0:\n",
        "        filename = filename[:pos]\n",
        "\n",
        "      output_path = f'OUTPUT/{filename}'.replace('.', '_annotated.')\n",
        "      ic(output_path)\n",
        "      os.makedirs(os.path.dirname(output_path), exist_ok = True)\n",
        "      cv2.imwrite(output_path, annotated_image)\n",
        "    except:\n",
        "      print(f'Error processing {url}')\n",
        "    continue\n",
        "\n",
        "if input_mode == 'zip':\n",
        "\n",
        "\n",
        "\n",
        "\n",
        "\n",
        "\n",
        "  input_file_list = get_input_file_list()\n",
        "  ic(input_file_list)\n",
        "  for image_path in input_file_list:\n",
        "    ic(image_path)\n",
        "    try:\n",
        "      image = cv2.imread(image_path)\n",
        "      detections, annotated_image = detect_objects(image, model, box_annotator, label_annotator, csv_sink)\n",
        "      csv_sink.append(\n",
        "          detections,\n",
        "          custom_data={'image_h': image.shape[0], 'image_w': image.shape[1], 'source': image_path}\n",
        "      )\n",
        "\n",
        "      filename = os.path.basename(image_path)\n",
        "      output_path = f'OUTPUT/{filename}'.replace('.', '_annotated.')\n",
        "      os.makedirs(os.path.dirname(output_path), exist_ok = True)\n",
        "      result = cv2.imwrite(output_path, annotated_image)\n",
        "    except:\n",
        "      print(f'Error processing {image_path}')\n",
        "    continue\n",
        "\n",
        "csv_sink.close()"
      ],
      "metadata": {
        "id": "kGRopezOreIr"
      },
      "execution_count": null,
      "outputs": []
    },
    {
      "cell_type": "markdown",
      "source": [
        "## Please click on the Browse buttom when it appears above this cell."
      ],
      "metadata": {
        "id": "5zSjfTXvIv2q"
      }
    },
    {
      "cell_type": "markdown",
      "source": [
        "### Download OUTPUT folder as a ZIP file"
      ],
      "metadata": {
        "id": "NTYyOn8QztJW"
      }
    },
    {
      "cell_type": "code",
      "source": [
        "!zip -r OUTPUT.zip OUTPUT"
      ],
      "metadata": {
        "id": "l8tPKEwW4JPa"
      },
      "execution_count": null,
      "outputs": []
    },
    {
      "cell_type": "code",
      "source": [
        "from google.colab import files\n",
        "files.download(\"OUTPUT.zip\")"
      ],
      "metadata": {
        "id": "ODvR3p_8zG1o"
      },
      "execution_count": null,
      "outputs": []
    },
    {
      "cell_type": "markdown",
      "source": [
        "# FINISHED\n",
        "If everything worked as intended, you should find a file named **OUTPUT.zip** in your Downloads folder. Unzip this file to see results."
      ],
      "metadata": {
        "id": "LOCD7_KCdMh1"
      }
    },
    {
      "cell_type": "code",
      "source": [
        "\n",
        "print('FINISHED')"
      ],
      "metadata": {
        "id": "dfWKUVoS2b92"
      },
      "execution_count": null,
      "outputs": []
    },
    {
      "source": [
        "import zipfile\n",
        "import io\n",
        "import PIL\n",
        "from PIL import Image\n",
        "\n",
        "z = zipfile.ZipFile('INPUT/images.zip')\n",
        "for file_name in z.namelist():\n",
        "  if file_name.lower().endswith(('.jpg', '.jpeg', '.png', '.gif')):  # Check for common image extensions\n",
        "    print(f'Extracting {file_name}...')\n",
        "    with z.open(file_name, 'r') as file: # Use z.open to directly open the file within the zip archive\n",
        "      try:\n",
        "        img = Image.open(file) # Pass the file object to Image.open\n",
        "        # img = Image(file)\n",
        "        print(img)\n",
        "        # print(img.gps_latitude)\n",
        "      # except PIL.UnidentifiedImageError:\n",
        "      #   print(f\"Failed to open {file_name}: UnidentifiedImageError\")\n",
        "      except Exception as e:\n",
        "        print(f\"Failed to open {file_name}: {e}\")\n",
        "      img"
      ],
      "cell_type": "code",
      "metadata": {
        "id": "olKRmeaqRthv",
        "outputId": "688dfec0-78f9-4360-9f10-a9351536c05d",
        "colab": {
          "base_uri": "https://localhost:8080/"
        }
      },
      "execution_count": 27,
      "outputs": [
        {
          "output_type": "stream",
          "name": "stdout",
          "text": [
            "Extracting images/IMG_0671.JPG...\n",
            "<PIL.JpegImagePlugin.JpegImageFile image mode=RGB size=960x720 at 0x78D4C6AE0B20>\n",
            "Extracting images/IMG_0695.JPG...\n",
            "<PIL.JpegImagePlugin.JpegImageFile image mode=RGB size=960x720 at 0x78D4C6AE3190>\n",
            "Extracting images/IMG_0704.JPG...\n",
            "<PIL.JpegImagePlugin.JpegImageFile image mode=RGB size=960x720 at 0x78D4C6AE30A0>\n",
            "Extracting images/IMG_06XX.JPG...\n",
            "Failed to open images/IMG_06XX.JPG: cannot identify image file <zipfile.ZipExtFile name='images/IMG_06XX.JPG' mode='r' compress_type=deflate>\n",
            "Extracting images/IMG_0532.JPG...\n",
            "<PIL.JpegImagePlugin.JpegImageFile image mode=RGB size=960x720 at 0x78D4C6AE0AC0>\n",
            "Extracting images/IMG_0713.JPG...\n",
            "<PIL.JpegImagePlugin.JpegImageFile image mode=RGB size=960x720 at 0x78D4C6AE2560>\n",
            "time: 12.9 ms (started: 2024-10-24 11:56:26 +00:00)\n"
          ]
        }
      ]
    },
    {
      "cell_type": "code",
      "source": [
        "img._getexif\n",
        "\n"
      ],
      "metadata": {
        "id": "fnfMeYqMXTCZ",
        "outputId": "9f09c38e-0cf6-405c-d299-af132254a361",
        "colab": {
          "base_uri": "https://localhost:8080/"
        }
      },
      "execution_count": 33,
      "outputs": [
        {
          "output_type": "execute_result",
          "data": {
            "text/plain": [
              "{34853: {1: 'S',\n",
              "  2: (17.0, 44.0, 53.15),\n",
              "  3: 'E',\n",
              "  4: (168.0, 17.0, 39.25),\n",
              "  5: b'\\x00',\n",
              "  6: 15.7755699134463,\n",
              "  12: 'K',\n",
              "  13: 0.18000000715266395,\n",
              "  16: 'T',\n",
              "  17: 284.4738461538462,\n",
              "  23: 'T',\n",
              "  24: 284.4738461538462,\n",
              "  31: 5.0},\n",
              " 296: 2,\n",
              " 34665: 234,\n",
              " 271: 'Apple',\n",
              " 272: 'iPhone 8 Plus',\n",
              " 305: '15.5',\n",
              " 274: 6,\n",
              " 306: '2022:07:28 10:51:26',\n",
              " 531: 1,\n",
              " 282: 72.0,\n",
              " 283: 72.0,\n",
              " 316: 'iPhone 8 Plus',\n",
              " 36864: b'0232',\n",
              " 37121: b'\\x01\\x02\\x03\\x00',\n",
              " 37377: 5.9077276079652545,\n",
              " 36867: '2022:07:28 10:51:26',\n",
              " 36868: '2022:07:28 10:51:26',\n",
              " 37378: 1.6959938128383605,\n",
              " 37379: 3.8456704875017262,\n",
              " 37380: 0.0,\n",
              " 37383: 5,\n",
              " 37385: 16,\n",
              " 37386: 3.99,\n",
              " 40961: 65535,\n",
              " 40962: 4032,\n",
              " 41989: 28,\n",
              " 41990: 0,\n",
              " 36880: '+11:00',\n",
              " 36881: '+11:00',\n",
              " 36882: '+11:00',\n",
              " 37521: '377',\n",
              " 37396: (2015, 1511, 2217, 1330),\n",
              " 37522: '377',\n",
              " 40963: 3024,\n",
              " 41495: 2,\n",
              " 33434: 0.016666666666666666,\n",
              " 33437: 1.8,\n",
              " 41729: b'\\x01',\n",
              " 34850: 2,\n",
              " 34855: 32,\n",
              " 41986: 0,\n",
              " 40960: b'0100',\n",
              " 41987: 0,\n",
              " 42034: (3.9900000095374253, 6.6, 1.8, 2.8),\n",
              " 42035: 'Apple',\n",
              " 42036: 'iPhone 8 Plus back dual camera 3.99mm f/1.8',\n",
              " 37500: b'Apple iOS\\x00\\x00\\x01MM\\x00#\\x00\\x01\\x00\\t\\x00\\x00\\x00\\x01\\x00\\x00\\x00\\x0e\\x00\\x02\\x00\\x07\\x00\\x00\\x02\\x00\\x00\\x00\\x01\\xb8\\x00\\x03\\x00\\x07\\x00\\x00\\x00h\\x00\\x00\\x03\\xb8\\x00\\x04\\x00\\t\\x00\\x00\\x00\\x01\\x00\\x00\\x00\\x00\\x00\\x05\\x00\\t\\x00\\x00\\x00\\x01\\x00\\x00\\x00\\xb4\\x00\\x06\\x00\\t\\x00\\x00\\x00\\x01\\x00\\x00\\x00_\\x00\\x07\\x00\\t\\x00\\x00\\x00\\x01\\x00\\x00\\x00\\x01\\x00\\x08\\x00\\n\\x00\\x00\\x00\\x03\\x00\\x00\\x04 \\x00\\x0c\\x00\\n\\x00\\x00\\x00\\x02\\x00\\x00\\x048\\x00\\r\\x00\\t\\x00\\x00\\x00\\x01\\x00\\x00\\x000\\x00\\x0e\\x00\\t\\x00\\x00\\x00\\x01\\x00\\x00\\x00\\x04\\x00\\x0f\\x00\\t\\x00\\x00\\x00\\x01\\x00\\x00\\x00\\x02\\x00\\x10\\x00\\t\\x00\\x00\\x00\\x01\\x00\\x00\\x00\\x07\\x00\\x14\\x00\\t\\x00\\x00\\x00\\x01\\x00\\x00\\x00\\x05\\x00\\x16\\x00\\x07\\x00\\x00\\x00H\\x00\\x00\\x04H\\x00\\x17\\x00\\x10\\x00\\x00\\x00\\x01\\x00\\x00\\x04\\x90\\x00\\x19\\x00\\t\\x00\\x00\\x00\\x01\\x00\\x00\\x00\\x00\\x00\\x1a\\x00\\x02\\x00\\x00\\x00\\x06\\x00\\x00\\x04\\x98\\x00\\x1f\\x00\\t\\x00\\x00\\x00\\x01\\x00\\x00\\x00\\x00\\x00 \\x00\\x02\\x00\\x00\\x00%\\x00\\x00\\x04\\x9e\\x00!\\x00\\n\\x00\\x00\\x00\\x01\\x00\\x00\\x04\\xc3\\x00#\\x00\\t\\x00\\x00\\x00\\x02\\x00\\x00\\x04\\xcb\\x00%\\x00\\x10\\x00\\x00\\x00\\x01\\x00\\x00\\x04\\xd3\\x00&\\x00\\t\\x00\\x00\\x00\\x01\\x00\\x00\\x00\\x00\\x00\\'\\x00\\n\\x00\\x00\\x00\\x01\\x00\\x00\\x04\\xdb\\x00+\\x00\\x02\\x00\\x00\\x00%\\x00\\x00\\x04\\xe3\\x00-\\x00\\t\\x00\\x00\\x00\\x01\\x00\\x00\\x15\\xc3\\x00.\\x00\\t\\x00\\x00\\x00\\x01\\x00\\x00\\x00\\x02\\x00/\\x00\\t\\x00\\x00\\x00\\x01\\x00\\x00\\x00.\\x006\\x00\\t\\x00\\x00\\x00\\x01\\x00\\x00\\x04k\\x007\\x00\\t\\x00\\x00\\x00\\x01\\x00\\x00\\x00\\x04\\x00;\\x00\\t\\x00\\x00\\x00\\x01\\x00\\x00\\x00\\x00\\x00<\\x00\\t\\x00\\x00\\x00\\x01\\x00\\x00\\x00\\x00\\x00A\\x00\\t\\x00\\x00\\x00\\x01\\x00\\x00\\x00\\x00\\x00J\\x00\\t\\x00\\x00\\x00\\x01\\x00\\x00\\x00\\x02\\x00\\x00\\x00\\x00U\\x03K\\x02\\xf8\\x00a\\x007\\x00\\x1b\\x00\\x13\\x00\\x17\\x00\\x1d\\x00\\x12\\x006\\x00$\\x00F\\x00N\\x00L\\x00H\\x00\\xab\\x03k\\x03^\\x01P\\x00=\\x00&\\x005\\x00\\x13\\x00\\x0f\\x00\\x12\\x00=\\x00#\\x00F\\x00O\\x00L\\x00B\\x00\\xac\\x03\\xa0\\x03\\xf0\\x01\\x8b\\x004\\x00\\'\\x00,\\x00\\x1e\\x00-\\x00 \\x00F\\x00I\\x00N\\x00N\\x00I\\x00@\\x00\\xa9\\x03\\xa1\\x03\\xd3\\x01\\x94\\x00s\\x00.\\x001\\x00`\\x00V\\x000\\x00M\\x00P\\x00O\\x00O\\x00I\\x00H\\x00\\xa6\\x03\\x9a\\x03N\\x02&\\x01m\\x00-\\x00d\\x00t\\x00O\\x00>\\x00P\\x00P\\x00M\\x00N\\x00K\\x00G\\x00\\xa4\\x03\\x98\\x03\\xe9\\x02\\xd5\\x01\\xb9\\x002\\x003\\x00w\\x00G\\x00G\\x00O\\x00O\\x00Q\\x00Q\\x00J\\x00N\\x00\\xa1\\x03\\x9a\\x03\\x8d\\x03J\\x02\\x97\\x008\\x00\\x80\\x00\\xa7\\x00b\\x00<\\x00H\\x00I\\x00K\\x00J\\x00I\\x00O\\x00\\xee\\x02\\x03\\x03\\xdc\\x02#\\x02|\\x00D\\x005\\x00t\\x005\\x00\\x15\\x002\\x00D\\x00G\\x00M\\x00M\\x00N\\x00\\x92\\x00\\xf4\\x00\\x93\\x01\\xab\\x01O\\x003\\x005\\x00^\\x009\\x00<\\x00>\\x00G\\x00F\\x00S\\x00Q\\x00M\\x00g\\x00a\\x00a\\x00_\\x00;\\x00-\\x00I\\x00_\\x00C\\x00F\\x00A\\x00E\\x00H\\x00M\\x00P\\x00E\\x00\\xb0\\x00)\\x00\"\\x00%\\x00,\\x001\\x00:\\x00G\\x00B\\x00B\\x00A\\x00H\\x00F\\x00G\\x00I\\x00A\\x00\\xbd\\x00+\\x00\\x1e\\x00!\\x00\\x1b\\x00\\x1b\\x00(\\x007\\x00<\\x00>\\x00?\\x00J\\x00E\\x00G\\x00J\\x00C\\x00g\\x00I\\x00-\\x00\\x1d\\x00\\x1f\\x00\\x1f\\x00$\\x00\\'\\x00.\\x00-\\x00=\\x00D\\x00C\\x00D\\x00E\\x00@\\x00r\\x00q\\x004\\x00#\\x00&\\x00#\\x00\\x15\\x00\\x1e\\x00\"\\x00\\'\\x00:\\x00C\\x00C\\x00A\\x00E\\x00D\\x00V\\x00X\\x005\\x00-\\x00&\\x00\\x1b\\x00\\x16\\x00#\\x00.\\x00*\\x00<\\x00C\\x00C\\x00A\\x00D\\x00B\\x00p\\x00M\\x001\\x00\"\\x00$\\x00\\x1a\\x00\\x15\\x00!\\x003\\x005\\x00?\\x00B\\x00F\\x00B\\x00B\\x00B\\x00bplist00\\xd4\\x01\\x02\\x03\\x04\\x05\\x06\\x07\\x08UflagsUvalueYtimescaleUepoch\\x10\\x01\\x13\\x00\\x00!\\xb5b\\x0f\\x1d\\xb8\\x12;\\x9a\\xca\\x00\\x10\\x00\\x08\\x11\\x17\\x1d\\'-/8=\\x00\\x00\\x00\\x00\\x00\\x00\\x01\\x01\\x00\\x00\\x00\\x00\\x00\\x00\\x00\\t\\x00\\x00\\x00\\x00\\x00\\x00\\x00\\x00\\x00\\x00\\x00\\x00\\x00\\x00\\x00?\\xff\\xff\\xa2S\\x00\\x01\\x8a]\\xff\\xffy\\xbe\\x00\\x00\\x9d\\xf5\\xff\\xff\\xf0q\\x00\\x00G*\\x00\\x00!\\x17\\x00\\x00\\x01\\x00\\x00\\x00\\t\\r\\x00\\x00\\x00@bplist00_\\x10\\x1cAY75hCq+VSbd4ZzIbToP0KCKUo99\\x08\\x00\\x00\\x00\\x00\\x00\\x00\\x01\\x01\\x00\\x00\\x00\\x00\\x00\\x00\\x00\\x01\\x00\\x00\\x00\\x00\\x00\\x00\\x00\\x00\\x00\\x00\\x00\\x00\\x00\\x00\\x00\\'\\x00\\x00\\x00\\x00\\x00\\x00 \\x00q825s\\x0015DEE34E-8306-4CB0-9DC4-645DB027155B\\x00\\x00\\x00\\x00\\x00\\x00\\x00\\x00\\x01\\x00\\x00\\x00\\x00 \\x00\\x03\\xcf\\x00\\x00\\x00\\x00\\x00\\x00\\x00\\x00\\x00\\x00\\x00\\x00\\x00\\x00\\x00\\x01F4F644F1-D8E1-4A9B-B5C3-3545808F4528\\x00'}"
            ]
          },
          "metadata": {},
          "execution_count": 33
        },
        {
          "output_type": "stream",
          "name": "stdout",
          "text": [
            "time: 9.52 ms (started: 2024-10-24 12:02:50 +00:00)\n"
          ]
        }
      ]
    }
  ]
}